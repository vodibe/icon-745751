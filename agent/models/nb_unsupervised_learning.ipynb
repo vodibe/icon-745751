{
 "cells": [
  {
   "cell_type": "markdown",
   "metadata": {},
   "source": [
    "# Apprendimento Non Supervisionato\n",
    "\n",
    "*La sezione Valutazione è presente nel file `docs/report.pdf`.*"
   ]
  },
  {
   "cell_type": "markdown",
   "metadata": {},
   "source": [
    "## Sommario \n",
    "\n",
    "......"
   ]
  },
  {
   "cell_type": "markdown",
   "metadata": {},
   "source": [
    "## Strumenti utilizzati\n",
    "\n",
    "Da una prima osservazione del numero di elementi del DS, possiamo concludere che non sarebbe conveniente implementare un modello complesso come un'ANN. I modelli costruiti in seguito sono implementati mediante libreria [scikit-learn](https://scikit-learn.org/stable/modules/classes.html). Le operazioni più elementari su Dataset, matrici e array vengono fatte tramite [pandas](https://pandas.pydata.org/) e [numpy](https://numpy.org/).\n",
    "\n",
    "Bisogna innanzitutto effettuare una prima fase di Preprocessing del DS."
   ]
  },
  {
   "cell_type": "markdown",
   "metadata": {},
   "source": [
    "## Clustering e decisioni di progetto\n",
    "\n",
    "Da una prima osservazione del numero di elementi del DS, possiamo concludere che non sarebbe conveniente implementare un modello complesso come un'ANN. I modelli costruiti in seguito sono implementati mediante libreria [scikit-learn](https://scikit-learn.org/stable/modules/classes.html). Le operazioni più elementari su Dataset, matrici e array vengono fatte tramite [pandas](https://pandas.pydata.org/) e [numpy](https://numpy.org/).\n",
    "\n",
    "Bisogna innanzitutto effettuare una prima fase di Preprocessing del DS."
   ]
  },
  {
   "cell_type": "markdown",
   "metadata": {},
   "source": [
    "### Hard Clustering"
   ]
  }
 ],
 "metadata": {
  "kernelspec": {
   "display_name": "Python 3.10.7 ('venv': venv)",
   "language": "python",
   "name": "python3"
  },
  "language_info": {
   "name": "python",
   "version": "3.10.7"
  },
  "orig_nbformat": 4,
  "vscode": {
   "interpreter": {
    "hash": "6126b564a5d1e2c6e99ae68d8ec250149d00b6eefd8728f1ca2a8862c1e8aa2a"
   }
  }
 },
 "nbformat": 4,
 "nbformat_minor": 2
}
