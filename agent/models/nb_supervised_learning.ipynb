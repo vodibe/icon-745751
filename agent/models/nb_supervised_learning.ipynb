{
  "cells": [
    {
      "cell_type": "markdown",
      "metadata": {
        "id": "x2UmqMhHG3ad"
      },
      "source": [
        "# Apprendimento Supervisionato\n",
        "\n",
        "*La sezione Valutazione è presente nel file `docs/report.pdf`.*"
      ]
    },
    {
      "cell_type": "markdown",
      "metadata": {},
      "source": [
        "## Sommario \n",
        "\n",
        "La rappresentazione tramite modello NDOM discussa nella sezione precedente ci ha permesso, di fatto, di ingegnerizzare e aggiungere al DS iniziale 8 nuove feature, `task1`, `task2`, ..., `task8`.\n",
        "In questa sezione costruiamo e valutiamo dei modelli di apprendimento supervisionato (SL) che eseguono un task di regressione, cioè predizione del valore della feature target `metric` avente dominio continuo."
      ]
    },
    {
      "cell_type": "markdown",
      "metadata": {},
      "source": [
        "## Strumenti utilizzati\n",
        "\n",
        "Da una prima osservazione del numero di elementi del DS, possiamo concludere che non sarebbe conveniente implementare un modello complesso come un'ANN. I modelli costruiti in seguito sono modelli classici implementati tramite libreria [scikit-learn](https://scikit-learn.org/stable/modules/classes.html). Le operazioni più elementari su Dataset, matrici e array vengono fatte tramite [pandas](https://pandas.pydata.org/) e [numpy](https://numpy.org/).\n",
        "\n",
        "Prima però, bisogna effettuare una prima fase di Preprocessing e osservazione del DS."
      ]
    },
    {
      "cell_type": "markdown",
      "metadata": {
        "id": "IKrhNglYedjm"
      },
      "source": [
        "## Preprocessing del DS"
      ]
    },
    {
      "cell_type": "markdown",
      "metadata": {
        "id": "6eYqqbIsefaB"
      },
      "source": [
        "### Caricamento del DS e Feature Selection\n",
        "\n",
        "Innanzitutto, una prima osservazione da fare è che il DS che utilizzeremo per l'addestramento dei modelli non comprende la feature `page_ungrouped_multim` e `page_menu_or`. Ricordiamo che queste due feature sono dei fattori di decisione che l'utente considera osservando direttamente la pagina e che si ritengono non osservabili a partire dal solo codice sorgente. Discorso diverso vale per la feature `page_template` per la quale in questo progetto si assume che possa essere comunque estratta automaticamente a partire dal codice sorgente della pagina. Questa operazione infatti può essere automatizzata analizzando le risorse esterne (fogli di stile, codice JS, ...) che la pagina scarica dal server web.\n",
        "\n",
        "Inoltre, per questa sezione le feature `ds3_features_pk` vengono ignorate perchè stringhe di individuazione univoca della pagina.\n"
      ]
    },
    {
      "cell_type": "code",
      "execution_count": 1,
      "metadata": {
        "colab": {
          "base_uri": "https://localhost:8080/",
          "height": 163
        },
        "id": "PH6mS-80ekg4",
        "outputId": "551404ff-f678-49c9-af9e-1fa62d5a5c70"
      },
      "outputs": [
        {
          "data": {
            "text/html": [
              "<div>\n",
              "<style scoped>\n",
              "    .dataframe tbody tr th:only-of-type {\n",
              "        vertical-align: middle;\n",
              "    }\n",
              "\n",
              "    .dataframe tbody tr th {\n",
              "        vertical-align: top;\n",
              "    }\n",
              "\n",
              "    .dataframe thead th {\n",
              "        text-align: right;\n",
              "    }\n",
              "</style>\n",
              "<table border=\"1\" class=\"dataframe\">\n",
              "  <thead>\n",
              "    <tr style=\"text-align: right;\">\n",
              "      <th></th>\n",
              "      <th>school_id</th>\n",
              "      <th>page_url</th>\n",
              "      <th>page_load_time_ms</th>\n",
              "      <th>page_width</th>\n",
              "      <th>page_height</th>\n",
              "      <th>NDOM_nodes</th>\n",
              "      <th>NDOM_height</th>\n",
              "      <th>page_template</th>\n",
              "      <th>page_menu_or</th>\n",
              "      <th>page_ungrouped_multim</th>\n",
              "      <th>metric</th>\n",
              "      <th>task1</th>\n",
              "      <th>task2</th>\n",
              "      <th>task3</th>\n",
              "      <th>task4</th>\n",
              "      <th>task5</th>\n",
              "      <th>task6</th>\n",
              "      <th>task7</th>\n",
              "      <th>task8</th>\n",
              "    </tr>\n",
              "  </thead>\n",
              "  <tbody>\n",
              "    <tr>\n",
              "      <th>0</th>\n",
              "      <td>CBSL00201A</td>\n",
              "      <td>https://www.liceopagano.edu.it</td>\n",
              "      <td>516</td>\n",
              "      <td>1604</td>\n",
              "      <td>848</td>\n",
              "      <td>1</td>\n",
              "      <td>0</td>\n",
              "      <td>9.0</td>\n",
              "      <td>2.0</td>\n",
              "      <td>6.0</td>\n",
              "      <td>2.9</td>\n",
              "      <td>6.50</td>\n",
              "      <td>6.50</td>\n",
              "      <td>6.50</td>\n",
              "      <td>6.5</td>\n",
              "      <td>6.50</td>\n",
              "      <td>6.5</td>\n",
              "      <td>6.50</td>\n",
              "      <td>6.50</td>\n",
              "    </tr>\n",
              "    <tr>\n",
              "      <th>1</th>\n",
              "      <td>RGTD03002X</td>\n",
              "      <td>https://www.itcbesta.edu.it</td>\n",
              "      <td>1278</td>\n",
              "      <td>1587</td>\n",
              "      <td>2441</td>\n",
              "      <td>162</td>\n",
              "      <td>7</td>\n",
              "      <td>6.0</td>\n",
              "      <td>1.0</td>\n",
              "      <td>8.0</td>\n",
              "      <td>3.7</td>\n",
              "      <td>1.37</td>\n",
              "      <td>2.10</td>\n",
              "      <td>2.75</td>\n",
              "      <td>6.5</td>\n",
              "      <td>2.10</td>\n",
              "      <td>5.6</td>\n",
              "      <td>3.83</td>\n",
              "      <td>6.50</td>\n",
              "    </tr>\n",
              "    <tr>\n",
              "      <th>2</th>\n",
              "      <td>CSPS07301E</td>\n",
              "      <td>https://www.iismarconiguarasci.edu.it/</td>\n",
              "      <td>1006</td>\n",
              "      <td>1587</td>\n",
              "      <td>2533</td>\n",
              "      <td>348</td>\n",
              "      <td>3</td>\n",
              "      <td>3.0</td>\n",
              "      <td>3.0</td>\n",
              "      <td>10.0</td>\n",
              "      <td>4.0</td>\n",
              "      <td>1.30</td>\n",
              "      <td>1.65</td>\n",
              "      <td>3.07</td>\n",
              "      <td>3.3</td>\n",
              "      <td>1.92</td>\n",
              "      <td>0.3</td>\n",
              "      <td>6.50</td>\n",
              "      <td>2.51</td>\n",
              "    </tr>\n",
              "  </tbody>\n",
              "</table>\n",
              "</div>"
            ],
            "text/plain": [
              "    school_id                                page_url  page_load_time_ms  \\\n",
              "0  CBSL00201A          https://www.liceopagano.edu.it                516   \n",
              "1  RGTD03002X             https://www.itcbesta.edu.it               1278   \n",
              "2  CSPS07301E  https://www.iismarconiguarasci.edu.it/               1006   \n",
              "\n",
              "   page_width  page_height  NDOM_nodes  NDOM_height  page_template  \\\n",
              "0        1604          848           1            0            9.0   \n",
              "1        1587         2441         162            7            6.0   \n",
              "2        1587         2533         348            3            3.0   \n",
              "\n",
              "   page_menu_or  page_ungrouped_multim  metric  task1  task2  task3  task4  \\\n",
              "0           2.0                    6.0     2.9   6.50   6.50   6.50    6.5   \n",
              "1           1.0                    8.0     3.7   1.37   2.10   2.75    6.5   \n",
              "2           3.0                   10.0     4.0   1.30   1.65   3.07    3.3   \n",
              "\n",
              "   task5  task6  task7  task8  \n",
              "0   6.50    6.5   6.50   6.50  \n",
              "1   2.10    5.6   3.83   6.50  \n",
              "2   1.92    0.3   6.50   2.51  "
            ]
          },
          "execution_count": 1,
          "metadata": {},
          "output_type": "execute_result"
        }
      ],
      "source": [
        "import agent.definitions as defs\n",
        "import pandas as pd\n",
        "\n",
        "df = pd.read_csv(defs.ds3_gt_final_path)\n",
        "\n",
        "ds3_features_pk = [\"school_id\", \"page_url\"]\n",
        "ds3_features_part1 = [\"page_menu_or\", \"page_ungrouped_multim\"] # osservate manualmente\n",
        "ds3_features_part2 = [ # osservate automaticamente\n",
        "    \"page_template\",\n",
        "    \"page_load_time_ms\",\n",
        "    \"page_width\",\n",
        "    \"page_height\",\n",
        "    \"NDOM_nodes\",\n",
        "    \"NDOM_height\",\n",
        "]\n",
        "ds3_features_part3 = [\"task1\", \"task2\", \"task3\", \"task4\", \"task5\", \"task6\", \"task7\", \"task8\"]\n",
        "ds3_target = \"metric\"\n",
        "\n",
        "# features\n",
        "ds3_features = (\n",
        "    ds3_features_pk + ds3_features_part1 + ds3_features_part2 + ds3_features_part3\n",
        ")\n",
        "ds3_features.append(ds3_target)\n",
        "\n",
        "# >>>\n",
        "df.head(3)"
      ]
    },
    {
      "cell_type": "markdown",
      "metadata": {
        "id": "1CIO1hmsofrV"
      },
      "source": [
        "### Rilevazione rumore nel DS\n",
        "\n",
        "In questa sezione andiamo a rilevare eventuali valori del DS che non rientrano nel dominio della feature associata. Conoscendo il dominio teorico di ciascuna feature, li rappresentiamo tutti in forma interpretabile del linguaggio Python, mediante un dizionario: i domini discreti sono il tipo `str` o una lista; i domini continui sono delle funzioni lambda.   "
      ]
    },
    {
      "cell_type": "code",
      "execution_count": 2,
      "metadata": {
        "colab": {
          "base_uri": "https://localhost:8080/"
        },
        "id": "pS3v0g4lok8a",
        "outputId": "8f1e8f4e-5a87-4fae-b8c6-ecf52ca929be"
      },
      "outputs": [
        {
          "name": "stdout",
          "output_type": "stream",
          "text": [
            "Discrete: ['page_template', 'page_menu_or']\n",
            "Continuous: ['page_ungrouped_multim', 'metric', 'page_load_time_ms', 'page_width', 'page_height', 'NDOM_nodes', 'NDOM_height', 'task1', 'task2', 'task3', 'task4', 'task5', 'task6', 'task7', 'task8']\n"
          ]
        }
      ],
      "source": [
        "# estremi dei domini di alcune feature\n",
        "PAGE_TEMPLATE_MIN_VAL = 1\n",
        "PAGE_TEMPLATE_MAX_VAL = 9\n",
        "\n",
        "PAGE_MENU_OR_MIN_VAL = 0\n",
        "PAGE_MENU_OR_MAX_VAL = 3\n",
        "\n",
        "METRIC_MIN_VAL = 1\n",
        "METRIC_MAX_VAL = 5\n",
        "\n",
        "# domini feature. un dominio può essere un tipo, una lista\n",
        "# o una funzione lambda (per domini infiniti, cioè per features continue)\n",
        "ds3_gt_feature_domains = {\n",
        "    \"school_id\": str,\n",
        "    \"page_url\": str,\n",
        "    \"page_template\": [x for x in range(PAGE_TEMPLATE_MIN_VAL, PAGE_TEMPLATE_MAX_VAL + 1)],\n",
        "    \"page_menu_or\": [x for x in range(PAGE_MENU_OR_MIN_VAL, PAGE_MENU_OR_MAX_VAL + 1)],\n",
        "    \"page_ungrouped_multim\": lambda v: v >= 0 and v % 1 == 0, # numero naturale\n",
        "    \"metric\": lambda v: v >= METRIC_MIN_VAL and v <= METRIC_MAX_VAL,\n",
        "    \"page_load_time_ms\": lambda v: v >= 0,\n",
        "    \"page_width\": lambda v: v >= 0,\n",
        "    \"page_height\": lambda v: v >= 0,\n",
        "    \"NDOM_nodes\": lambda v: v >= 0 and v % 1 == 0,\n",
        "    \"NDOM_height\": lambda v: v >= 0 and v % 1 == 0,\n",
        "    \"task1\": lambda v: v >= 0,\n",
        "    \"task2\": lambda v: v >= 0,\n",
        "    \"task3\": lambda v: v >= 0,\n",
        "    \"task4\": lambda v: v >= 0,\n",
        "    \"task5\": lambda v: v >= 0,\n",
        "    \"task6\": lambda v: v >= 0,\n",
        "    \"task7\": lambda v: v >= 0,\n",
        "    \"task8\": lambda v: v >= 0,\n",
        "}\n",
        "# altra rappresentazione possibile del dominio di metric\n",
        "#\"metric\": [\n",
        "#    x / 10\n",
        "#    for x in range((1 * 10), (5 * 10 + int(0.1 * 10)))\n",
        "#],\n",
        "\n",
        "\n",
        "def get_features_types(feature_domains: dict):\n",
        "    \"\"\"Restituisce le features discrete e continue.\n",
        "\n",
        "    Args:\n",
        "        - features_domains: Dizionario feature:dominio che rispetta la sintassi espressa sopra.\n",
        "\n",
        "    Returns:\n",
        "        - features_d: Lista di features discrete.\n",
        "        - features_c: Lista di features continue.\n",
        "    \"\"\"\n",
        "\n",
        "    features_d = []\n",
        "    features_c = []\n",
        "\n",
        "    for feature, domain in feature_domains.items():\n",
        "        if (isinstance(domain, list)): # or (domain is str)\n",
        "            features_d.append(feature)\n",
        "        elif callable(domain) and isinstance(domain, type(lambda x: x)):\n",
        "            features_c.append(feature)\n",
        "        else:\n",
        "            pass\n",
        "\n",
        "    return features_d, features_c\n",
        "\n",
        "# >>>\n",
        "features_discrete, features_continuous = get_features_types(ds3_gt_feature_domains)\n",
        "print(f\"Discrete: {features_discrete}\")\n",
        "print(f\"Continuous: {features_continuous}\")\n"
      ]
    },
    {
      "cell_type": "markdown",
      "metadata": {
        "id": "9C1ki0a2nevL"
      },
      "source": [
        "Controlliamo il modo in cui le feature sono rappresentate all'interno DS."
      ]
    },
    {
      "cell_type": "code",
      "execution_count": 3,
      "metadata": {
        "colab": {
          "base_uri": "https://localhost:8080/"
        },
        "id": "q_lUwJg-o7Ei",
        "outputId": "ea472b99-634a-45ed-9b94-96482d462f90"
      },
      "outputs": [
        {
          "data": {
            "text/plain": [
              "school_id                 object\n",
              "page_url                  object\n",
              "page_load_time_ms          int64\n",
              "page_width                 int64\n",
              "page_height                int64\n",
              "NDOM_nodes                 int64\n",
              "NDOM_height                int64\n",
              "page_template            float64\n",
              "page_menu_or             float64\n",
              "page_ungrouped_multim    float64\n",
              "metric                   float64\n",
              "task1                    float64\n",
              "task2                    float64\n",
              "task3                    float64\n",
              "task4                    float64\n",
              "task5                    float64\n",
              "task6                    float64\n",
              "task7                    float64\n",
              "task8                    float64\n",
              "dtype: object"
            ]
          },
          "execution_count": 3,
          "metadata": {},
          "output_type": "execute_result"
        }
      ],
      "source": [
        "df.dtypes"
      ]
    },
    {
      "cell_type": "markdown",
      "metadata": {
        "id": "rHvWP6lio-wY"
      },
      "source": [
        "Come possiamo vedere, tutte le feature  discrete (`page_template`, `page_menu_or`) sono già rappresentate in forma numerica, per cui non c'è bisogno di usare nessuno degli [Encoder](https://scikit-learn.org/stable/modules/generated/sklearn.preprocessing.LabelEncoder.html) previsti dalla libreria scikit-learn. Piuttosto, facciamo in modo che le feature discrete vengano rappresentate  da numeri `int64` e non da `float64`."
      ]
    },
    {
      "cell_type": "code",
      "execution_count": 4,
      "metadata": {
        "colab": {
          "base_uri": "https://localhost:8080/"
        },
        "id": "75rK3V5zwjjG",
        "outputId": "78787a86-e09a-4480-e3e7-d23c1ca3eed2"
      },
      "outputs": [
        {
          "data": {
            "text/plain": [
              "school_id                 object\n",
              "page_url                  object\n",
              "page_load_time_ms          int64\n",
              "page_width                 int64\n",
              "page_height                int64\n",
              "NDOM_nodes                 int64\n",
              "NDOM_height                int64\n",
              "page_template              int64\n",
              "page_menu_or               int64\n",
              "page_ungrouped_multim    float64\n",
              "metric                   float64\n",
              "task1                    float64\n",
              "task2                    float64\n",
              "task3                    float64\n",
              "task4                    float64\n",
              "task5                    float64\n",
              "task6                    float64\n",
              "task7                    float64\n",
              "task8                    float64\n",
              "dtype: object"
            ]
          },
          "execution_count": 4,
          "metadata": {},
          "output_type": "execute_result"
        }
      ],
      "source": [
        "import numpy as np\n",
        "\n",
        "float64 = np.dtype('float64')\n",
        "\n",
        "for feature_d in features_discrete:\n",
        "    if df[feature_d].dtype is float64:\n",
        "        df[feature_d] = df[feature_d].astype(np.int64)\n",
        "\n",
        "# >>>\n",
        "df.dtypes"
      ]
    },
    {
      "cell_type": "markdown",
      "metadata": {
        "id": "IH636c4XbAzC"
      },
      "source": [
        "Controlliamo se esistono valori del DS che non rientrano nei rispettivi domini."
      ]
    },
    {
      "cell_type": "code",
      "execution_count": 5,
      "metadata": {
        "colab": {
          "base_uri": "https://localhost:8080/"
        },
        "id": "0vW4-g3lbrv5",
        "outputId": "2eb8a0de-77d3-4836-c9b8-60b9d701a12b"
      },
      "outputs": [
        {
          "name": "stdout",
          "output_type": "stream",
          "text": [
            "Detecting noisy rows...\n",
            "3 noisy row(s) exist! Please check them.\n",
            "     page_menu_or  page_ungrouped_multim\n",
            "805             2                    4.2\n",
            "924            11                   24.0\n",
            "701             6                    6.0\n"
          ]
        }
      ],
      "source": [
        "from pandas import DataFrame\n",
        "\n",
        "def is_in_feature_domain(domain, value) -> bool:\n",
        "    \"\"\"Dato il dominio di una feature, restituisce True se value compare nel dominio,\n",
        "    False altrimenti.\n",
        "\n",
        "    Args:\n",
        "        - domain: Dominio di una feature. Può essere un tipo (es. str), una lista o una funzione lambda.\n",
        "        - value: Valore da controllare.\n",
        "    \"\"\"\n",
        "\n",
        "    if domain is str:\n",
        "        return isinstance(value, str)\n",
        "\n",
        "    elif isinstance(domain, list):\n",
        "        return value in domain\n",
        "\n",
        "    elif callable(domain) and isinstance(domain, type(lambda x: x)):\n",
        "        return domain(value)\n",
        "\n",
        "    else:\n",
        "        return False\n",
        "\n",
        "\n",
        "def detect_noisy_rows_values(df: DataFrame, domains: dict):\n",
        "    \"\"\"Rileva quali sono le righe del DS df in cui almeno una feature non è corretta,\n",
        "    cioè non rientra nel suo dominio.\n",
        "\n",
        "    Args:\n",
        "        - df: Istanza Dataframe.\n",
        "        - ds_feature_domains: Dizionario feature:funzione di validazione.\n",
        "\n",
        "    Returns:\n",
        "        - noisy_rows: Righe in cui esiste almeno una colonna con valori errati.\n",
        "        - noisy_cols: Colonne i cui valori in corrispondenza sono errati.\n",
        "    \"\"\"\n",
        "\n",
        "    print(\"Detecting noisy rows...\")\n",
        "    noisy_rows = set()\n",
        "    noisy_cols = set()\n",
        "\n",
        "    for column in list(domains.keys()):\n",
        "        serie = df[column]\n",
        "\n",
        "        for i, el in serie.items():\n",
        "            if not is_in_feature_domain(domains[column], el):\n",
        "                noisy_rows.add(i)\n",
        "                noisy_cols.add(df.columns.get_loc(column))\n",
        "\n",
        "    if noisy_rows:\n",
        "        print(f\"{len(noisy_rows)} noisy row(s) exist! Please check them.\")\n",
        "    else:\n",
        "        print(\"No noisy rows exist.\")\n",
        "\n",
        "    return list(noisy_rows), list(noisy_cols)\n",
        "\n",
        "\n",
        "# >>>\n",
        "noisy_rows, noisy_cols = detect_noisy_rows_values(df, ds3_gt_feature_domains)\n",
        "\n",
        "if noisy_rows:\n",
        "  print(df.iloc[noisy_rows, noisy_cols])"
      ]
    },
    {
      "cell_type": "markdown",
      "metadata": {
        "id": "AUnPYfMD5u2A"
      },
      "source": [
        "Ri-effetuiamo la valutazione per i siti che compaiono in questa lista e inseriamole in un nuovo DS."
      ]
    },
    {
      "cell_type": "code",
      "execution_count": 6,
      "metadata": {
        "colab": {
          "base_uri": "https://localhost:8080/"
        },
        "id": "zTGRpXdA6OYG",
        "outputId": "730ad14c-48d9-4505-d78e-1d90338f2595"
      },
      "outputs": [
        {
          "name": "stdout",
          "output_type": "stream",
          "text": [
            "Detecting noisy rows...\n",
            "No noisy rows exist.\n"
          ]
        }
      ],
      "source": [
        "ds = pd.read_csv(defs.ds3_gt_no_noise_path)\n",
        "\n",
        "# >>>\n",
        "noisy_rows, noisy_cols = detect_noisy_rows_values(ds, ds3_gt_feature_domains)\n",
        "\n",
        "if noisy_rows:\n",
        "  print(ds.iloc[noisy_rows, noisy_cols])"
      ]
    },
    {
      "cell_type": "markdown",
      "metadata": {
        "id": "wb0iGqw1Ak-5"
      },
      "source": [
        "### Panoramica distribuzione valori e Feature Correlation\n",
        "\n",
        "Fino ad ora siamo giunti alla creazione del DS finale da usare per i modelli, ma non abbiamo ancora dato uno sguardo alla popolarità dei valori dei domini delle variabili. Per cui generiamo gli istogrammi indicanti la distribuzione dei dati."
      ]
    },
    {
      "cell_type": "code",
      "execution_count": 7,
      "metadata": {
        "colab": {
          "base_uri": "https://localhost:8080/",
          "height": 687
        },
        "id": "w-VTqE1MB6D8",
        "outputId": "985506b5-0198-4ab5-ebca-3244b8f1972c"
      },
      "outputs": [
        {
          "data": {
            "text/plain": [
              "Text(0.5, 0.98, 'Distribution for each feature domain value')"
            ]
          },
          "execution_count": 7,
          "metadata": {},
          "output_type": "execute_result"
        },
        {
          "data": {
            "image/png": "[encoded data removed]",
            "text/plain": [
              "<Figure size 1400x1200 with 20 Axes>"
            ]
          },
          "metadata": {},
          "output_type": "display_data"
        }
      ],
      "source": [
        "import matplotlib.pyplot as plt\n",
        "\n",
        "hist_columns = ds3_features_part1 + ds3_features_part2 + ds3_features_part3\n",
        "hist_columns.append(ds3_target)\n",
        "\n",
        "# >>>\n",
        "ds.hist(column=hist_columns, figsize=(14,12), bins=25)\n",
        "plt.suptitle(\"Distribution for each feature domain value\")"
      ]
    },
    {
      "cell_type": "markdown",
      "metadata": {
        "id": "RmkGQR10CAT8"
      },
      "source": [
        "Facciamo alcune osservazioni:\n",
        "- I template più popolari sono senza dubbio il #5 e #8, anche se c'è una buona quantità di siti che non seguono un modello vero e proprio (#9).\n",
        "- Riguardo all'orientamento dei menu, ~94% di siti presentano un menu orizzontale. ~20% delle pagine con un menu orizzontale ne presentano anche un altro verticale.\n",
        "- Riguardo il numero di elementi multimediali non raggruppati, le pagine confermano il trend (se vogliamo negativo) di banner e/o video sparsi senza criterio sulla pagina: solo il ~19% ne presenta 0, tutti i restanti ne hanno almeno uno.\n",
        "- Per l'istogramma relativo alla metrica notiamo che la scala verticale si ferma a poco meno di 200, per cui non c'è un valore del dominio di `metric` che \"monopolizza\" il DS.\n",
        "- In generale, tutte le features continue mostrate nel grafico non seguono una distribuzione normale. \n",
        "\n",
        "Di seguito è anche possibile visualizzare la correlazione che c'è tra ciascuna feature, e più in particolare, è di nostro interesse la misura con cui ciascuna input feature incide sulla feature target `metric`. Ne traiamo le seguenti osservazioni:\n",
        "- Nel quadrante in basso a destra si nota una correlazione diretta (positiva) tra le feature `taskx`. Il motivo potrebbe essere che, poichè i task dipendono tutti dalla struttura della pagina e dalla struttura dei menu, se l'utente fatica a trovare un certo task (ad es. il Regolamento di Istituto, che è il `task2`), faticherà anche a trovare i task simili (l'organigramma scolastico, che è il `task5` ed è un task più o meno inerente al Regolamento.)\n",
        "- Il quadrato blu indica una correlazione alta (ma comunque < -1) e inversa tra `metric` e `page_ungrouped_multim`: aumentano gli elementi multimediali confusionari, diminuisce la valutazione.\n",
        "\n",
        "Ovviamente questa Feature Heatmap non può generalizzare troppo, è da ritenersi come una semplice rappresentazione grafica del GT. "
      ]
    },
    {
      "cell_type": "code",
      "execution_count": 8,
      "metadata": {
        "colab": {
          "base_uri": "https://localhost:8080/",
          "height": 613
        },
        "id": "Cl3UpXmwB053",
        "outputId": "ae6b622e-c660-4b06-83fe-9912da491286"
      },
      "outputs": [
        {
          "data": {
            "text/plain": [
              "<Axes: >"
            ]
          },
          "execution_count": 8,
          "metadata": {},
          "output_type": "execute_result"
        },
        {
          "data": {
            "image/png": "[encoded data removed]",
            "text/plain": [
              "<Figure size 640x480 with 2 Axes>"
            ]
          },
          "metadata": {},
          "output_type": "display_data"
        }
      ],
      "source": [
        "import seaborn as sns\n",
        "\n",
        "ds_correlation = ds.drop(ds3_features_pk+features_discrete, axis=1).corr(method=\"pearson\")\n",
        "sns.heatmap(ds_correlation, linewidths=0.5, linecolor='darkgray', cmap=\"coolwarm\")"
      ]
    },
    {
      "cell_type": "markdown",
      "metadata": {
        "id": "EFNLdl1Am_q-"
      },
      "source": [
        "## Modelli di regressione e decisioni di progetto\n",
        "\n",
        "In questa sezione cerchiamo il/i modello/i che si avvicina di più al Ground Truth, mettendoli tutti su una stessa scala di giudizio, ovvero le metriche di misurazione degli errori.\n",
        "\n",
        "A causa numero piuttosto limitati di esempi del DS, assumiamo che le metriche di un qualsiasi modello devono essere calcolate facendo in modo che il modello possa sfruttare i dati dell'intero DS. Per questo motivo, possiamo dire che la tecnica di [k-fold Cross Validation](https://scikit-learn.org/stable/modules/cross_validation.html) verrà impiegata in due casistiche:\n",
        "- vogliamo ottenere delle metriche di errore affidabili per un determinato modello, magari quando sappiamo a priori una certa configurazione di iperparametri. Solamente in questo caso la CV genera k Split, cioè k modalità di utilizzo **di tutto il DS**.\n",
        "- vogliamo trovare una configurazione ottimale di iperparametri per un determinato modello. In questo caso, dobbiamo prima nascondere il TE dai modelli e in seguito applicare la CV usando i dati del TS.\n",
        "\n",
        "Di seguito andiamo a creare `X` (DS ridotto alle sole feature di input) e `y` (DS ridotto alla feature target `metric`). Successivamente, dividiamo il DS in TS e TE secondo il rapporto 7.5:2.5."
      ]
    },
    {
      "cell_type": "code",
      "execution_count": 9,
      "metadata": {},
      "outputs": [],
      "source": [
        "from sklearn.model_selection import train_test_split\n",
        "\n",
        "# dataset-------\n",
        "ds3_features_excluded = ds3_features_pk + [\"page_menu_or\", \"task4\", \"task5\", \"task6\", \"task7\" , \"task8\"] # ds3_features_part1 + [\"task4\", \"task5\", \"task6\", \"task7\" , \"task8\"]\n",
        "ds3_features_excluded.append(ds3_target)\n",
        "\n",
        "# X (tabella con colonne input feature) e y (tabella target)\n",
        "X_DS = ds.drop(ds3_features_excluded, axis=1)\n",
        "y_DS = ds[ds3_target]\n",
        "\n",
        "# anche in forma di ndarray per numpy\n",
        "X_DS_ = X_DS.to_numpy()\n",
        "y_DS_ = y_DS.to_numpy()\n",
        "\n",
        "# TS e TE-------\n",
        "X_TS, X_TE, gt_y_TS, gt_y_TE = train_test_split(X_DS, y_DS, test_size=0.25, random_state=42)\n",
        "\n",
        "# anche in forma di ndarray per numpy\n",
        "X_TS_ = X_TS.to_numpy()\n",
        "gt_y_TS_ = gt_y_TS.to_numpy()\n",
        "X_TE_ = X_TE.to_numpy()\n",
        "gt_y_TE_ = gt_y_TE.to_numpy()"
      ]
    },
    {
      "cell_type": "markdown",
      "metadata": {
        "id": "rxnlPBJb8JzO"
      },
      "source": [
        "### Regressore Lineare\n",
        "\n",
        "Il regressore lineare utiizza il metodo dei minimi quadrati per calcolare i coefficienti di una retta di regressione. Non ci sono iperparametri da ottimizzare."
      ]
    },
    {
      "cell_type": "markdown",
      "metadata": {
        "id": "eSL346o4mOOg"
      },
      "source": [
        "#### 1^ Costruzione (senza k-fold CV)"
      ]
    },
    {
      "cell_type": "code",
      "execution_count": 10,
      "metadata": {
        "id": "qS9IvXWMBVAn"
      },
      "outputs": [],
      "source": [
        "from sklearn.linear_model import LinearRegression\n",
        "\n",
        "# modello\n",
        "regLin = LinearRegression()\n",
        "regLin.fit(X_TS, gt_y_TS)\n",
        "\n",
        "# predizione\n",
        "regLin_y_TS = regLin.predict(X_TS)\n",
        "regLin_y_TE = regLin.predict(X_TE)"
      ]
    },
    {
      "cell_type": "markdown",
      "metadata": {
        "id": "19JIzEOEOlXV"
      },
      "source": [
        "##### OSSERVAZIONE: Cambio categoria e penalità applicata all'errore\n",
        "\n",
        "Dopo aver costruito il modello, diamo un'occhiata ai valori effettivi della feature target (nel TS) e le relative previsioni."
      ]
    },
    {
      "cell_type": "code",
      "execution_count": 11,
      "metadata": {
        "colab": {
          "base_uri": "https://localhost:8080/"
        },
        "id": "gEN8xxQepooE",
        "outputId": "82f1db18-2350-41d3-f01d-82d7a57d6d54"
      },
      "outputs": [
        {
          "data": {
            "text/plain": [
              "0      3.867017\n",
              "1      3.561704\n",
              "2      4.273229\n",
              "3      4.281333\n",
              "4      2.615955\n",
              "         ...   \n",
              "328    4.252633\n",
              "329    4.134458\n",
              "330    3.467776\n",
              "331    3.681593\n",
              "332    3.759805\n",
              "Length: 333, dtype: float64"
            ]
          },
          "execution_count": 11,
          "metadata": {},
          "output_type": "execute_result"
        }
      ],
      "source": [
        "from pandas import Series\n",
        "# https://stackoverflow.com/a/42476224\n",
        "from IPython.core.interactiveshell import InteractiveShell\n",
        "InteractiveShell.ast_node_interactivity = \"all\"\n",
        "\n",
        "# >>>\n",
        "gt_y_TE # fisso\n",
        "Series(regLin_y_TE) # fisso"
      ]
    },
    {
      "cell_type": "markdown",
      "metadata": {
        "id": "3iYjaKHUPXKj"
      },
      "source": [
        "Calcoliamo manualmente l'errore che otteniamo. Questa operazione sarà poi automatizzata, ma per il momento lo facciamo per avere una panoramica sulle percentuali di errore fatte dal modello."
      ]
    },
    {
      "cell_type": "code",
      "execution_count": 12,
      "metadata": {
        "colab": {
          "base_uri": "https://localhost:8080/"
        },
        "id": "qAfwa2-3pzN0",
        "outputId": "7547023f-656d-428f-ace6-4912172d09a0"
      },
      "outputs": [
        {
          "data": {
            "text/plain": [
              "893     0.167017\n",
              "115     0.161704\n",
              "526    -0.126771\n",
              "175    -0.518667\n",
              "63     -0.184045\n",
              "          ...   \n",
              "1326   -0.147367\n",
              "1293   -0.165542\n",
              "628    -0.032224\n",
              "1010    0.181593\n",
              "178     0.259805\n",
              "Name: metric, Length: 333, dtype: float64"
            ]
          },
          "execution_count": 12,
          "metadata": {},
          "output_type": "execute_result"
        }
      ],
      "source": [
        "regLin_err = np.subtract(regLin_y_TE, gt_y_TE) # fisso\n",
        "\n",
        "# >>>\n",
        "regLin_err"
      ]
    },
    {
      "cell_type": "markdown",
      "metadata": {
        "id": "Z8LptErU8fHD"
      },
      "source": [
        "Il calcolo \"manuale\" dell'errore che il modello fa sul target **di questo specifico TE** è stato fatto per poter vedere quante volte il modello fa una previsione che si discosta dal valore attuale di una certa percentuale. L'istogramma generato di seguito ne è una rappresentazione grafica e solo in questa evenienza si è calcolato l'errore con segno. In seguito, quando si andrà a calcolare le metriche dei modelli, si useranno le metriche convenzionali di misurazione dell'errore.\n",
        "\n",
        "Sull'asse X dell'istogramma ci sono le possibili percentuali di errore (da -100% a 100%) ad indicare il fatto che questo modello può fare una previsione con un errore percentuale negativo (il modello predice una valutazione minore della valutazione reale), uguale a 0, o positivo.\n",
        "Ad es. un errore -100% si verifica quando il valore attuale di `metric` è 5 e il modello predice 1. In corrispondenza di una percentuale, sull'asse Y il grafico dice per quanti esempi del TS il modello fa una predizione con questo errore percentuale."
      ]
    },
    {
      "cell_type": "code",
      "execution_count": 13,
      "metadata": {
        "colab": {
          "base_uri": "https://localhost:8080/",
          "height": 465
        },
        "id": "eXdqLGMc39Ro",
        "outputId": "27cd93e8-fdeb-4b68-b0a3-718a0b404bbe"
      },
      "outputs": [
        {
          "data": {
            "image/png": "[encoded data removed]",
            "text/plain": [
              "<Figure size 1500x500 with 1 Axes>"
            ]
          },
          "metadata": {},
          "output_type": "display_data"
        }
      ],
      "source": [
        "# conosciamo il valore di un ipotetico errore massimo\n",
        "max_error = METRIC_MAX_VAL - METRIC_MIN_VAL\n",
        "\n",
        "def calc_err_percentage(x):\n",
        "    perc = float((x*100)/max_error)\n",
        "    return int(perc)\n",
        "\n",
        "def plot_err_perc(model_err:Series):\n",
        "    # creo una nuova serie che associa ad ogni elemento la sua percentuale di errore\n",
        "    model_err_perc = model_err.apply(calc_err_percentage)\n",
        "    model_err_perc = model_err_perc.rename(\"Error percentage between predicted value and actual value\")\n",
        "\n",
        "    model_err_perc_count = model_err_perc.value_counts()\n",
        "    model_err_perc_count = model_err_perc_count.reindex(range(-100, 101), fill_value=0)\n",
        "    model_err_perc_count = model_err_perc_count.sort_index()\n",
        "\n",
        "    model_err_perc_count.plot(kind='bar', figsize=(15,5))\n",
        "\n",
        "plot_err_perc(regLin_err)"
      ]
    },
    {
      "cell_type": "markdown",
      "metadata": {
        "id": "848LfpiIY8R2"
      },
      "source": [
        "Il modello (sugli esempi di questo specifico TE) non fa errori molto gravi (vale a dire tanti errori minori del -50% o maggiori del 50%) ma possiamo fare una osservazione.\n",
        "\n",
        "Consideriamo una pagina web per il quale la valutazione è 3.2. Se il modello fa un errore (anche piccolo) di -0.4 punti, si verifica un vero e proprio cambio categoria: il sito teoricamente è *Accettabile*, ma il modello lo classifica come *Confuso* (3.2-0.4=2.8). Situazione diversa si ha se il modello fa un errore (ancora piccolo) di 0.4 punti, e quindi il modello predice il valore 3.6, senza predire un cambio categoria.\n",
        "\n",
        "**Sarebbe corretto in questa casistica parlare di errori equivalenti?**\n",
        "- Se il nostro task di interesse fosse stato di classificazione, avremmo ipotizzato di no.\n",
        "- Nel nostro caso, ipotizziamo che tali errori siano equivalenti, a fronte del fatto che, dopo varie esecuzioni, le metriche di performance dei modelli che ricalcolano le predizioni (cioè applicando le penalità) non si discostano dai valori di quelli che non lo fanno. I modelli che applicano la penalità, in altre parole, sono \"forzati\" a compiere un errore quanto più basso possibile soprattutto per le pagine la cui valutazione è a un'estremità (inferiore o superiore) della categoria reale.\n",
        "\n",
        "\n",
        "In ogni caso, la penalità che calcoliamo viene definita con la funzione `calc_err_penalty` che si comporta nel seguente modo:\n",
        "- se non c'è un cambio categoria, l'errore del modello non subisce una penalità.\n",
        "- se c'è un cambio categoria allora viene applicata la penalità, che dipende dal numero di categorie tra quella attuale e quella prevista. Eventualmente, possiamo anche prevedere delle penalità più severe se il modello predice una categoria peggiore rispetto a quella attuale (`page_category_shift` < 0).\n",
        "Il comportamento di questa funzione è visibile da questo [grafico](https://www.desmos.com/calculator/5y734tuqft). Avremmo potuto implementare questa funzione con un semplice if-else, però il grafico (poichè non è simmetrico all'asse Y) evidenzia il fatto delle penalità più severe quando `page_category_shift` < 0. Infine, dobbiamo precisare che le penalità relative a quando `page_category_shift` < 0 devono avere segno negativo, altrimenti andrebbero contro il nostro intento. Per comodità, nel grafico, tutte le penalità hanno segno positivo."
      ]
    },
    {
      "cell_type": "code",
      "execution_count": 14,
      "metadata": {
        "id": "JyLSsTjzp1Ff"
      },
      "outputs": [],
      "source": [
        "def calc_err_penalty(y_gt, y_pred):\n",
        "    \"\"\" Calcola la penalità da sommare all'errore qualora c'è un cambio categoria.\n",
        "\n",
        "    Args:\n",
        "        - y_gt: Target attuale.\n",
        "        - y_pred: Target previsto dal modello (include un errore).\n",
        "    \"\"\"\n",
        "\n",
        "    pred_category = int(y_pred) # positivo\n",
        "    gt_category = int(y_gt) # positivo\n",
        "\n",
        "    page_category_shift = pred_category - gt_category\n",
        "    #page_category_shift può essere < 0 (modello predice categoria più bassa)\n",
        "    # = 0 (stessa categoria)\n",
        "    # > 0 (modello predice categoria più alta)\n",
        "\n",
        "    if page_category_shift == 0:\n",
        "        return y_pred\n",
        "\n",
        "    elif (page_category_shift < 0 and gt_category <= METRIC_MIN_VAL) or \\\n",
        "        (page_category_shift > 0 and gt_category >= METRIC_MAX_VAL - 1):\n",
        "        # c'è un cambio categoria ma non lo consideriamo tale\n",
        "        return y_pred\n",
        "\n",
        "    else:\n",
        "        # calcolo penalty\n",
        "        a = 0.006 #0.009\n",
        "        b = -0.0008 #-0.0008\n",
        "        c = 0.108 #0.009\n",
        "        penalty = (((a)*(page_category_shift**2))+\n",
        "                ((b)*page_category_shift)+\n",
        "                (c)\n",
        "        )\n",
        "        if page_category_shift < 0:\n",
        "            penalty = penalty*(-1)\n",
        "        # ---\n",
        "\n",
        "        err_category = int(y_pred + penalty) # positivo\n",
        "\n",
        "        if pred_category == err_category:\n",
        "            return y_pred + penalty\n",
        "\n",
        "        # evito che la penalità sia eccessiva\n",
        "        elif page_category_shift < 0:\n",
        "            return y_pred + (pred_category - y_pred) #y_pred + (<0)\n",
        "        else:\n",
        "            #return y_pred + (penalty - (y_pred + penalty - err_category + 0.1))\n",
        "            return y_pred + (err_category - y_pred - 0.1)\n",
        "\n",
        "# vettorizza funzione\n",
        "vcalc_err_penalty = np.vectorize(calc_err_penalty, otypes=[float])"
      ]
    },
    {
      "cell_type": "markdown",
      "metadata": {},
      "source": [
        "#### 2^ Costruzione (con k-fold CV)\n",
        "\n",
        "Di seguito implementiamo manualmente una procedura di k-fold CV che fa uso di uno scaler. Essa fa comunque un test sistematico degli iperparametri, come avviene nel [GridSearchCV](https://scikit-learn.org/stable/modules/generated/sklearn.model_selection.GridSearchCV.html). Inoltre nella CV usiamo un numero di fold `k = 5`, che equivale a un rapporto TS:VS = 8:2. Con la CV possiamo ricavare delle metriche di performance che dipendono da **tutto il DS** e non da una singola parte.\n",
        "\n",
        "I Regressori Lineari, poichè calcolano coefficienti di apprendimento mediante discesa di gradiente, sono sensibili al feature scaling. Con il feature scaling, infatti, l'algoritmo di discesa del gradiente converge più velocemente al minimo. In questo progetto usiamo un [MinMaxScaler](https://scikit-learn.org/stable/modules/generated/sklearn.preprocessing.MinMaxScaler.html). "
      ]
    },
    {
      "cell_type": "code",
      "execution_count": 15,
      "metadata": {
        "id": "lr-0KMVKqvyw"
      },
      "outputs": [],
      "source": [
        "from sklearn.model_selection import KFold, ParameterGrid\n",
        "from sklearn.base import RegressorMixin\n",
        "from sklearn.preprocessing import MinMaxScaler\n",
        "from sklearn.metrics import mean_absolute_error, mean_squared_error, mean_absolute_percentage_error, r2_score\n",
        "\n",
        "def custom_kf_cv(\n",
        "                X, y,\n",
        "                m:RegressorMixin, m_name,\n",
        "                param_grid:ParameterGrid,\n",
        "                k,\n",
        "                scaler:MinMaxScaler,\n",
        "                apply_penalty=False,\n",
        "                plot_err=False):\n",
        "    \"\"\"Costruisce il modello m per il quale esistono iperparametri inseriti in param_grid.\n",
        "    Per ciascuna configurazione di iperparametri, applica la k-fold CV usando i dati di X e y.\n",
        "    Restituisce una lista di Dataframe, una per ogni configurazione di iperparametri.\n",
        "\n",
        "    Args:\n",
        "        - X: dati delle input feature.\n",
        "        - y: dati della target feature.\n",
        "        - m: modello di regressione.\n",
        "        - m_name: Nome del modello.\n",
        "        - param_grid (ParameterGrid). Oggetto contenente i domini degli iperparametri.\n",
        "        - k: numero di folds.\n",
        "        - scaler: oggetto MinMaxScaler.\n",
        "        - apply_penalty. Default: false\n",
        "        - plot_err: True se si vuole mostrare l'istogramma degli errori percentuali. Default: false.\n",
        "    \n",
        "    Returns:\n",
        "        - model_perf: Un array di DataFrame (un DataFrame per ogni possibile combinazione di iperparametri)\n",
        "    \"\"\"\n",
        "\n",
        "    # lista di possibili combinazioni di iperparametri\n",
        "    param_combos = [' ']\n",
        "    if param_grid is None or len(param_grid) == 0:\n",
        "        param_exist = False\n",
        "    else:\n",
        "        param_combos = list(param_grid)\n",
        "        param_exist = True\n",
        "\n",
        "    # i dati vengono prima mescolati in modo casuale prima di essere suddivisi in test/training.\n",
        "    kf_logic = KFold(n_splits=k, shuffle=True, random_state=77)\n",
        "\n",
        "    # restituisco una lista di dataframe, uno per ogni combinazione di iperparametri\n",
        "    model_perf = [DataFrame() for param_combo_id in param_combos]\n",
        "\n",
        "    # itera sulle possibili configurazioni di iperparametri\n",
        "    param_combo_id = 0\n",
        "    for param_combo in param_combos:\n",
        "\n",
        "        # Creo k split a partire da X e y.\n",
        "        # X e y possono rappresentare l'intero DS, oppure il TS.\n",
        "        # https://stats.stackexchange.com/questions/339736/perform-cross-validation-on-train-set-or-entire-data-set\n",
        "        kf_splits = kf_logic.split(X=X, y=y)\n",
        "\n",
        "        # itera sugli split\n",
        "        split_no = 1\n",
        "        for TS_idx, TE_idx in kf_splits:\n",
        "            # considero l'i-esimo split (su 10).\n",
        "            # questo split si compone da 9 folds per il TS (che in totale formano X_TS_fold e gt_y_TS_fold)\n",
        "            # e 1 fold per il TE (anche chiamato Validation) (formata da X_TE_fold e gt_y_TE_fold).\n",
        "            # man mano che si cicla su questo for, gli elementi del TS e TE cambiano\n",
        "\n",
        "            X_TS_fold,    X_TE_fold    = X[TS_idx], X[TE_idx]\n",
        "            gt_y_TS_fold, gt_y_TE_fold = y[TS_idx], y[TE_idx]\n",
        "\n",
        "            # scaling (va fatto sempre dopo lo split)\n",
        "            if scaler is not None:\n",
        "                scaler.fit(X_TS_fold)\n",
        "                X_TS_fold = scaler.transform(X_TS_fold)\n",
        "                # https://stats.stackexchange.com/q/319514\n",
        "                X_TE_fold = scaler.transform(X_TE_fold)\n",
        "            \n",
        "            # modello\n",
        "            if param_exist:\n",
        "                model = m.set_params(**param_combo)\n",
        "            else:\n",
        "                model = m\n",
        "            model.fit(X_TS_fold, gt_y_TS_fold)\n",
        "\n",
        "            # predizione\n",
        "            model_y_TS_fold = model.predict(X_TS_fold)\n",
        "            if apply_penalty:\n",
        "                model_y_TS_fold = vcalc_err_penalty(gt_y_TS_fold, model_y_TS_fold)\n",
        "            model_y_TS_fold = np.clip(model_y_TS_fold, METRIC_MIN_VAL, METRIC_MAX_VAL)\n",
        "            \n",
        "            model_y_TE_fold = model.predict(X_TE_fold)\n",
        "            if apply_penalty:\n",
        "                model_y_TE_fold = vcalc_err_penalty(gt_y_TE_fold, model_y_TE_fold)\n",
        "            model_y_TE_fold = np.clip(model_y_TE_fold, METRIC_MIN_VAL, METRIC_MAX_VAL)\n",
        "\n",
        "            # valutazione\n",
        "            fold_index = f\"{m_name} (Split {split_no})\"\n",
        "\n",
        "            model_perf[param_combo_id] = pd.concat([\n",
        "                    model_perf[param_combo_id],\n",
        "                    pd.DataFrame([{\n",
        "                            \"MAE (TS)\": mean_absolute_error(gt_y_TS_fold, model_y_TS_fold),\n",
        "                            \"MSE (TS)\": mean_squared_error(gt_y_TS_fold, model_y_TS_fold),\n",
        "                            \"RMSE (TS)\": mean_squared_error(gt_y_TS_fold, model_y_TS_fold, squared=False),\n",
        "                            \"R^2 (TS)\": r2_score(gt_y_TS_fold, model_y_TS_fold),\n",
        "\n",
        "                            \"MAE (TE)\": mean_absolute_error(gt_y_TE_fold, model_y_TE_fold),\n",
        "                            \"MSE (TE)\": mean_squared_error(gt_y_TE_fold, model_y_TE_fold),\n",
        "                            \"RMSE (TE)\": mean_squared_error(gt_y_TE_fold, model_y_TE_fold, squared=False),\n",
        "                            \"R^2 (TE)\": r2_score(gt_y_TE_fold, model_y_TE_fold)\n",
        "                        }], index=[fold_index]\n",
        "                    )\n",
        "                ],\n",
        "                axis = 0\n",
        "            )\n",
        "\n",
        "            if plot_err and split_no == 2:\n",
        "                plot_err_perc(model_err=Series(np.subtract(model_y_TE_fold, gt_y_TE_fold)))\n",
        "\n",
        "            # vai al prossimo split\n",
        "            split_no = split_no + 1\n",
        "\n",
        "        # Aggiungi una nuova riga al fondo del DataFrame con le medie\n",
        "        avg_index = f\"Average ({str(param_combo)})\" if param_exist else \"Average\"\n",
        "        means = model_perf[param_combo_id].mean()\n",
        "\n",
        "        model_perf[param_combo_id] = pd.concat(\n",
        "            [\n",
        "                model_perf[param_combo_id],\n",
        "                pd.DataFrame(\n",
        "                    [means], index=[avg_index], columns=means.index\n",
        "                )\n",
        "            ],\n",
        "            axis = 0\n",
        "        )\n",
        "\n",
        "        param_combo_id = param_combo_id + 1\n",
        "\n",
        "    return model_perf"
      ]
    },
    {
      "cell_type": "markdown",
      "metadata": {},
      "source": [
        "Costruiamo il modello con la funzione appena scritta."
      ]
    },
    {
      "cell_type": "code",
      "execution_count": 16,
      "metadata": {
        "colab": {
          "base_uri": "https://localhost:8080/",
          "height": 224
        },
        "id": "ARLFxnbKhPm9",
        "outputId": "103a7b94-a338-442b-9e7e-cad039053517"
      },
      "outputs": [
        {
          "name": "stdout",
          "output_type": "stream",
          "text": [
            "1 model performance table(s) available.\n"
          ]
        },
        {
          "data": {
            "text/html": [
              "<div>\n",
              "<style scoped>\n",
              "    .dataframe tbody tr th:only-of-type {\n",
              "        vertical-align: middle;\n",
              "    }\n",
              "\n",
              "    .dataframe tbody tr th {\n",
              "        vertical-align: top;\n",
              "    }\n",
              "\n",
              "    .dataframe thead th {\n",
              "        text-align: right;\n",
              "    }\n",
              "</style>\n",
              "<table border=\"1\" class=\"dataframe\">\n",
              "  <thead>\n",
              "    <tr style=\"text-align: right;\">\n",
              "      <th></th>\n",
              "      <th>MAE (TS)</th>\n",
              "      <th>MSE (TS)</th>\n",
              "      <th>RMSE (TS)</th>\n",
              "      <th>R^2 (TS)</th>\n",
              "      <th>MAE (TE)</th>\n",
              "      <th>MSE (TE)</th>\n",
              "      <th>RMSE (TE)</th>\n",
              "      <th>R^2 (TE)</th>\n",
              "    </tr>\n",
              "  </thead>\n",
              "  <tbody>\n",
              "    <tr>\n",
              "      <th>Linear Regressor (Split 1)</th>\n",
              "      <td>0.215498</td>\n",
              "      <td>0.077332</td>\n",
              "      <td>0.278087</td>\n",
              "      <td>0.703098</td>\n",
              "      <td>0.217117</td>\n",
              "      <td>0.086240</td>\n",
              "      <td>0.293666</td>\n",
              "      <td>0.656305</td>\n",
              "    </tr>\n",
              "    <tr>\n",
              "      <th>Linear Regressor (Split 2)</th>\n",
              "      <td>0.212291</td>\n",
              "      <td>0.078288</td>\n",
              "      <td>0.279800</td>\n",
              "      <td>0.694311</td>\n",
              "      <td>0.226282</td>\n",
              "      <td>0.082225</td>\n",
              "      <td>0.286748</td>\n",
              "      <td>0.694365</td>\n",
              "    </tr>\n",
              "    <tr>\n",
              "      <th>Linear Regressor (Split 3)</th>\n",
              "      <td>0.216380</td>\n",
              "      <td>0.080392</td>\n",
              "      <td>0.283535</td>\n",
              "      <td>0.695873</td>\n",
              "      <td>0.209382</td>\n",
              "      <td>0.093390</td>\n",
              "      <td>0.305598</td>\n",
              "      <td>0.604169</td>\n",
              "    </tr>\n",
              "    <tr>\n",
              "      <th>Linear Regressor (Split 4)</th>\n",
              "      <td>0.220278</td>\n",
              "      <td>0.082628</td>\n",
              "      <td>0.287452</td>\n",
              "      <td>0.682591</td>\n",
              "      <td>0.206378</td>\n",
              "      <td>0.065869</td>\n",
              "      <td>0.256650</td>\n",
              "      <td>0.737850</td>\n",
              "    </tr>\n",
              "    <tr>\n",
              "      <th>Linear Regressor (Split 5)</th>\n",
              "      <td>0.207696</td>\n",
              "      <td>0.072786</td>\n",
              "      <td>0.269790</td>\n",
              "      <td>0.711688</td>\n",
              "      <td>0.233611</td>\n",
              "      <td>0.107698</td>\n",
              "      <td>0.328174</td>\n",
              "      <td>0.620857</td>\n",
              "    </tr>\n",
              "    <tr>\n",
              "      <th>Average</th>\n",
              "      <td>0.214428</td>\n",
              "      <td>0.078285</td>\n",
              "      <td>0.279733</td>\n",
              "      <td>0.697512</td>\n",
              "      <td>0.218554</td>\n",
              "      <td>0.087084</td>\n",
              "      <td>0.294167</td>\n",
              "      <td>0.662709</td>\n",
              "    </tr>\n",
              "  </tbody>\n",
              "</table>\n",
              "</div>"
            ],
            "text/plain": [
              "                            MAE (TS)  MSE (TS)  RMSE (TS)  R^2 (TS)  MAE (TE)  \\\n",
              "Linear Regressor (Split 1)  0.215498  0.077332   0.278087  0.703098  0.217117   \n",
              "Linear Regressor (Split 2)  0.212291  0.078288   0.279800  0.694311  0.226282   \n",
              "Linear Regressor (Split 3)  0.216380  0.080392   0.283535  0.695873  0.209382   \n",
              "Linear Regressor (Split 4)  0.220278  0.082628   0.287452  0.682591  0.206378   \n",
              "Linear Regressor (Split 5)  0.207696  0.072786   0.269790  0.711688  0.233611   \n",
              "Average                     0.214428  0.078285   0.279733  0.697512  0.218554   \n",
              "\n",
              "                            MSE (TE)  RMSE (TE)  R^2 (TE)  \n",
              "Linear Regressor (Split 1)  0.086240   0.293666  0.656305  \n",
              "Linear Regressor (Split 2)  0.082225   0.286748  0.694365  \n",
              "Linear Regressor (Split 3)  0.093390   0.305598  0.604169  \n",
              "Linear Regressor (Split 4)  0.065869   0.256650  0.737850  \n",
              "Linear Regressor (Split 5)  0.107698   0.328174  0.620857  \n",
              "Average                     0.087084   0.294167  0.662709  "
            ]
          },
          "execution_count": 16,
          "metadata": {},
          "output_type": "execute_result"
        }
      ],
      "source": [
        "regLin_perf = custom_kf_cv(X=X_DS_, y=y_DS_,\n",
        "                            m=LinearRegression(),\n",
        "                            m_name=\"Linear Regressor\",\n",
        "                            param_grid=None,\n",
        "                            k=5,\n",
        "                            scaler=MinMaxScaler())\n",
        "\n",
        "# >>>\n",
        "print(f\"{len(regLin_perf)} model performance table(s) available.\")\n",
        "regLin_perf[0]"
      ]
    },
    {
      "cell_type": "code",
      "execution_count": 17,
      "metadata": {},
      "outputs": [],
      "source": [
        "def save_cv_results(model_grid, model_name):\n",
        "    cv_results_table = pd.DataFrame(model_grid.cv_results_)\n",
        "    cv_results_table.to_excel(f\"./cv_results/{model_name}.xlsx\", sheet_name=model_name)"
      ]
    },
    {
      "cell_type": "markdown",
      "metadata": {},
      "source": [
        "### Regressore KNN\n",
        "\n",
        "Un Regressore KNN è inerente all'approccio Case-Based dell'Apprendimento Supervisionato. Il modello non calcola dei coefficienti numerici come nel Regressore Lineare, ma predice il target dell'istanza online guardando gli esempi più simili ad essa. Questi ultimi NON vengono individuati con un semplice scanning completo del TS (sarebbe dispendioso), ma mediante costruzione di una struttura dati Kd-Tree. Le prestazioni di questi tipi di metodi dipendono in modo cruciale dal Feature Scaling.\n",
        "\n",
        "Il nostro iperparametro di interesse è `n_neighbors`. In generale, i domini degli iperparametri considerati sono:\n",
        "- `n_neighbors` può andare da 1 a 20.\n",
        "- `weights` può essere `distance`, in cui gli esempi più vicini hanno peso che dipende da quanto sono simili all'istanza online; `uniform` quando hanno peso uguale. \n",
        "- `algorithm = kd_tree`.\n",
        "\n",
        "Gli iperparametri ottimali sono mostrati nella tabella delle performance mostrata di seguito."
      ]
    },
    {
      "cell_type": "code",
      "execution_count": 18,
      "metadata": {},
      "outputs": [
        {
          "data": {
            "text/html": [
              "<style>#sk-container-id-1 {color: black;}#sk-container-id-1 pre{padding: 0;}#sk-container-id-1 div.sk-toggleable {background-color: white;}#sk-container-id-1 label.sk-toggleable__label {cursor: pointer;display: block;width: 100%;margin-bottom: 0;padding: 0.3em;box-sizing: border-box;text-align: center;}#sk-container-id-1 label.sk-toggleable__label-arrow:before {content: \"▸\";float: left;margin-right: 0.25em;color: #696969;}#sk-container-id-1 label.sk-toggleable__label-arrow:hover:before {color: black;}#sk-container-id-1 div.sk-estimator:hover label.sk-toggleable__label-arrow:before {color: black;}#sk-container-id-1 div.sk-toggleable__content {max-height: 0;max-width: 0;overflow: hidden;text-align: left;background-color: #f0f8ff;}#sk-container-id-1 div.sk-toggleable__content pre {margin: 0.2em;color: black;border-radius: 0.25em;background-color: #f0f8ff;}#sk-container-id-1 input.sk-toggleable__control:checked~div.sk-toggleable__content {max-height: 200px;max-width: 100%;overflow: auto;}#sk-container-id-1 input.sk-toggleable__control:checked~label.sk-toggleable__label-arrow:before {content: \"▾\";}#sk-container-id-1 div.sk-estimator input.sk-toggleable__control:checked~label.sk-toggleable__label {background-color: #d4ebff;}#sk-container-id-1 div.sk-label input.sk-toggleable__control:checked~label.sk-toggleable__label {background-color: #d4ebff;}#sk-container-id-1 input.sk-hidden--visually {border: 0;clip: rect(1px 1px 1px 1px);clip: rect(1px, 1px, 1px, 1px);height: 1px;margin: -1px;overflow: hidden;padding: 0;position: absolute;width: 1px;}#sk-container-id-1 div.sk-estimator {font-family: monospace;background-color: #f0f8ff;border: 1px dotted black;border-radius: 0.25em;box-sizing: border-box;margin-bottom: 0.5em;}#sk-container-id-1 div.sk-estimator:hover {background-color: #d4ebff;}#sk-container-id-1 div.sk-parallel-item::after {content: \"\";width: 100%;border-bottom: 1px solid gray;flex-grow: 1;}#sk-container-id-1 div.sk-label:hover label.sk-toggleable__label {background-color: #d4ebff;}#sk-container-id-1 div.sk-serial::before {content: \"\";position: absolute;border-left: 1px solid gray;box-sizing: border-box;top: 0;bottom: 0;left: 50%;z-index: 0;}#sk-container-id-1 div.sk-serial {display: flex;flex-direction: column;align-items: center;background-color: white;padding-right: 0.2em;padding-left: 0.2em;position: relative;}#sk-container-id-1 div.sk-item {position: relative;z-index: 1;}#sk-container-id-1 div.sk-parallel {display: flex;align-items: stretch;justify-content: center;background-color: white;position: relative;}#sk-container-id-1 div.sk-item::before, #sk-container-id-1 div.sk-parallel-item::before {content: \"\";position: absolute;border-left: 1px solid gray;box-sizing: border-box;top: 0;bottom: 0;left: 50%;z-index: -1;}#sk-container-id-1 div.sk-parallel-item {display: flex;flex-direction: column;z-index: 1;position: relative;background-color: white;}#sk-container-id-1 div.sk-parallel-item:first-child::after {align-self: flex-end;width: 50%;}#sk-container-id-1 div.sk-parallel-item:last-child::after {align-self: flex-start;width: 50%;}#sk-container-id-1 div.sk-parallel-item:only-child::after {width: 0;}#sk-container-id-1 div.sk-dashed-wrapped {border: 1px dashed gray;margin: 0 0.4em 0.5em 0.4em;box-sizing: border-box;padding-bottom: 0.4em;background-color: white;}#sk-container-id-1 div.sk-label label {font-family: monospace;font-weight: bold;display: inline-block;line-height: 1.2em;}#sk-container-id-1 div.sk-label-container {text-align: center;}#sk-container-id-1 div.sk-container {/* jupyter's `normalize.less` sets `[hidden] { display: none; }` but bootstrap.min.css set `[hidden] { display: none !important; }` so we also need the `!important` here to be able to override the default hidden behavior on the sphinx rendered scikit-learn.org. See: https://github.com/scikit-learn/scikit-learn/issues/21755 */display: inline-block !important;position: relative;}#sk-container-id-1 div.sk-text-repr-fallback {display: none;}</style><div id=\"sk-container-id-1\" class=\"sk-top-container\"><div class=\"sk-text-repr-fallback\"><pre>GridSearchCV(cv=5, estimator=KNeighborsRegressor(),\n",
              "             param_grid={&#x27;algorithm&#x27;: [&#x27;kd_tree&#x27;], &#x27;n_neighbors&#x27;: range(1, 21),\n",
              "                         &#x27;weights&#x27;: [&#x27;distance&#x27;, &#x27;uniform&#x27;]},\n",
              "             refit=False, return_train_score=True,\n",
              "             scoring=&#x27;neg_mean_absolute_error&#x27;)</pre><b>In a Jupyter environment, please rerun this cell to show the HTML representation or trust the notebook. <br />On GitHub, the HTML representation is unable to render, please try loading this page with nbviewer.org.</b></div><div class=\"sk-container\" hidden><div class=\"sk-item sk-dashed-wrapped\"><div class=\"sk-label-container\"><div class=\"sk-label sk-toggleable\"><input class=\"sk-toggleable__control sk-hidden--visually\" id=\"sk-estimator-id-1\" type=\"checkbox\" ><label for=\"sk-estimator-id-1\" class=\"sk-toggleable__label sk-toggleable__label-arrow\">GridSearchCV</label><div class=\"sk-toggleable__content\"><pre>GridSearchCV(cv=5, estimator=KNeighborsRegressor(),\n",
              "             param_grid={&#x27;algorithm&#x27;: [&#x27;kd_tree&#x27;], &#x27;n_neighbors&#x27;: range(1, 21),\n",
              "                         &#x27;weights&#x27;: [&#x27;distance&#x27;, &#x27;uniform&#x27;]},\n",
              "             refit=False, return_train_score=True,\n",
              "             scoring=&#x27;neg_mean_absolute_error&#x27;)</pre></div></div></div><div class=\"sk-parallel\"><div class=\"sk-parallel-item\"><div class=\"sk-item\"><div class=\"sk-label-container\"><div class=\"sk-label sk-toggleable\"><input class=\"sk-toggleable__control sk-hidden--visually\" id=\"sk-estimator-id-2\" type=\"checkbox\" ><label for=\"sk-estimator-id-2\" class=\"sk-toggleable__label sk-toggleable__label-arrow\">estimator: KNeighborsRegressor</label><div class=\"sk-toggleable__content\"><pre>KNeighborsRegressor()</pre></div></div></div><div class=\"sk-serial\"><div class=\"sk-item\"><div class=\"sk-estimator sk-toggleable\"><input class=\"sk-toggleable__control sk-hidden--visually\" id=\"sk-estimator-id-3\" type=\"checkbox\" ><label for=\"sk-estimator-id-3\" class=\"sk-toggleable__label sk-toggleable__label-arrow\">KNeighborsRegressor</label><div class=\"sk-toggleable__content\"><pre>KNeighborsRegressor()</pre></div></div></div></div></div></div></div></div></div></div>"
            ],
            "text/plain": [
              "GridSearchCV(cv=5, estimator=KNeighborsRegressor(),\n",
              "             param_grid={'algorithm': ['kd_tree'], 'n_neighbors': range(1, 21),\n",
              "                         'weights': ['distance', 'uniform']},\n",
              "             refit=False, return_train_score=True,\n",
              "             scoring='neg_mean_absolute_error')"
            ]
          },
          "execution_count": 18,
          "metadata": {},
          "output_type": "execute_result"
        },
        {
          "name": "stdout",
          "output_type": "stream",
          "text": [
            "1 model performance table available.\n"
          ]
        },
        {
          "data": {
            "text/html": [
              "<div>\n",
              "<style scoped>\n",
              "    .dataframe tbody tr th:only-of-type {\n",
              "        vertical-align: middle;\n",
              "    }\n",
              "\n",
              "    .dataframe tbody tr th {\n",
              "        vertical-align: top;\n",
              "    }\n",
              "\n",
              "    .dataframe thead th {\n",
              "        text-align: right;\n",
              "    }\n",
              "</style>\n",
              "<table border=\"1\" class=\"dataframe\">\n",
              "  <thead>\n",
              "    <tr style=\"text-align: right;\">\n",
              "      <th></th>\n",
              "      <th>MAE (TS)</th>\n",
              "      <th>MSE (TS)</th>\n",
              "      <th>RMSE (TS)</th>\n",
              "      <th>R^2 (TS)</th>\n",
              "      <th>MAE (TE)</th>\n",
              "      <th>MSE (TE)</th>\n",
              "      <th>RMSE (TE)</th>\n",
              "      <th>R^2 (TE)</th>\n",
              "    </tr>\n",
              "  </thead>\n",
              "  <tbody>\n",
              "    <tr>\n",
              "      <th>KNN (Split 1)</th>\n",
              "      <td>0.0</td>\n",
              "      <td>0.0</td>\n",
              "      <td>0.0</td>\n",
              "      <td>1.0</td>\n",
              "      <td>0.183720</td>\n",
              "      <td>0.076349</td>\n",
              "      <td>0.276314</td>\n",
              "      <td>0.695722</td>\n",
              "    </tr>\n",
              "    <tr>\n",
              "      <th>KNN (Split 2)</th>\n",
              "      <td>0.0</td>\n",
              "      <td>0.0</td>\n",
              "      <td>0.0</td>\n",
              "      <td>1.0</td>\n",
              "      <td>0.169382</td>\n",
              "      <td>0.056383</td>\n",
              "      <td>0.237451</td>\n",
              "      <td>0.790419</td>\n",
              "    </tr>\n",
              "    <tr>\n",
              "      <th>KNN (Split 3)</th>\n",
              "      <td>0.0</td>\n",
              "      <td>0.0</td>\n",
              "      <td>0.0</td>\n",
              "      <td>1.0</td>\n",
              "      <td>0.192370</td>\n",
              "      <td>0.073803</td>\n",
              "      <td>0.271667</td>\n",
              "      <td>0.687190</td>\n",
              "    </tr>\n",
              "    <tr>\n",
              "      <th>KNN (Split 4)</th>\n",
              "      <td>0.0</td>\n",
              "      <td>0.0</td>\n",
              "      <td>0.0</td>\n",
              "      <td>1.0</td>\n",
              "      <td>0.166748</td>\n",
              "      <td>0.054337</td>\n",
              "      <td>0.233104</td>\n",
              "      <td>0.783745</td>\n",
              "    </tr>\n",
              "    <tr>\n",
              "      <th>KNN (Split 5)</th>\n",
              "      <td>0.0</td>\n",
              "      <td>0.0</td>\n",
              "      <td>0.0</td>\n",
              "      <td>1.0</td>\n",
              "      <td>0.178217</td>\n",
              "      <td>0.070017</td>\n",
              "      <td>0.264607</td>\n",
              "      <td>0.753511</td>\n",
              "    </tr>\n",
              "    <tr>\n",
              "      <th>Average ({'algorithm': 'kd_tree', 'n_neighbors': 16, 'weights': 'distance'})</th>\n",
              "      <td>0.0</td>\n",
              "      <td>0.0</td>\n",
              "      <td>0.0</td>\n",
              "      <td>1.0</td>\n",
              "      <td>0.178087</td>\n",
              "      <td>0.066178</td>\n",
              "      <td>0.256629</td>\n",
              "      <td>0.742117</td>\n",
              "    </tr>\n",
              "  </tbody>\n",
              "</table>\n",
              "</div>"
            ],
            "text/plain": [
              "                                                    MAE (TS)  MSE (TS)  \\\n",
              "KNN (Split 1)                                            0.0       0.0   \n",
              "KNN (Split 2)                                            0.0       0.0   \n",
              "KNN (Split 3)                                            0.0       0.0   \n",
              "KNN (Split 4)                                            0.0       0.0   \n",
              "KNN (Split 5)                                            0.0       0.0   \n",
              "Average ({'algorithm': 'kd_tree', 'n_neighbors'...       0.0       0.0   \n",
              "\n",
              "                                                    RMSE (TS)  R^2 (TS)  \\\n",
              "KNN (Split 1)                                             0.0       1.0   \n",
              "KNN (Split 2)                                             0.0       1.0   \n",
              "KNN (Split 3)                                             0.0       1.0   \n",
              "KNN (Split 4)                                             0.0       1.0   \n",
              "KNN (Split 5)                                             0.0       1.0   \n",
              "Average ({'algorithm': 'kd_tree', 'n_neighbors'...        0.0       1.0   \n",
              "\n",
              "                                                    MAE (TE)  MSE (TE)  \\\n",
              "KNN (Split 1)                                       0.183720  0.076349   \n",
              "KNN (Split 2)                                       0.169382  0.056383   \n",
              "KNN (Split 3)                                       0.192370  0.073803   \n",
              "KNN (Split 4)                                       0.166748  0.054337   \n",
              "KNN (Split 5)                                       0.178217  0.070017   \n",
              "Average ({'algorithm': 'kd_tree', 'n_neighbors'...  0.178087  0.066178   \n",
              "\n",
              "                                                    RMSE (TE)  R^2 (TE)  \n",
              "KNN (Split 1)                                        0.276314  0.695722  \n",
              "KNN (Split 2)                                        0.237451  0.790419  \n",
              "KNN (Split 3)                                        0.271667  0.687190  \n",
              "KNN (Split 4)                                        0.233104  0.783745  \n",
              "KNN (Split 5)                                        0.264607  0.753511  \n",
              "Average ({'algorithm': 'kd_tree', 'n_neighbors'...   0.256629  0.742117  "
            ]
          },
          "execution_count": 18,
          "metadata": {},
          "output_type": "execute_result"
        },
        {
          "data": {
            "image/png": "[encoded data removed]",
            "text/plain": [
              "<Figure size 1500x500 with 1 Axes>"
            ]
          },
          "metadata": {},
          "output_type": "display_data"
        }
      ],
      "source": [
        "from sklearn.neighbors import KNeighborsRegressor\n",
        "from sklearn.model_selection import GridSearchCV\n",
        "\n",
        "# iperparametri\n",
        "regKNN_params = {\n",
        "    'n_neighbors': range(1, 21),\n",
        "    'weights': ['distance', 'uniform'],\n",
        "    'algorithm': ['kd_tree']\n",
        "}\n",
        "\n",
        "# ricerca migliore configurazione di iperparametri\n",
        "regKNN_grid = GridSearchCV(\n",
        "    estimator=KNeighborsRegressor(),\n",
        "    param_grid=regKNN_params,\n",
        "    cv=5,\n",
        "    scoring='neg_mean_absolute_error',\n",
        "    refit=False, # lo faccio manualmente dopo\n",
        "    return_train_score=True\n",
        ")\n",
        "regKNN_grid.fit(X=X_TS, y=gt_y_TS)\n",
        "regKNN_params_best = regKNN_grid.best_params_\n",
        "save_cv_results(regKNN_grid, \"regKNN\")\n",
        "\n",
        "# calcolo metriche\n",
        "# lista adatta al ParameterGrid\n",
        "regKNN_params_best = {k: [v] if not isinstance(v, list) else v for k, v in regKNN_params_best.items()}\n",
        "regKNN_perf = custom_kf_cv(X=X_DS_, y=y_DS_,\n",
        "                                    m=KNeighborsRegressor(),\n",
        "                                    m_name=\"KNN\",\n",
        "                                    param_grid=ParameterGrid(regKNN_params_best),\n",
        "                                    k=5,\n",
        "                                    scaler=MinMaxScaler(),\n",
        "                                    plot_err=True)\n",
        "\n",
        "# >>>\n",
        "print(f\"{len(regKNN_perf)} model performance table available.\")\n",
        "regKNN_perf[0]"
      ]
    },
    {
      "cell_type": "markdown",
      "metadata": {},
      "source": [
        "L'istogramma qui sopra presentato fa vedere come, se prendiamo in considerazione la migliore configurazione di iperparametri, nel momento in cui andiamo ad addestrare questo modello sui dati del TS e lo valutiamo sui dati del VS, il numero di esempi con errore percentuale 0% è di gran lunga maggiore rispetto a prima. Questo modello, inoltre, non fa errori gravi."
      ]
    },
    {
      "cell_type": "markdown",
      "metadata": {},
      "source": [
        "### Regressore con Alberi di Decisione\n",
        "\n",
        "I Regressori (e Classificatori) basati su Alberi di Decisione non necessitano di Feature Scaling perchè fanno scelte di partizionamento del DS basate su una soglia del dominio di una feature.\n",
        "\n",
        "In generale, i domini degli iperparametri considerati sono:\n",
        "- `criterion` per il calcolo della misura di bontà dello split.\n",
        "- `splitter` è il criterio di scelta di uno split. `best` è il criterio migliore ma impiega più tempo, `random` è il criterio che sceglie il miglior split individuato tra quelli generati casualmente.\n",
        "- `max_depth` è la massima profondità dell'albero.\n",
        "- `min_samples_split` è il numero minimo di campioni richiesti per dividere un nodo interno.\n",
        "- `random_state` è utile per replicare il criterio di scelta nel caso in cui fosse `random`.\n",
        "\n",
        "Gli iperparametri ottimali sono mostrati nella tabella delle performance mostrata di seguito.\n"
      ]
    },
    {
      "cell_type": "code",
      "execution_count": 19,
      "metadata": {},
      "outputs": [
        {
          "data": {
            "text/html": [
              "<style>#sk-container-id-2 {color: black;}#sk-container-id-2 pre{padding: 0;}#sk-container-id-2 div.sk-toggleable {background-color: white;}#sk-container-id-2 label.sk-toggleable__label {cursor: pointer;display: block;width: 100%;margin-bottom: 0;padding: 0.3em;box-sizing: border-box;text-align: center;}#sk-container-id-2 label.sk-toggleable__label-arrow:before {content: \"▸\";float: left;margin-right: 0.25em;color: #696969;}#sk-container-id-2 label.sk-toggleable__label-arrow:hover:before {color: black;}#sk-container-id-2 div.sk-estimator:hover label.sk-toggleable__label-arrow:before {color: black;}#sk-container-id-2 div.sk-toggleable__content {max-height: 0;max-width: 0;overflow: hidden;text-align: left;background-color: #f0f8ff;}#sk-container-id-2 div.sk-toggleable__content pre {margin: 0.2em;color: black;border-radius: 0.25em;background-color: #f0f8ff;}#sk-container-id-2 input.sk-toggleable__control:checked~div.sk-toggleable__content {max-height: 200px;max-width: 100%;overflow: auto;}#sk-container-id-2 input.sk-toggleable__control:checked~label.sk-toggleable__label-arrow:before {content: \"▾\";}#sk-container-id-2 div.sk-estimator input.sk-toggleable__control:checked~label.sk-toggleable__label {background-color: #d4ebff;}#sk-container-id-2 div.sk-label input.sk-toggleable__control:checked~label.sk-toggleable__label {background-color: #d4ebff;}#sk-container-id-2 input.sk-hidden--visually {border: 0;clip: rect(1px 1px 1px 1px);clip: rect(1px, 1px, 1px, 1px);height: 1px;margin: -1px;overflow: hidden;padding: 0;position: absolute;width: 1px;}#sk-container-id-2 div.sk-estimator {font-family: monospace;background-color: #f0f8ff;border: 1px dotted black;border-radius: 0.25em;box-sizing: border-box;margin-bottom: 0.5em;}#sk-container-id-2 div.sk-estimator:hover {background-color: #d4ebff;}#sk-container-id-2 div.sk-parallel-item::after {content: \"\";width: 100%;border-bottom: 1px solid gray;flex-grow: 1;}#sk-container-id-2 div.sk-label:hover label.sk-toggleable__label {background-color: #d4ebff;}#sk-container-id-2 div.sk-serial::before {content: \"\";position: absolute;border-left: 1px solid gray;box-sizing: border-box;top: 0;bottom: 0;left: 50%;z-index: 0;}#sk-container-id-2 div.sk-serial {display: flex;flex-direction: column;align-items: center;background-color: white;padding-right: 0.2em;padding-left: 0.2em;position: relative;}#sk-container-id-2 div.sk-item {position: relative;z-index: 1;}#sk-container-id-2 div.sk-parallel {display: flex;align-items: stretch;justify-content: center;background-color: white;position: relative;}#sk-container-id-2 div.sk-item::before, #sk-container-id-2 div.sk-parallel-item::before {content: \"\";position: absolute;border-left: 1px solid gray;box-sizing: border-box;top: 0;bottom: 0;left: 50%;z-index: -1;}#sk-container-id-2 div.sk-parallel-item {display: flex;flex-direction: column;z-index: 1;position: relative;background-color: white;}#sk-container-id-2 div.sk-parallel-item:first-child::after {align-self: flex-end;width: 50%;}#sk-container-id-2 div.sk-parallel-item:last-child::after {align-self: flex-start;width: 50%;}#sk-container-id-2 div.sk-parallel-item:only-child::after {width: 0;}#sk-container-id-2 div.sk-dashed-wrapped {border: 1px dashed gray;margin: 0 0.4em 0.5em 0.4em;box-sizing: border-box;padding-bottom: 0.4em;background-color: white;}#sk-container-id-2 div.sk-label label {font-family: monospace;font-weight: bold;display: inline-block;line-height: 1.2em;}#sk-container-id-2 div.sk-label-container {text-align: center;}#sk-container-id-2 div.sk-container {/* jupyter's `normalize.less` sets `[hidden] { display: none; }` but bootstrap.min.css set `[hidden] { display: none !important; }` so we also need the `!important` here to be able to override the default hidden behavior on the sphinx rendered scikit-learn.org. See: https://github.com/scikit-learn/scikit-learn/issues/21755 */display: inline-block !important;position: relative;}#sk-container-id-2 div.sk-text-repr-fallback {display: none;}</style><div id=\"sk-container-id-2\" class=\"sk-top-container\"><div class=\"sk-text-repr-fallback\"><pre>GridSearchCV(cv=5, estimator=DecisionTreeRegressor(),\n",
              "             param_grid={&#x27;criterion&#x27;: [&#x27;friedman_mse&#x27;, &#x27;squared_error&#x27;,\n",
              "                                       &#x27;poisson&#x27;],\n",
              "                         &#x27;max_depth&#x27;: [None, 5, 10, 15, 45, 90],\n",
              "                         &#x27;min_samples_leaf&#x27;: [1, 5, 20, 50, 90],\n",
              "                         &#x27;min_samples_split&#x27;: [2, 5, 10, 40, 60, 100, 150],\n",
              "                         &#x27;random_state&#x27;: [1], &#x27;splitter&#x27;: [&#x27;best&#x27;, &#x27;random&#x27;]},\n",
              "             refit=False, scoring=&#x27;neg_mean_absolute_error&#x27;)</pre><b>In a Jupyter environment, please rerun this cell to show the HTML representation or trust the notebook. <br />On GitHub, the HTML representation is unable to render, please try loading this page with nbviewer.org.</b></div><div class=\"sk-container\" hidden><div class=\"sk-item sk-dashed-wrapped\"><div class=\"sk-label-container\"><div class=\"sk-label sk-toggleable\"><input class=\"sk-toggleable__control sk-hidden--visually\" id=\"sk-estimator-id-4\" type=\"checkbox\" ><label for=\"sk-estimator-id-4\" class=\"sk-toggleable__label sk-toggleable__label-arrow\">GridSearchCV</label><div class=\"sk-toggleable__content\"><pre>GridSearchCV(cv=5, estimator=DecisionTreeRegressor(),\n",
              "             param_grid={&#x27;criterion&#x27;: [&#x27;friedman_mse&#x27;, &#x27;squared_error&#x27;,\n",
              "                                       &#x27;poisson&#x27;],\n",
              "                         &#x27;max_depth&#x27;: [None, 5, 10, 15, 45, 90],\n",
              "                         &#x27;min_samples_leaf&#x27;: [1, 5, 20, 50, 90],\n",
              "                         &#x27;min_samples_split&#x27;: [2, 5, 10, 40, 60, 100, 150],\n",
              "                         &#x27;random_state&#x27;: [1], &#x27;splitter&#x27;: [&#x27;best&#x27;, &#x27;random&#x27;]},\n",
              "             refit=False, scoring=&#x27;neg_mean_absolute_error&#x27;)</pre></div></div></div><div class=\"sk-parallel\"><div class=\"sk-parallel-item\"><div class=\"sk-item\"><div class=\"sk-label-container\"><div class=\"sk-label sk-toggleable\"><input class=\"sk-toggleable__control sk-hidden--visually\" id=\"sk-estimator-id-5\" type=\"checkbox\" ><label for=\"sk-estimator-id-5\" class=\"sk-toggleable__label sk-toggleable__label-arrow\">estimator: DecisionTreeRegressor</label><div class=\"sk-toggleable__content\"><pre>DecisionTreeRegressor()</pre></div></div></div><div class=\"sk-serial\"><div class=\"sk-item\"><div class=\"sk-estimator sk-toggleable\"><input class=\"sk-toggleable__control sk-hidden--visually\" id=\"sk-estimator-id-6\" type=\"checkbox\" ><label for=\"sk-estimator-id-6\" class=\"sk-toggleable__label sk-toggleable__label-arrow\">DecisionTreeRegressor</label><div class=\"sk-toggleable__content\"><pre>DecisionTreeRegressor()</pre></div></div></div></div></div></div></div></div></div></div>"
            ],
            "text/plain": [
              "GridSearchCV(cv=5, estimator=DecisionTreeRegressor(),\n",
              "             param_grid={'criterion': ['friedman_mse', 'squared_error',\n",
              "                                       'poisson'],\n",
              "                         'max_depth': [None, 5, 10, 15, 45, 90],\n",
              "                         'min_samples_leaf': [1, 5, 20, 50, 90],\n",
              "                         'min_samples_split': [2, 5, 10, 40, 60, 100, 150],\n",
              "                         'random_state': [1], 'splitter': ['best', 'random']},\n",
              "             refit=False, scoring='neg_mean_absolute_error')"
            ]
          },
          "execution_count": 19,
          "metadata": {},
          "output_type": "execute_result"
        },
        {
          "name": "stdout",
          "output_type": "stream",
          "text": [
            "1 model performance table available.\n"
          ]
        },
        {
          "data": {
            "text/html": [
              "<div>\n",
              "<style scoped>\n",
              "    .dataframe tbody tr th:only-of-type {\n",
              "        vertical-align: middle;\n",
              "    }\n",
              "\n",
              "    .dataframe tbody tr th {\n",
              "        vertical-align: top;\n",
              "    }\n",
              "\n",
              "    .dataframe thead th {\n",
              "        text-align: right;\n",
              "    }\n",
              "</style>\n",
              "<table border=\"1\" class=\"dataframe\">\n",
              "  <thead>\n",
              "    <tr style=\"text-align: right;\">\n",
              "      <th></th>\n",
              "      <th>MAE (TS)</th>\n",
              "      <th>MSE (TS)</th>\n",
              "      <th>RMSE (TS)</th>\n",
              "      <th>R^2 (TS)</th>\n",
              "      <th>MAE (TE)</th>\n",
              "      <th>MSE (TE)</th>\n",
              "      <th>RMSE (TE)</th>\n",
              "      <th>R^2 (TE)</th>\n",
              "    </tr>\n",
              "  </thead>\n",
              "  <tbody>\n",
              "    <tr>\n",
              "      <th>Decision Tree (Split 1)</th>\n",
              "      <td>0.161083</td>\n",
              "      <td>0.049219</td>\n",
              "      <td>0.221854</td>\n",
              "      <td>0.811032</td>\n",
              "      <td>0.183464</td>\n",
              "      <td>0.070988</td>\n",
              "      <td>0.266437</td>\n",
              "      <td>0.717087</td>\n",
              "    </tr>\n",
              "    <tr>\n",
              "      <th>Decision Tree (Split 2)</th>\n",
              "      <td>0.161789</td>\n",
              "      <td>0.050042</td>\n",
              "      <td>0.223701</td>\n",
              "      <td>0.804602</td>\n",
              "      <td>0.189858</td>\n",
              "      <td>0.065407</td>\n",
              "      <td>0.255748</td>\n",
              "      <td>0.756876</td>\n",
              "    </tr>\n",
              "    <tr>\n",
              "      <th>Decision Tree (Split 3)</th>\n",
              "      <td>0.163397</td>\n",
              "      <td>0.052500</td>\n",
              "      <td>0.229130</td>\n",
              "      <td>0.801388</td>\n",
              "      <td>0.175428</td>\n",
              "      <td>0.059825</td>\n",
              "      <td>0.244591</td>\n",
              "      <td>0.746435</td>\n",
              "    </tr>\n",
              "    <tr>\n",
              "      <th>Decision Tree (Split 4)</th>\n",
              "      <td>0.162807</td>\n",
              "      <td>0.051293</td>\n",
              "      <td>0.226479</td>\n",
              "      <td>0.802965</td>\n",
              "      <td>0.174656</td>\n",
              "      <td>0.055815</td>\n",
              "      <td>0.236252</td>\n",
              "      <td>0.777864</td>\n",
              "    </tr>\n",
              "    <tr>\n",
              "      <th>Decision Tree (Split 5)</th>\n",
              "      <td>0.159648</td>\n",
              "      <td>0.050675</td>\n",
              "      <td>0.225111</td>\n",
              "      <td>0.799273</td>\n",
              "      <td>0.184940</td>\n",
              "      <td>0.066804</td>\n",
              "      <td>0.258465</td>\n",
              "      <td>0.764821</td>\n",
              "    </tr>\n",
              "    <tr>\n",
              "      <th>Average ({'criterion': 'poisson', 'max_depth': None, 'min_samples_leaf': 20, 'min_samples_split': 2, 'random_state': 1, 'splitter': 'best'})</th>\n",
              "      <td>0.161745</td>\n",
              "      <td>0.050746</td>\n",
              "      <td>0.225255</td>\n",
              "      <td>0.803852</td>\n",
              "      <td>0.181669</td>\n",
              "      <td>0.063768</td>\n",
              "      <td>0.252299</td>\n",
              "      <td>0.752617</td>\n",
              "    </tr>\n",
              "  </tbody>\n",
              "</table>\n",
              "</div>"
            ],
            "text/plain": [
              "                                                    MAE (TS)  MSE (TS)  \\\n",
              "Decision Tree (Split 1)                             0.161083  0.049219   \n",
              "Decision Tree (Split 2)                             0.161789  0.050042   \n",
              "Decision Tree (Split 3)                             0.163397  0.052500   \n",
              "Decision Tree (Split 4)                             0.162807  0.051293   \n",
              "Decision Tree (Split 5)                             0.159648  0.050675   \n",
              "Average ({'criterion': 'poisson', 'max_depth': ...  0.161745  0.050746   \n",
              "\n",
              "                                                    RMSE (TS)  R^2 (TS)  \\\n",
              "Decision Tree (Split 1)                              0.221854  0.811032   \n",
              "Decision Tree (Split 2)                              0.223701  0.804602   \n",
              "Decision Tree (Split 3)                              0.229130  0.801388   \n",
              "Decision Tree (Split 4)                              0.226479  0.802965   \n",
              "Decision Tree (Split 5)                              0.225111  0.799273   \n",
              "Average ({'criterion': 'poisson', 'max_depth': ...   0.225255  0.803852   \n",
              "\n",
              "                                                    MAE (TE)  MSE (TE)  \\\n",
              "Decision Tree (Split 1)                             0.183464  0.070988   \n",
              "Decision Tree (Split 2)                             0.189858  0.065407   \n",
              "Decision Tree (Split 3)                             0.175428  0.059825   \n",
              "Decision Tree (Split 4)                             0.174656  0.055815   \n",
              "Decision Tree (Split 5)                             0.184940  0.066804   \n",
              "Average ({'criterion': 'poisson', 'max_depth': ...  0.181669  0.063768   \n",
              "\n",
              "                                                    RMSE (TE)  R^2 (TE)  \n",
              "Decision Tree (Split 1)                              0.266437  0.717087  \n",
              "Decision Tree (Split 2)                              0.255748  0.756876  \n",
              "Decision Tree (Split 3)                              0.244591  0.746435  \n",
              "Decision Tree (Split 4)                              0.236252  0.777864  \n",
              "Decision Tree (Split 5)                              0.258465  0.764821  \n",
              "Average ({'criterion': 'poisson', 'max_depth': ...   0.252299  0.752617  "
            ]
          },
          "execution_count": 19,
          "metadata": {},
          "output_type": "execute_result"
        }
      ],
      "source": [
        "from sklearn.tree import DecisionTreeRegressor\n",
        "\n",
        "# iperparametri\n",
        "regDet_params = {\n",
        "    'criterion': ['friedman_mse', 'squared_error', 'poisson'],\n",
        "    'splitter': ['best', 'random'],\n",
        "    'max_depth': [None, 5, 10, 15, 45, 90],\n",
        "    'min_samples_leaf': [1, 5, 20, 50, 90],\n",
        "    'min_samples_split': [2, 5, 10, 40, 60, 100, 150],\n",
        "    'random_state': [1]\n",
        "}\n",
        "\n",
        "# ricerca migliore configurazione di iperparametri\n",
        "regDet_grid = GridSearchCV(\n",
        "    estimator=DecisionTreeRegressor(),\n",
        "    param_grid=regDet_params,\n",
        "    cv=5,\n",
        "    scoring='neg_mean_absolute_error',\n",
        "    refit=False\n",
        ")\n",
        "regDet_grid.fit(X=X_TS, y=gt_y_TS)\n",
        "regDet_params_best = regDet_grid.best_params_\n",
        "save_cv_results(regDet_grid, \"regDet\")\n",
        "\n",
        "# calcolo metriche\n",
        "# lista adatta al ParameterGrid\n",
        "regDet_params_best = {k: [v] if not isinstance(v, list) else v for k, v in regDet_params_best.items()}\n",
        "regDet_perf = custom_kf_cv(X=X_DS_, y=y_DS_,\n",
        "                                    m=DecisionTreeRegressor(random_state=1),\n",
        "                                    m_name=\"Decision Tree\",\n",
        "                                    param_grid=ParameterGrid(regDet_params_best),\n",
        "                                    k=5,\n",
        "                                    scaler=None)\n",
        "\n",
        "# >>>\n",
        "print(f\"{len(regDet_perf)} model performance table available.\")\n",
        "regDet_perf[0]"
      ]
    },
    {
      "cell_type": "markdown",
      "metadata": {},
      "source": [
        "### Regressore SVM\n",
        "\n",
        "Un regressore con vettori di supporto sfrutta i vettori di supporto per costruire un modello di regressione che bilancia la minimizzazione dell'errore di previsione e la penalizzazione per le violazioni della soglia di errore impostata. Il kernel trick è utilizzato per trattare relazioni non lineari nei dati. Gli iperparametri in questione sono:\n",
        "- `kernel` è la funzione kernel che calcola indirettamente il prodotto scalare (in uno spazio dimensionale maggiore) tra due vettori. \n",
        "- `C` controlla il trade-off tra la complessità del modello e la penalizzazione per gli errori di previsione. Se lo aumentiamo, il modello tenderà a seguire più da vicino i dati di addestramento, ma potrebbe essere più sensibile al rumore. Riducendo C, il modello sarà più robusto contro il rumore, ma potrebbe non adattarsi bene.\n",
        "- `epsilon` è banalmente la soglia di tolleranza degli errori.\n",
        "- `gamma` è indica quanto lontano si estende l'influenza di un singolo esempio di addestramento."
      ]
    },
    {
      "cell_type": "code",
      "execution_count": 20,
      "metadata": {},
      "outputs": [
        {
          "data": {
            "text/html": [
              "<style>#sk-container-id-3 {color: black;}#sk-container-id-3 pre{padding: 0;}#sk-container-id-3 div.sk-toggleable {background-color: white;}#sk-container-id-3 label.sk-toggleable__label {cursor: pointer;display: block;width: 100%;margin-bottom: 0;padding: 0.3em;box-sizing: border-box;text-align: center;}#sk-container-id-3 label.sk-toggleable__label-arrow:before {content: \"▸\";float: left;margin-right: 0.25em;color: #696969;}#sk-container-id-3 label.sk-toggleable__label-arrow:hover:before {color: black;}#sk-container-id-3 div.sk-estimator:hover label.sk-toggleable__label-arrow:before {color: black;}#sk-container-id-3 div.sk-toggleable__content {max-height: 0;max-width: 0;overflow: hidden;text-align: left;background-color: #f0f8ff;}#sk-container-id-3 div.sk-toggleable__content pre {margin: 0.2em;color: black;border-radius: 0.25em;background-color: #f0f8ff;}#sk-container-id-3 input.sk-toggleable__control:checked~div.sk-toggleable__content {max-height: 200px;max-width: 100%;overflow: auto;}#sk-container-id-3 input.sk-toggleable__control:checked~label.sk-toggleable__label-arrow:before {content: \"▾\";}#sk-container-id-3 div.sk-estimator input.sk-toggleable__control:checked~label.sk-toggleable__label {background-color: #d4ebff;}#sk-container-id-3 div.sk-label input.sk-toggleable__control:checked~label.sk-toggleable__label {background-color: #d4ebff;}#sk-container-id-3 input.sk-hidden--visually {border: 0;clip: rect(1px 1px 1px 1px);clip: rect(1px, 1px, 1px, 1px);height: 1px;margin: -1px;overflow: hidden;padding: 0;position: absolute;width: 1px;}#sk-container-id-3 div.sk-estimator {font-family: monospace;background-color: #f0f8ff;border: 1px dotted black;border-radius: 0.25em;box-sizing: border-box;margin-bottom: 0.5em;}#sk-container-id-3 div.sk-estimator:hover {background-color: #d4ebff;}#sk-container-id-3 div.sk-parallel-item::after {content: \"\";width: 100%;border-bottom: 1px solid gray;flex-grow: 1;}#sk-container-id-3 div.sk-label:hover label.sk-toggleable__label {background-color: #d4ebff;}#sk-container-id-3 div.sk-serial::before {content: \"\";position: absolute;border-left: 1px solid gray;box-sizing: border-box;top: 0;bottom: 0;left: 50%;z-index: 0;}#sk-container-id-3 div.sk-serial {display: flex;flex-direction: column;align-items: center;background-color: white;padding-right: 0.2em;padding-left: 0.2em;position: relative;}#sk-container-id-3 div.sk-item {position: relative;z-index: 1;}#sk-container-id-3 div.sk-parallel {display: flex;align-items: stretch;justify-content: center;background-color: white;position: relative;}#sk-container-id-3 div.sk-item::before, #sk-container-id-3 div.sk-parallel-item::before {content: \"\";position: absolute;border-left: 1px solid gray;box-sizing: border-box;top: 0;bottom: 0;left: 50%;z-index: -1;}#sk-container-id-3 div.sk-parallel-item {display: flex;flex-direction: column;z-index: 1;position: relative;background-color: white;}#sk-container-id-3 div.sk-parallel-item:first-child::after {align-self: flex-end;width: 50%;}#sk-container-id-3 div.sk-parallel-item:last-child::after {align-self: flex-start;width: 50%;}#sk-container-id-3 div.sk-parallel-item:only-child::after {width: 0;}#sk-container-id-3 div.sk-dashed-wrapped {border: 1px dashed gray;margin: 0 0.4em 0.5em 0.4em;box-sizing: border-box;padding-bottom: 0.4em;background-color: white;}#sk-container-id-3 div.sk-label label {font-family: monospace;font-weight: bold;display: inline-block;line-height: 1.2em;}#sk-container-id-3 div.sk-label-container {text-align: center;}#sk-container-id-3 div.sk-container {/* jupyter's `normalize.less` sets `[hidden] { display: none; }` but bootstrap.min.css set `[hidden] { display: none !important; }` so we also need the `!important` here to be able to override the default hidden behavior on the sphinx rendered scikit-learn.org. See: https://github.com/scikit-learn/scikit-learn/issues/21755 */display: inline-block !important;position: relative;}#sk-container-id-3 div.sk-text-repr-fallback {display: none;}</style><div id=\"sk-container-id-3\" class=\"sk-top-container\"><div class=\"sk-text-repr-fallback\"><pre>GridSearchCV(cv=5, estimator=SVR(),\n",
              "             param_grid={&#x27;C&#x27;: [1, 6, 10, 15, 35, 100],\n",
              "                         &#x27;epsilon&#x27;: [0.1, 0.2, 0.3, 0.5, 1, 2],\n",
              "                         &#x27;gamma&#x27;: [&#x27;scale&#x27;, &#x27;auto&#x27;, 0.01, 0.1, 1],\n",
              "                         &#x27;kernel&#x27;: [&#x27;rbf&#x27;, &#x27;sigmoid&#x27;]},\n",
              "             refit=False, scoring=&#x27;neg_mean_absolute_error&#x27;)</pre><b>In a Jupyter environment, please rerun this cell to show the HTML representation or trust the notebook. <br />On GitHub, the HTML representation is unable to render, please try loading this page with nbviewer.org.</b></div><div class=\"sk-container\" hidden><div class=\"sk-item sk-dashed-wrapped\"><div class=\"sk-label-container\"><div class=\"sk-label sk-toggleable\"><input class=\"sk-toggleable__control sk-hidden--visually\" id=\"sk-estimator-id-7\" type=\"checkbox\" ><label for=\"sk-estimator-id-7\" class=\"sk-toggleable__label sk-toggleable__label-arrow\">GridSearchCV</label><div class=\"sk-toggleable__content\"><pre>GridSearchCV(cv=5, estimator=SVR(),\n",
              "             param_grid={&#x27;C&#x27;: [1, 6, 10, 15, 35, 100],\n",
              "                         &#x27;epsilon&#x27;: [0.1, 0.2, 0.3, 0.5, 1, 2],\n",
              "                         &#x27;gamma&#x27;: [&#x27;scale&#x27;, &#x27;auto&#x27;, 0.01, 0.1, 1],\n",
              "                         &#x27;kernel&#x27;: [&#x27;rbf&#x27;, &#x27;sigmoid&#x27;]},\n",
              "             refit=False, scoring=&#x27;neg_mean_absolute_error&#x27;)</pre></div></div></div><div class=\"sk-parallel\"><div class=\"sk-parallel-item\"><div class=\"sk-item\"><div class=\"sk-label-container\"><div class=\"sk-label sk-toggleable\"><input class=\"sk-toggleable__control sk-hidden--visually\" id=\"sk-estimator-id-8\" type=\"checkbox\" ><label for=\"sk-estimator-id-8\" class=\"sk-toggleable__label sk-toggleable__label-arrow\">estimator: SVR</label><div class=\"sk-toggleable__content\"><pre>SVR()</pre></div></div></div><div class=\"sk-serial\"><div class=\"sk-item\"><div class=\"sk-estimator sk-toggleable\"><input class=\"sk-toggleable__control sk-hidden--visually\" id=\"sk-estimator-id-9\" type=\"checkbox\" ><label for=\"sk-estimator-id-9\" class=\"sk-toggleable__label sk-toggleable__label-arrow\">SVR</label><div class=\"sk-toggleable__content\"><pre>SVR()</pre></div></div></div></div></div></div></div></div></div></div>"
            ],
            "text/plain": [
              "GridSearchCV(cv=5, estimator=SVR(),\n",
              "             param_grid={'C': [1, 6, 10, 15, 35, 100],\n",
              "                         'epsilon': [0.1, 0.2, 0.3, 0.5, 1, 2],\n",
              "                         'gamma': ['scale', 'auto', 0.01, 0.1, 1],\n",
              "                         'kernel': ['rbf', 'sigmoid']},\n",
              "             refit=False, scoring='neg_mean_absolute_error')"
            ]
          },
          "execution_count": 20,
          "metadata": {},
          "output_type": "execute_result"
        },
        {
          "name": "stdout",
          "output_type": "stream",
          "text": [
            "1 model performance table available.\n"
          ]
        },
        {
          "data": {
            "text/html": [
              "<div>\n",
              "<style scoped>\n",
              "    .dataframe tbody tr th:only-of-type {\n",
              "        vertical-align: middle;\n",
              "    }\n",
              "\n",
              "    .dataframe tbody tr th {\n",
              "        vertical-align: top;\n",
              "    }\n",
              "\n",
              "    .dataframe thead th {\n",
              "        text-align: right;\n",
              "    }\n",
              "</style>\n",
              "<table border=\"1\" class=\"dataframe\">\n",
              "  <thead>\n",
              "    <tr style=\"text-align: right;\">\n",
              "      <th></th>\n",
              "      <th>MAE (TS)</th>\n",
              "      <th>MSE (TS)</th>\n",
              "      <th>RMSE (TS)</th>\n",
              "      <th>R^2 (TS)</th>\n",
              "      <th>MAE (TE)</th>\n",
              "      <th>MSE (TE)</th>\n",
              "      <th>RMSE (TE)</th>\n",
              "      <th>R^2 (TE)</th>\n",
              "    </tr>\n",
              "  </thead>\n",
              "  <tbody>\n",
              "    <tr>\n",
              "      <th>SVR (Split 1)</th>\n",
              "      <td>0.150572</td>\n",
              "      <td>0.044841</td>\n",
              "      <td>0.211757</td>\n",
              "      <td>0.827842</td>\n",
              "      <td>0.183014</td>\n",
              "      <td>0.078444</td>\n",
              "      <td>0.280079</td>\n",
              "      <td>0.687373</td>\n",
              "    </tr>\n",
              "    <tr>\n",
              "      <th>SVR (Split 2)</th>\n",
              "      <td>0.151066</td>\n",
              "      <td>0.047282</td>\n",
              "      <td>0.217444</td>\n",
              "      <td>0.815381</td>\n",
              "      <td>0.197306</td>\n",
              "      <td>0.081906</td>\n",
              "      <td>0.286193</td>\n",
              "      <td>0.695547</td>\n",
              "    </tr>\n",
              "    <tr>\n",
              "      <th>SVR (Split 3)</th>\n",
              "      <td>0.146430</td>\n",
              "      <td>0.043309</td>\n",
              "      <td>0.208109</td>\n",
              "      <td>0.836158</td>\n",
              "      <td>0.194843</td>\n",
              "      <td>0.096549</td>\n",
              "      <td>0.310723</td>\n",
              "      <td>0.590782</td>\n",
              "    </tr>\n",
              "    <tr>\n",
              "      <th>SVR (Split 4)</th>\n",
              "      <td>0.150424</td>\n",
              "      <td>0.047191</td>\n",
              "      <td>0.217235</td>\n",
              "      <td>0.818721</td>\n",
              "      <td>0.176371</td>\n",
              "      <td>0.061265</td>\n",
              "      <td>0.247518</td>\n",
              "      <td>0.756172</td>\n",
              "    </tr>\n",
              "    <tr>\n",
              "      <th>SVR (Split 5)</th>\n",
              "      <td>0.141298</td>\n",
              "      <td>0.040394</td>\n",
              "      <td>0.200984</td>\n",
              "      <td>0.839995</td>\n",
              "      <td>0.191581</td>\n",
              "      <td>0.079021</td>\n",
              "      <td>0.281106</td>\n",
              "      <td>0.721814</td>\n",
              "    </tr>\n",
              "    <tr>\n",
              "      <th>Average ({'C': 100, 'epsilon': 0.1, 'gamma': 'scale', 'kernel': 'rbf'})</th>\n",
              "      <td>0.147958</td>\n",
              "      <td>0.044603</td>\n",
              "      <td>0.211106</td>\n",
              "      <td>0.827619</td>\n",
              "      <td>0.188623</td>\n",
              "      <td>0.079437</td>\n",
              "      <td>0.281124</td>\n",
              "      <td>0.690338</td>\n",
              "    </tr>\n",
              "  </tbody>\n",
              "</table>\n",
              "</div>"
            ],
            "text/plain": [
              "                                                    MAE (TS)  MSE (TS)  \\\n",
              "SVR (Split 1)                                       0.150572  0.044841   \n",
              "SVR (Split 2)                                       0.151066  0.047282   \n",
              "SVR (Split 3)                                       0.146430  0.043309   \n",
              "SVR (Split 4)                                       0.150424  0.047191   \n",
              "SVR (Split 5)                                       0.141298  0.040394   \n",
              "Average ({'C': 100, 'epsilon': 0.1, 'gamma': 's...  0.147958  0.044603   \n",
              "\n",
              "                                                    RMSE (TS)  R^2 (TS)  \\\n",
              "SVR (Split 1)                                        0.211757  0.827842   \n",
              "SVR (Split 2)                                        0.217444  0.815381   \n",
              "SVR (Split 3)                                        0.208109  0.836158   \n",
              "SVR (Split 4)                                        0.217235  0.818721   \n",
              "SVR (Split 5)                                        0.200984  0.839995   \n",
              "Average ({'C': 100, 'epsilon': 0.1, 'gamma': 's...   0.211106  0.827619   \n",
              "\n",
              "                                                    MAE (TE)  MSE (TE)  \\\n",
              "SVR (Split 1)                                       0.183014  0.078444   \n",
              "SVR (Split 2)                                       0.197306  0.081906   \n",
              "SVR (Split 3)                                       0.194843  0.096549   \n",
              "SVR (Split 4)                                       0.176371  0.061265   \n",
              "SVR (Split 5)                                       0.191581  0.079021   \n",
              "Average ({'C': 100, 'epsilon': 0.1, 'gamma': 's...  0.188623  0.079437   \n",
              "\n",
              "                                                    RMSE (TE)  R^2 (TE)  \n",
              "SVR (Split 1)                                        0.280079  0.687373  \n",
              "SVR (Split 2)                                        0.286193  0.695547  \n",
              "SVR (Split 3)                                        0.310723  0.590782  \n",
              "SVR (Split 4)                                        0.247518  0.756172  \n",
              "SVR (Split 5)                                        0.281106  0.721814  \n",
              "Average ({'C': 100, 'epsilon': 0.1, 'gamma': 's...   0.281124  0.690338  "
            ]
          },
          "execution_count": 20,
          "metadata": {},
          "output_type": "execute_result"
        }
      ],
      "source": [
        "from sklearn.svm import SVR\n",
        "\n",
        "# iperparametri\n",
        "regSVR_params = {\n",
        "    'kernel': ['rbf', 'sigmoid'],\n",
        "    'C': [1, 6, 10, 15, 35, 100],\n",
        "    'epsilon': [0.1, 0.2, 0.3, 0.5, 1, 2],\n",
        "    'gamma': ['scale', 'auto', 0.01, 0.1, 1],\n",
        "}\n",
        "\n",
        "# ricerca migliore configurazione di iperparametri\n",
        "regSVR_grid = GridSearchCV(\n",
        "    estimator=SVR(),\n",
        "    param_grid=regSVR_params,\n",
        "    cv=5,\n",
        "    scoring='neg_mean_absolute_error',\n",
        "    refit=False,\n",
        ")\n",
        "regSVR_grid.fit(X=X_TS, y=gt_y_TS)\n",
        "regSVR_params_best = regSVR_grid.best_params_\n",
        "save_cv_results(regSVR_grid, \"regSVR\")\n",
        "\n",
        "# calcolo metriche\n",
        "# lista adatta al ParameterGrid\n",
        "regSVR_params_best = {k: [v] if not isinstance(v, list) else v for k, v in regSVR_params_best.items()}\n",
        "regSVR_perf = custom_kf_cv(X=X_DS_, y=y_DS_,\n",
        "                                    m=SVR(),\n",
        "                                    m_name=\"SVR\",\n",
        "                                    param_grid=ParameterGrid(regSVR_params_best),\n",
        "                                    k=5,\n",
        "                                    scaler=MinMaxScaler())\n",
        "\n",
        "# >>>\n",
        "print(f\"{len(regSVR_perf)} model performance table available.\")\n",
        "regSVR_perf[0]"
      ]
    },
    {
      "cell_type": "markdown",
      "metadata": {},
      "source": [
        "### Regressore Random Forest\n",
        "\n",
        "Il regressore Random Forest rientra tra le tecniche Ensemble di SL. A partire da un TS, addestra più alberi di regressione, tenendo conto che ciascun albero può basarsi su una partizione del TS originale diversa da quella di un altro albero. Una volta che tutti gli alberi hanno predetto un valore, la tecnica Random Forest restituisce un valore ottenuto dalla combinazione dei precedenti."
      ]
    },
    {
      "cell_type": "code",
      "execution_count": 21,
      "metadata": {},
      "outputs": [
        {
          "data": {
            "text/html": [
              "<style>#sk-container-id-4 {color: black;}#sk-container-id-4 pre{padding: 0;}#sk-container-id-4 div.sk-toggleable {background-color: white;}#sk-container-id-4 label.sk-toggleable__label {cursor: pointer;display: block;width: 100%;margin-bottom: 0;padding: 0.3em;box-sizing: border-box;text-align: center;}#sk-container-id-4 label.sk-toggleable__label-arrow:before {content: \"▸\";float: left;margin-right: 0.25em;color: #696969;}#sk-container-id-4 label.sk-toggleable__label-arrow:hover:before {color: black;}#sk-container-id-4 div.sk-estimator:hover label.sk-toggleable__label-arrow:before {color: black;}#sk-container-id-4 div.sk-toggleable__content {max-height: 0;max-width: 0;overflow: hidden;text-align: left;background-color: #f0f8ff;}#sk-container-id-4 div.sk-toggleable__content pre {margin: 0.2em;color: black;border-radius: 0.25em;background-color: #f0f8ff;}#sk-container-id-4 input.sk-toggleable__control:checked~div.sk-toggleable__content {max-height: 200px;max-width: 100%;overflow: auto;}#sk-container-id-4 input.sk-toggleable__control:checked~label.sk-toggleable__label-arrow:before {content: \"▾\";}#sk-container-id-4 div.sk-estimator input.sk-toggleable__control:checked~label.sk-toggleable__label {background-color: #d4ebff;}#sk-container-id-4 div.sk-label input.sk-toggleable__control:checked~label.sk-toggleable__label {background-color: #d4ebff;}#sk-container-id-4 input.sk-hidden--visually {border: 0;clip: rect(1px 1px 1px 1px);clip: rect(1px, 1px, 1px, 1px);height: 1px;margin: -1px;overflow: hidden;padding: 0;position: absolute;width: 1px;}#sk-container-id-4 div.sk-estimator {font-family: monospace;background-color: #f0f8ff;border: 1px dotted black;border-radius: 0.25em;box-sizing: border-box;margin-bottom: 0.5em;}#sk-container-id-4 div.sk-estimator:hover {background-color: #d4ebff;}#sk-container-id-4 div.sk-parallel-item::after {content: \"\";width: 100%;border-bottom: 1px solid gray;flex-grow: 1;}#sk-container-id-4 div.sk-label:hover label.sk-toggleable__label {background-color: #d4ebff;}#sk-container-id-4 div.sk-serial::before {content: \"\";position: absolute;border-left: 1px solid gray;box-sizing: border-box;top: 0;bottom: 0;left: 50%;z-index: 0;}#sk-container-id-4 div.sk-serial {display: flex;flex-direction: column;align-items: center;background-color: white;padding-right: 0.2em;padding-left: 0.2em;position: relative;}#sk-container-id-4 div.sk-item {position: relative;z-index: 1;}#sk-container-id-4 div.sk-parallel {display: flex;align-items: stretch;justify-content: center;background-color: white;position: relative;}#sk-container-id-4 div.sk-item::before, #sk-container-id-4 div.sk-parallel-item::before {content: \"\";position: absolute;border-left: 1px solid gray;box-sizing: border-box;top: 0;bottom: 0;left: 50%;z-index: -1;}#sk-container-id-4 div.sk-parallel-item {display: flex;flex-direction: column;z-index: 1;position: relative;background-color: white;}#sk-container-id-4 div.sk-parallel-item:first-child::after {align-self: flex-end;width: 50%;}#sk-container-id-4 div.sk-parallel-item:last-child::after {align-self: flex-start;width: 50%;}#sk-container-id-4 div.sk-parallel-item:only-child::after {width: 0;}#sk-container-id-4 div.sk-dashed-wrapped {border: 1px dashed gray;margin: 0 0.4em 0.5em 0.4em;box-sizing: border-box;padding-bottom: 0.4em;background-color: white;}#sk-container-id-4 div.sk-label label {font-family: monospace;font-weight: bold;display: inline-block;line-height: 1.2em;}#sk-container-id-4 div.sk-label-container {text-align: center;}#sk-container-id-4 div.sk-container {/* jupyter's `normalize.less` sets `[hidden] { display: none; }` but bootstrap.min.css set `[hidden] { display: none !important; }` so we also need the `!important` here to be able to override the default hidden behavior on the sphinx rendered scikit-learn.org. See: https://github.com/scikit-learn/scikit-learn/issues/21755 */display: inline-block !important;position: relative;}#sk-container-id-4 div.sk-text-repr-fallback {display: none;}</style><div id=\"sk-container-id-4\" class=\"sk-top-container\"><div class=\"sk-text-repr-fallback\"><pre>GridSearchCV(cv=5, estimator=RandomForestRegressor(),\n",
              "             param_grid={&#x27;bootstrap&#x27;: [True],\n",
              "                         &#x27;criterion&#x27;: [&#x27;friedman_mse&#x27;, &#x27;squared_error&#x27;],\n",
              "                         &#x27;max_depth&#x27;: [10, 15, 22],\n",
              "                         &#x27;min_samples_leaf&#x27;: [1, 5, 20],\n",
              "                         &#x27;min_samples_split&#x27;: [2, 50, 120],\n",
              "                         &#x27;n_estimators&#x27;: [50, 100], &#x27;random_state&#x27;: [66]},\n",
              "             refit=False, scoring=&#x27;neg_mean_absolute_error&#x27;)</pre><b>In a Jupyter environment, please rerun this cell to show the HTML representation or trust the notebook. <br />On GitHub, the HTML representation is unable to render, please try loading this page with nbviewer.org.</b></div><div class=\"sk-container\" hidden><div class=\"sk-item sk-dashed-wrapped\"><div class=\"sk-label-container\"><div class=\"sk-label sk-toggleable\"><input class=\"sk-toggleable__control sk-hidden--visually\" id=\"sk-estimator-id-10\" type=\"checkbox\" ><label for=\"sk-estimator-id-10\" class=\"sk-toggleable__label sk-toggleable__label-arrow\">GridSearchCV</label><div class=\"sk-toggleable__content\"><pre>GridSearchCV(cv=5, estimator=RandomForestRegressor(),\n",
              "             param_grid={&#x27;bootstrap&#x27;: [True],\n",
              "                         &#x27;criterion&#x27;: [&#x27;friedman_mse&#x27;, &#x27;squared_error&#x27;],\n",
              "                         &#x27;max_depth&#x27;: [10, 15, 22],\n",
              "                         &#x27;min_samples_leaf&#x27;: [1, 5, 20],\n",
              "                         &#x27;min_samples_split&#x27;: [2, 50, 120],\n",
              "                         &#x27;n_estimators&#x27;: [50, 100], &#x27;random_state&#x27;: [66]},\n",
              "             refit=False, scoring=&#x27;neg_mean_absolute_error&#x27;)</pre></div></div></div><div class=\"sk-parallel\"><div class=\"sk-parallel-item\"><div class=\"sk-item\"><div class=\"sk-label-container\"><div class=\"sk-label sk-toggleable\"><input class=\"sk-toggleable__control sk-hidden--visually\" id=\"sk-estimator-id-11\" type=\"checkbox\" ><label for=\"sk-estimator-id-11\" class=\"sk-toggleable__label sk-toggleable__label-arrow\">estimator: RandomForestRegressor</label><div class=\"sk-toggleable__content\"><pre>RandomForestRegressor()</pre></div></div></div><div class=\"sk-serial\"><div class=\"sk-item\"><div class=\"sk-estimator sk-toggleable\"><input class=\"sk-toggleable__control sk-hidden--visually\" id=\"sk-estimator-id-12\" type=\"checkbox\" ><label for=\"sk-estimator-id-12\" class=\"sk-toggleable__label sk-toggleable__label-arrow\">RandomForestRegressor</label><div class=\"sk-toggleable__content\"><pre>RandomForestRegressor()</pre></div></div></div></div></div></div></div></div></div></div>"
            ],
            "text/plain": [
              "GridSearchCV(cv=5, estimator=RandomForestRegressor(),\n",
              "             param_grid={'bootstrap': [True],\n",
              "                         'criterion': ['friedman_mse', 'squared_error'],\n",
              "                         'max_depth': [10, 15, 22],\n",
              "                         'min_samples_leaf': [1, 5, 20],\n",
              "                         'min_samples_split': [2, 50, 120],\n",
              "                         'n_estimators': [50, 100], 'random_state': [66]},\n",
              "             refit=False, scoring='neg_mean_absolute_error')"
            ]
          },
          "execution_count": 21,
          "metadata": {},
          "output_type": "execute_result"
        },
        {
          "data": {
            "text/html": [
              "<style>#sk-container-id-5 {color: black;}#sk-container-id-5 pre{padding: 0;}#sk-container-id-5 div.sk-toggleable {background-color: white;}#sk-container-id-5 label.sk-toggleable__label {cursor: pointer;display: block;width: 100%;margin-bottom: 0;padding: 0.3em;box-sizing: border-box;text-align: center;}#sk-container-id-5 label.sk-toggleable__label-arrow:before {content: \"▸\";float: left;margin-right: 0.25em;color: #696969;}#sk-container-id-5 label.sk-toggleable__label-arrow:hover:before {color: black;}#sk-container-id-5 div.sk-estimator:hover label.sk-toggleable__label-arrow:before {color: black;}#sk-container-id-5 div.sk-toggleable__content {max-height: 0;max-width: 0;overflow: hidden;text-align: left;background-color: #f0f8ff;}#sk-container-id-5 div.sk-toggleable__content pre {margin: 0.2em;color: black;border-radius: 0.25em;background-color: #f0f8ff;}#sk-container-id-5 input.sk-toggleable__control:checked~div.sk-toggleable__content {max-height: 200px;max-width: 100%;overflow: auto;}#sk-container-id-5 input.sk-toggleable__control:checked~label.sk-toggleable__label-arrow:before {content: \"▾\";}#sk-container-id-5 div.sk-estimator input.sk-toggleable__control:checked~label.sk-toggleable__label {background-color: #d4ebff;}#sk-container-id-5 div.sk-label input.sk-toggleable__control:checked~label.sk-toggleable__label {background-color: #d4ebff;}#sk-container-id-5 input.sk-hidden--visually {border: 0;clip: rect(1px 1px 1px 1px);clip: rect(1px, 1px, 1px, 1px);height: 1px;margin: -1px;overflow: hidden;padding: 0;position: absolute;width: 1px;}#sk-container-id-5 div.sk-estimator {font-family: monospace;background-color: #f0f8ff;border: 1px dotted black;border-radius: 0.25em;box-sizing: border-box;margin-bottom: 0.5em;}#sk-container-id-5 div.sk-estimator:hover {background-color: #d4ebff;}#sk-container-id-5 div.sk-parallel-item::after {content: \"\";width: 100%;border-bottom: 1px solid gray;flex-grow: 1;}#sk-container-id-5 div.sk-label:hover label.sk-toggleable__label {background-color: #d4ebff;}#sk-container-id-5 div.sk-serial::before {content: \"\";position: absolute;border-left: 1px solid gray;box-sizing: border-box;top: 0;bottom: 0;left: 50%;z-index: 0;}#sk-container-id-5 div.sk-serial {display: flex;flex-direction: column;align-items: center;background-color: white;padding-right: 0.2em;padding-left: 0.2em;position: relative;}#sk-container-id-5 div.sk-item {position: relative;z-index: 1;}#sk-container-id-5 div.sk-parallel {display: flex;align-items: stretch;justify-content: center;background-color: white;position: relative;}#sk-container-id-5 div.sk-item::before, #sk-container-id-5 div.sk-parallel-item::before {content: \"\";position: absolute;border-left: 1px solid gray;box-sizing: border-box;top: 0;bottom: 0;left: 50%;z-index: -1;}#sk-container-id-5 div.sk-parallel-item {display: flex;flex-direction: column;z-index: 1;position: relative;background-color: white;}#sk-container-id-5 div.sk-parallel-item:first-child::after {align-self: flex-end;width: 50%;}#sk-container-id-5 div.sk-parallel-item:last-child::after {align-self: flex-start;width: 50%;}#sk-container-id-5 div.sk-parallel-item:only-child::after {width: 0;}#sk-container-id-5 div.sk-dashed-wrapped {border: 1px dashed gray;margin: 0 0.4em 0.5em 0.4em;box-sizing: border-box;padding-bottom: 0.4em;background-color: white;}#sk-container-id-5 div.sk-label label {font-family: monospace;font-weight: bold;display: inline-block;line-height: 1.2em;}#sk-container-id-5 div.sk-label-container {text-align: center;}#sk-container-id-5 div.sk-container {/* jupyter's `normalize.less` sets `[hidden] { display: none; }` but bootstrap.min.css set `[hidden] { display: none !important; }` so we also need the `!important` here to be able to override the default hidden behavior on the sphinx rendered scikit-learn.org. See: https://github.com/scikit-learn/scikit-learn/issues/21755 */display: inline-block !important;position: relative;}#sk-container-id-5 div.sk-text-repr-fallback {display: none;}</style><div id=\"sk-container-id-5\" class=\"sk-top-container\"><div class=\"sk-text-repr-fallback\"><pre>RandomForestRegressor(criterion=&#x27;friedman_mse&#x27;, max_depth=15,\n",
              "                      min_samples_leaf=5, random_state=66)</pre><b>In a Jupyter environment, please rerun this cell to show the HTML representation or trust the notebook. <br />On GitHub, the HTML representation is unable to render, please try loading this page with nbviewer.org.</b></div><div class=\"sk-container\" hidden><div class=\"sk-item\"><div class=\"sk-estimator sk-toggleable\"><input class=\"sk-toggleable__control sk-hidden--visually\" id=\"sk-estimator-id-13\" type=\"checkbox\" checked><label for=\"sk-estimator-id-13\" class=\"sk-toggleable__label sk-toggleable__label-arrow\">RandomForestRegressor</label><div class=\"sk-toggleable__content\"><pre>RandomForestRegressor(criterion=&#x27;friedman_mse&#x27;, max_depth=15,\n",
              "                      min_samples_leaf=5, random_state=66)</pre></div></div></div></div></div>"
            ],
            "text/plain": [
              "RandomForestRegressor(criterion='friedman_mse', max_depth=15,\n",
              "                      min_samples_leaf=5, random_state=66)"
            ]
          },
          "execution_count": 21,
          "metadata": {},
          "output_type": "execute_result"
        },
        {
          "ename": "ValueError",
          "evalue": "Length of values (10) does not match length of index (11)",
          "output_type": "error",
          "traceback": [
            "\u001b[1;31m---------------------------------------------------------------------------\u001b[0m",
            "\u001b[1;31mValueError\u001b[0m                                Traceback (most recent call last)",
            "Cell \u001b[1;32mIn[21], line 31\u001b[0m\n\u001b[0;32m     28\u001b[0m regRaf_best_model\u001b[38;5;241m.\u001b[39mfit(X_TS, gt_y_TS)\n\u001b[0;32m     29\u001b[0m std \u001b[38;5;241m=\u001b[39m np\u001b[38;5;241m.\u001b[39mstd([tree\u001b[38;5;241m.\u001b[39mfeature_importances_ \u001b[38;5;28;01mfor\u001b[39;00m tree \u001b[38;5;129;01min\u001b[39;00m regRaf_best_model\u001b[38;5;241m.\u001b[39mestimators_], axis\u001b[38;5;241m=\u001b[39m\u001b[38;5;241m0\u001b[39m)\n\u001b[1;32m---> 31\u001b[0m regRaF_importances \u001b[38;5;241m=\u001b[39m \u001b[43mpd\u001b[49m\u001b[38;5;241;43m.\u001b[39;49m\u001b[43mSeries\u001b[49m\u001b[43m(\u001b[49m\u001b[43mregRaf_best_model\u001b[49m\u001b[38;5;241;43m.\u001b[39;49m\u001b[43mfeature_importances_\u001b[49m\u001b[43m,\u001b[49m\n\u001b[0;32m     32\u001b[0m \u001b[43m                            \u001b[49m\u001b[43mindex\u001b[49m\u001b[38;5;241;43m=\u001b[39;49m\u001b[43m[\u001b[49m\u001b[38;5;124;43m\"\u001b[39;49m\u001b[38;5;124;43mpage_template\u001b[39;49m\u001b[38;5;124;43m\"\u001b[39;49m\u001b[43m,\u001b[49m\u001b[43m \u001b[49m\u001b[38;5;124;43m\"\u001b[39;49m\u001b[38;5;124;43mpage_ungrouped_multim\u001b[39;49m\u001b[38;5;124;43m\"\u001b[39;49m\u001b[43m]\u001b[49m\u001b[43m \u001b[49m\u001b[38;5;241;43m+\u001b[39;49m\u001b[43m \u001b[49m\u001b[43mds3_features_part2\u001b[49m\u001b[38;5;241;43m+\u001b[39;49m\u001b[43m[\u001b[49m\u001b[38;5;124;43m\"\u001b[39;49m\u001b[38;5;124;43mtask1\u001b[39;49m\u001b[38;5;124;43m\"\u001b[39;49m\u001b[43m,\u001b[49m\u001b[43m \u001b[49m\u001b[38;5;124;43m\"\u001b[39;49m\u001b[38;5;124;43mtask2\u001b[39;49m\u001b[38;5;124;43m\"\u001b[39;49m\u001b[43m,\u001b[49m\u001b[43m \u001b[49m\u001b[38;5;124;43m\"\u001b[39;49m\u001b[38;5;124;43mtask3\u001b[39;49m\u001b[38;5;124;43m\"\u001b[39;49m\u001b[43m]\u001b[49m\u001b[43m)\u001b[49m\n\u001b[0;32m     34\u001b[0m \u001b[38;5;66;03m# calcolo metriche\u001b[39;00m\n\u001b[0;32m     35\u001b[0m \u001b[38;5;66;03m# lista adatta al ParameterGrid\u001b[39;00m\n\u001b[0;32m     36\u001b[0m regRaF_params_best \u001b[38;5;241m=\u001b[39m {k: [v] \u001b[38;5;28;01mif\u001b[39;00m \u001b[38;5;129;01mnot\u001b[39;00m \u001b[38;5;28misinstance\u001b[39m(v, \u001b[38;5;28mlist\u001b[39m) \u001b[38;5;28;01melse\u001b[39;00m v \u001b[38;5;28;01mfor\u001b[39;00m k, v \u001b[38;5;129;01min\u001b[39;00m regRaF_params_best\u001b[38;5;241m.\u001b[39mitems()}\n",
            "File \u001b[1;32mc:\\Users\\user\\Desktop\\icon-745751\\venv\\lib\\site-packages\\pandas\\core\\series.py:503\u001b[0m, in \u001b[0;36mSeries.__init__\u001b[1;34m(self, data, index, dtype, name, copy, fastpath)\u001b[0m\n\u001b[0;32m    501\u001b[0m     index \u001b[39m=\u001b[39m default_index(\u001b[39mlen\u001b[39m(data))\n\u001b[0;32m    502\u001b[0m \u001b[39melif\u001b[39;00m is_list_like(data):\n\u001b[1;32m--> 503\u001b[0m     com\u001b[39m.\u001b[39;49mrequire_length_match(data, index)\n\u001b[0;32m    505\u001b[0m \u001b[39m# create/copy the manager\u001b[39;00m\n\u001b[0;32m    506\u001b[0m \u001b[39mif\u001b[39;00m \u001b[39misinstance\u001b[39m(data, (SingleBlockManager, SingleArrayManager)):\n",
            "File \u001b[1;32mc:\\Users\\user\\Desktop\\icon-745751\\venv\\lib\\site-packages\\pandas\\core\\common.py:561\u001b[0m, in \u001b[0;36mrequire_length_match\u001b[1;34m(data, index)\u001b[0m\n\u001b[0;32m    557\u001b[0m \u001b[39m\u001b[39m\u001b[39m\"\"\"\u001b[39;00m\n\u001b[0;32m    558\u001b[0m \u001b[39mCheck the length of data matches the length of the index.\u001b[39;00m\n\u001b[0;32m    559\u001b[0m \u001b[39m\"\"\"\u001b[39;00m\n\u001b[0;32m    560\u001b[0m \u001b[39mif\u001b[39;00m \u001b[39mlen\u001b[39m(data) \u001b[39m!=\u001b[39m \u001b[39mlen\u001b[39m(index):\n\u001b[1;32m--> 561\u001b[0m     \u001b[39mraise\u001b[39;00m \u001b[39mValueError\u001b[39;00m(\n\u001b[0;32m    562\u001b[0m         \u001b[39m\"\u001b[39m\u001b[39mLength of values \u001b[39m\u001b[39m\"\u001b[39m\n\u001b[0;32m    563\u001b[0m         \u001b[39mf\u001b[39m\u001b[39m\"\u001b[39m\u001b[39m(\u001b[39m\u001b[39m{\u001b[39;00m\u001b[39mlen\u001b[39m(data)\u001b[39m}\u001b[39;00m\u001b[39m) \u001b[39m\u001b[39m\"\u001b[39m\n\u001b[0;32m    564\u001b[0m         \u001b[39m\"\u001b[39m\u001b[39mdoes not match length of index \u001b[39m\u001b[39m\"\u001b[39m\n\u001b[0;32m    565\u001b[0m         \u001b[39mf\u001b[39m\u001b[39m\"\u001b[39m\u001b[39m(\u001b[39m\u001b[39m{\u001b[39;00m\u001b[39mlen\u001b[39m(index)\u001b[39m}\u001b[39;00m\u001b[39m)\u001b[39m\u001b[39m\"\u001b[39m\n\u001b[0;32m    566\u001b[0m     )\n",
            "\u001b[1;31mValueError\u001b[0m: Length of values (10) does not match length of index (11)"
          ]
        }
      ],
      "source": [
        "from sklearn.ensemble import RandomForestRegressor\n",
        "\n",
        "# iperparametri\n",
        "regRaF_params = {\n",
        "    'criterion': ['friedman_mse', 'squared_error'],\n",
        "    'n_estimators': [50, 100],\n",
        "    'max_depth': [10, 15, 22],\n",
        "    'min_samples_leaf': [1, 5, 20],\n",
        "    'min_samples_split': [2, 50, 120],\n",
        "    'random_state': [66],\n",
        "    'bootstrap': [True]\n",
        "}\n",
        "\n",
        "# ricerca migliore configurazione di iperparametri\n",
        "regRaF_grid = GridSearchCV(\n",
        "    estimator=RandomForestRegressor(),\n",
        "    param_grid=regRaF_params,\n",
        "    cv=5,\n",
        "    scoring='neg_mean_absolute_error',\n",
        "    refit=False,\n",
        ")\n",
        "regRaF_grid.fit(X=X_TS, y=gt_y_TS)\n",
        "regRaF_params_best = regRaF_grid.best_params_\n",
        "save_cv_results(regRaF_grid, \"regRaF\")\n",
        "\n",
        "#feature importance\n",
        "regRaf_best_model = RandomForestRegressor().set_params(**regRaF_grid.best_params_)\n",
        "regRaf_best_model.fit(X_TS, gt_y_TS)\n",
        "std = np.std([tree.feature_importances_ for tree in regRaf_best_model.estimators_], axis=0)\n",
        "\n",
        "regRaF_importances = pd.Series(regRaf_best_model.feature_importances_,\n",
        "                            index=[\"page_template\", \"page_ungrouped_multim\"] + ds3_features_part2+[\"task1\", \"task2\", \"task3\"])\n",
        "\n",
        "# calcolo metriche\n",
        "# lista adatta al ParameterGrid\n",
        "regRaF_params_best = {k: [v] if not isinstance(v, list) else v for k, v in regRaF_params_best.items()}\n",
        "regRaF_perf = custom_kf_cv(X=X_DS_, y=y_DS_,\n",
        "                                    m=RandomForestRegressor(random_state=66),\n",
        "                                    m_name=\"Random Forest\",\n",
        "                                    param_grid=ParameterGrid(regRaF_params_best),\n",
        "                                    k=5,\n",
        "                                    scaler=None)\n",
        "\n",
        "# >>>\n",
        "print(f\"{len(regRaF_perf)} model performance table available.\")\n",
        "regRaF_perf[0]\n",
        "\n",
        "fig, ax = plt.subplots()\n",
        "regRaF_importances.plot.bar(yerr=std, ax=ax)\n",
        "ax.set_title(\"Random Forest feature importance\")\n",
        "ax.set_ylabel(\"Mean decrease in impurity\")\n",
        "fig.tight_layout()\n",
        "\n"
      ]
    },
    {
      "cell_type": "markdown",
      "metadata": {},
      "source": [
        "### Regressore Gradient Boosting\n",
        "\n",
        "Il regressore Gradient Boosting rientra anch'esso tra le tecniche Ensemble di SL, ma, a differenza del Random Forest, usa un approccio di boosting, cioè crea un nuovo albero di decisione sulla base degli esiti ottenuti dell'albero precedente."
      ]
    },
    {
      "cell_type": "code",
      "execution_count": null,
      "metadata": {},
      "outputs": [],
      "source": [
        "from sklearn.ensemble import GradientBoostingRegressor\n",
        "\n",
        "regGrB_params = {\n",
        "    'criterion': ['friedman_mse'],\n",
        "    'n_estimators': [50, 100],\n",
        "    'learning_rate': [0.05, 0.1, 0.5],\n",
        "    'max_depth': [10, 22],\n",
        "    'min_samples_leaf': [1, 5, 20],\n",
        "    'min_samples_split': [2, 50, 120],\n",
        "    'random_state': [66]\n",
        "}\n",
        "\n",
        "# ricerca migliore configurazione di iperparametri\n",
        "regGrB_grid = GridSearchCV(\n",
        "    estimator=GradientBoostingRegressor(),\n",
        "    param_grid=regGrB_params,\n",
        "    cv=5,\n",
        "    scoring='neg_mean_absolute_error',\n",
        "    refit=False,\n",
        ")\n",
        "regGrB_grid.fit(X=X_TS, y=gt_y_TS)\n",
        "regGrB_params_best = regGrB_grid.best_params_\n",
        "save_cv_results(regGrB_grid, \"regGrB\")\n",
        "\n",
        "# calcolo metriche\n",
        "# lista adatta al ParameterGrid\n",
        "regGrB_params_best = {k: [v] if not isinstance(v, list) else v for k, v in regGrB_params_best.items()}\n",
        "regGrB_perf = custom_kf_cv(X=X_DS_, y=y_DS_,\n",
        "                                    m=GradientBoostingRegressor(random_state=66),\n",
        "                                    m_name=\"Random Forest\",\n",
        "                                    param_grid=ParameterGrid(regGrB_params_best),\n",
        "                                    k=5,\n",
        "                                    scaler=None)\n",
        "\n",
        "# >>>\n",
        "print(f\"{len(regGrB_perf)} model performance table available.\")\n",
        "regGrB_perf[0]"
      ]
    }
  ],
  "metadata": {
    "colab": {
      "provenance": [],
      "toc_visible": true
    },
    "kernelspec": {
      "display_name": "Python 3.10.7 ('venv': venv)",
      "language": "python",
      "name": "python3"
    },
    "language_info": {
      "codemirror_mode": {
        "name": "ipython",
        "version": 3
      },
      "file_extension": ".py",
      "mimetype": "text/x-python",
      "name": "python",
      "nbconvert_exporter": "python",
      "pygments_lexer": "ipython3",
      "version": "3.10.7"
    },
    "vscode": {
      "interpreter": {
        "hash": "6126b564a5d1e2c6e99ae68d8ec250149d00b6eefd8728f1ca2a8862c1e8aa2a"
      }
    }
  },
  "nbformat": 4,
  "nbformat_minor": 0
}
