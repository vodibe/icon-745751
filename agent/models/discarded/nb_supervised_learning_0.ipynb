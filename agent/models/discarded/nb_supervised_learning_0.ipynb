{
  "cells": [
    {
      "cell_type": "markdown",
      "metadata": {
        "id": "x2UmqMhHG3ad"
      },
      "source": [
        "# Apprendimento Supervisionato\n",
        "\n",
        "La sezione *Sommario* e *Valutazione* è presente nel file `docs/report.pdf`."
      ]
    },
    {
      "cell_type": "markdown",
      "metadata": {},
      "source": [
        "## Strumenti utilizzati\n",
        "\n",
        "Da una prima osservazione del numero di elementi del DS, il numero limitato di esempi non ci permette di adoperare modelli più complessi come un'ANN. I modelli costruiti in seguito sono implementati mediante libreria [scikit-learn](https://scikit-learn.org/stable/modules/classes.html). Le operazioni più elementari su Dataset, matrici e array vengono fatte tramite [pandas](https://pandas.pydata.org/) e [numpy](https://numpy.org/).\n",
        "\n",
        "Bisogna innanzitutto effettuare una prima fase di Preprocessing del DS."
      ]
    },
    {
      "cell_type": "markdown",
      "metadata": {
        "id": "IKrhNglYedjm"
      },
      "source": [
        "## Preprocessing del DS"
      ]
    },
    {
      "cell_type": "markdown",
      "metadata": {
        "id": "6eYqqbIsefaB"
      },
      "source": [
        "### Caricamento del DS e Feature Selection\n",
        "\n",
        "Innanzitutto, una prima osservazione da fare è che il DS che utilizzeremo per l'addestramento dei modelli non comprende la feature `page_ungrouped_multim` e `page_menu_or`. Ricordiamo che queste due feature sono dei fattori di decisione che l'utente considera osservando direttamente la pagina e che si ritengono non osservabili a partire dal solo codice sorgente. Discorso diverso vale per la feature `page_template` per la quale in questo progetto si assume che possa essere comunque estratta automaticamente a partire dal codice sorgente della pagina. Questa operazione infatti può essere automatizzata analizzando le risorse esterne (fogli di stile, codice JS, ...) che la pagina scarica dal server web.\n",
        "\n",
        "Inoltre, le feature `ds3_features_pk` vengono ignorate perchè sono stringhe di individuazione univoca della pagina.\n"
      ]
    },
    {
      "cell_type": "code",
      "execution_count": 24,
      "metadata": {
        "colab": {
          "base_uri": "https://localhost:8080/",
          "height": 163
        },
        "id": "PH6mS-80ekg4",
        "outputId": "551404ff-f678-49c9-af9e-1fa62d5a5c70"
      },
      "outputs": [
        {
          "data": {
            "text/html": [
              "<div>\n",
              "<style scoped>\n",
              "    .dataframe tbody tr th:only-of-type {\n",
              "        vertical-align: middle;\n",
              "    }\n",
              "\n",
              "    .dataframe tbody tr th {\n",
              "        vertical-align: top;\n",
              "    }\n",
              "\n",
              "    .dataframe thead th {\n",
              "        text-align: right;\n",
              "    }\n",
              "</style>\n",
              "<table border=\"1\" class=\"dataframe\">\n",
              "  <thead>\n",
              "    <tr style=\"text-align: right;\">\n",
              "      <th></th>\n",
              "      <th>school_id</th>\n",
              "      <th>page_url</th>\n",
              "      <th>page_load_time_ms</th>\n",
              "      <th>page_width</th>\n",
              "      <th>page_height</th>\n",
              "      <th>NDOM_nodes</th>\n",
              "      <th>NDOM_height</th>\n",
              "      <th>page_template</th>\n",
              "      <th>page_menu_or</th>\n",
              "      <th>page_ungrouped_multim</th>\n",
              "      <th>metric</th>\n",
              "      <th>task1</th>\n",
              "      <th>task2</th>\n",
              "      <th>task3</th>\n",
              "      <th>task4</th>\n",
              "      <th>task5</th>\n",
              "      <th>task6</th>\n",
              "      <th>task7</th>\n",
              "      <th>task8</th>\n",
              "    </tr>\n",
              "  </thead>\n",
              "  <tbody>\n",
              "    <tr>\n",
              "      <th>0</th>\n",
              "      <td>CBSL00201A</td>\n",
              "      <td>https://www.liceopagano.edu.it</td>\n",
              "      <td>516</td>\n",
              "      <td>1604</td>\n",
              "      <td>848</td>\n",
              "      <td>1</td>\n",
              "      <td>0</td>\n",
              "      <td>9.0</td>\n",
              "      <td>2.0</td>\n",
              "      <td>6.0</td>\n",
              "      <td>2.9</td>\n",
              "      <td>6.50</td>\n",
              "      <td>6.50</td>\n",
              "      <td>6.50</td>\n",
              "      <td>6.5</td>\n",
              "      <td>6.50</td>\n",
              "      <td>6.5</td>\n",
              "      <td>6.50</td>\n",
              "      <td>6.50</td>\n",
              "    </tr>\n",
              "    <tr>\n",
              "      <th>1</th>\n",
              "      <td>RGTD03002X</td>\n",
              "      <td>https://www.itcbesta.edu.it</td>\n",
              "      <td>1278</td>\n",
              "      <td>1587</td>\n",
              "      <td>2441</td>\n",
              "      <td>162</td>\n",
              "      <td>7</td>\n",
              "      <td>6.0</td>\n",
              "      <td>1.0</td>\n",
              "      <td>8.0</td>\n",
              "      <td>3.7</td>\n",
              "      <td>1.37</td>\n",
              "      <td>2.10</td>\n",
              "      <td>2.75</td>\n",
              "      <td>6.5</td>\n",
              "      <td>2.10</td>\n",
              "      <td>5.6</td>\n",
              "      <td>3.83</td>\n",
              "      <td>6.50</td>\n",
              "    </tr>\n",
              "    <tr>\n",
              "      <th>2</th>\n",
              "      <td>CSPS07301E</td>\n",
              "      <td>https://www.iismarconiguarasci.edu.it/</td>\n",
              "      <td>1006</td>\n",
              "      <td>1587</td>\n",
              "      <td>2533</td>\n",
              "      <td>348</td>\n",
              "      <td>3</td>\n",
              "      <td>3.0</td>\n",
              "      <td>3.0</td>\n",
              "      <td>10.0</td>\n",
              "      <td>4.0</td>\n",
              "      <td>1.30</td>\n",
              "      <td>1.65</td>\n",
              "      <td>3.07</td>\n",
              "      <td>3.3</td>\n",
              "      <td>1.92</td>\n",
              "      <td>0.3</td>\n",
              "      <td>6.50</td>\n",
              "      <td>2.51</td>\n",
              "    </tr>\n",
              "  </tbody>\n",
              "</table>\n",
              "</div>"
            ],
            "text/plain": [
              "    school_id                                page_url  page_load_time_ms  \\\n",
              "0  CBSL00201A          https://www.liceopagano.edu.it                516   \n",
              "1  RGTD03002X             https://www.itcbesta.edu.it               1278   \n",
              "2  CSPS07301E  https://www.iismarconiguarasci.edu.it/               1006   \n",
              "\n",
              "   page_width  page_height  NDOM_nodes  NDOM_height  page_template  \\\n",
              "0        1604          848           1            0            9.0   \n",
              "1        1587         2441         162            7            6.0   \n",
              "2        1587         2533         348            3            3.0   \n",
              "\n",
              "   page_menu_or  page_ungrouped_multim  metric  task1  task2  task3  task4  \\\n",
              "0           2.0                    6.0     2.9   6.50   6.50   6.50    6.5   \n",
              "1           1.0                    8.0     3.7   1.37   2.10   2.75    6.5   \n",
              "2           3.0                   10.0     4.0   1.30   1.65   3.07    3.3   \n",
              "\n",
              "   task5  task6  task7  task8  \n",
              "0   6.50    6.5   6.50   6.50  \n",
              "1   2.10    5.6   3.83   6.50  \n",
              "2   1.92    0.3   6.50   2.51  "
            ]
          },
          "execution_count": 24,
          "metadata": {},
          "output_type": "execute_result"
        }
      ],
      "source": [
        "import agent.definitions as defs\n",
        "import pandas as pd\n",
        "\n",
        "df = pd.read_csv(defs.ds3_gt_final_path)\n",
        "\n",
        "ds3_features_pk = [\"school_id\", \"page_url\"]\n",
        "ds3_features_part1 = [\"page_menu_or\", \"page_ungrouped_multim\"] # osservate manualmente\n",
        "ds3_features_part2 = [ # osservate automaticamente\n",
        "    \"page_template\",\n",
        "    \"page_load_time_ms\",\n",
        "    \"page_width\",\n",
        "    \"page_height\",\n",
        "    \"NDOM_nodes\",\n",
        "    \"NDOM_height\",\n",
        "]\n",
        "ds3_features_part3 = [\"task1\", \"task2\", \"task3\", \"task4\", \"task5\", \"task6\", \"task7\", \"task8\"]\n",
        "ds3_target = \"metric\"\n",
        "\n",
        "# features\n",
        "ds3_features = (\n",
        "    ds3_features_pk + ds3_features_part1 + ds3_features_part2 + ds3_features_part3\n",
        ")\n",
        "ds3_features.append(ds3_target)\n",
        "\n",
        "# >>>\n",
        "df.head(3)"
      ]
    },
    {
      "cell_type": "markdown",
      "metadata": {
        "id": "1CIO1hmsofrV"
      },
      "source": [
        "### Rilevazione rumore nel DS\n",
        "\n",
        "Andiamo a rilevare eventuali valori del DS che non rientrano nel dominio della feature associata. Conoscendo il dominio teorico di ciascuna feature, li rappresentiamo tutti in forma interpretabile dal linguaggio Python, mediante un dizionario: i domini discreti sono il tipo `str` o una lista; i domini continui sono delle funzioni lambda che rappresentano l'intensione della feature e restituiscono quindi valore booleano. "
      ]
    },
    {
      "cell_type": "code",
      "execution_count": 25,
      "metadata": {
        "colab": {
          "base_uri": "https://localhost:8080/"
        },
        "id": "pS3v0g4lok8a",
        "outputId": "8f1e8f4e-5a87-4fae-b8c6-ecf52ca929be"
      },
      "outputs": [
        {
          "name": "stdout",
          "output_type": "stream",
          "text": [
            "Discrete: ['page_template', 'page_menu_or']\n",
            "Continuous: ['page_ungrouped_multim', 'metric', 'page_load_time_ms', 'page_width', 'page_height', 'NDOM_nodes', 'NDOM_height', 'task1', 'task2', 'task3', 'task4', 'task5', 'task6', 'task7', 'task8']\n"
          ]
        }
      ],
      "source": [
        "# estremi dei domini di alcune feature\n",
        "PAGE_TEMPLATE_MIN_VAL = 1\n",
        "PAGE_TEMPLATE_MAX_VAL = 9\n",
        "\n",
        "PAGE_MENU_OR_MIN_VAL = 0\n",
        "PAGE_MENU_OR_MAX_VAL = 3\n",
        "\n",
        "METRIC_MIN_VAL = 1\n",
        "METRIC_MAX_VAL = 5\n",
        "\n",
        "# domini feature. un dominio può essere un tipo, una lista\n",
        "# o una funzione lambda (per domini infiniti, cioè per features continue)\n",
        "ds3_gt_feature_domains = {\n",
        "    \"school_id\": str,\n",
        "    \"page_url\": str,\n",
        "    \"page_template\": [v for v in range(PAGE_TEMPLATE_MIN_VAL, PAGE_TEMPLATE_MAX_VAL + 1)],\n",
        "    \"page_menu_or\": [v for v in range(PAGE_MENU_OR_MIN_VAL, PAGE_MENU_OR_MAX_VAL + 1)],\n",
        "    \"page_ungrouped_multim\": lambda v: v >= 0 and v % 1 == 0, # numero naturale\n",
        "    \"metric\": lambda v: v >= METRIC_MIN_VAL and v <= METRIC_MAX_VAL,\n",
        "    \"page_load_time_ms\": lambda v: v >= 0,\n",
        "    \"page_width\": lambda v: v >= 0,\n",
        "    \"page_height\": lambda v: v >= 0,\n",
        "    \"NDOM_nodes\": lambda v: v >= 0 and v % 1 == 0,\n",
        "    \"NDOM_height\": lambda v: v >= 0 and v % 1 == 0,\n",
        "    \"task1\": lambda v: v >= 0,\n",
        "    \"task2\": lambda v: v >= 0,\n",
        "    \"task3\": lambda v: v >= 0,\n",
        "    \"task4\": lambda v: v >= 0,\n",
        "    \"task5\": lambda v: v >= 0,\n",
        "    \"task6\": lambda v: v >= 0,\n",
        "    \"task7\": lambda v: v >= 0,\n",
        "    \"task8\": lambda v: v >= 0,\n",
        "}\n",
        "# altra rappresentazione possibile del dominio di metric\n",
        "#\"metric\": [\n",
        "#    x / 10\n",
        "#    for x in range((1 * 10), (5 * 10 + int(0.1 * 10)))\n",
        "#],\n",
        "\n",
        "\n",
        "def get_features_types(feature_domains: dict):\n",
        "    \"\"\"Restituisce le features discrete e continue.\n",
        "\n",
        "    Args:\n",
        "        - features_domains: Dizionario feature:dominio che rispetta la sintassi espressa sopra.\n",
        "\n",
        "    Returns:\n",
        "        - features_d: Lista di features discrete.\n",
        "        - features_c: Lista di features continue.\n",
        "    \"\"\"\n",
        "\n",
        "    features_d = []\n",
        "    features_c = []\n",
        "\n",
        "    for feature, domain in feature_domains.items():\n",
        "        if (isinstance(domain, list)): # or (domain is str)\n",
        "            features_d.append(feature)\n",
        "        elif callable(domain) and isinstance(domain, type(lambda x: x)):\n",
        "            features_c.append(feature)\n",
        "        else:\n",
        "            pass\n",
        "\n",
        "    return features_d, features_c\n",
        "\n",
        "# >>>\n",
        "features_discrete, features_continuous = get_features_types(ds3_gt_feature_domains)\n",
        "print(f\"Discrete: {features_discrete}\")\n",
        "print(f\"Continuous: {features_continuous}\")\n"
      ]
    },
    {
      "cell_type": "markdown",
      "metadata": {
        "id": "9C1ki0a2nevL"
      },
      "source": [
        "Controlliamo il modo in cui le feature sono rappresentate all'interno DS."
      ]
    },
    {
      "cell_type": "code",
      "execution_count": 26,
      "metadata": {
        "colab": {
          "base_uri": "https://localhost:8080/"
        },
        "id": "q_lUwJg-o7Ei",
        "outputId": "ea472b99-634a-45ed-9b94-96482d462f90"
      },
      "outputs": [
        {
          "data": {
            "text/plain": [
              "school_id                 object\n",
              "page_url                  object\n",
              "page_load_time_ms          int64\n",
              "page_width                 int64\n",
              "page_height                int64\n",
              "NDOM_nodes                 int64\n",
              "NDOM_height                int64\n",
              "page_template            float64\n",
              "page_menu_or             float64\n",
              "page_ungrouped_multim    float64\n",
              "metric                   float64\n",
              "task1                    float64\n",
              "task2                    float64\n",
              "task3                    float64\n",
              "task4                    float64\n",
              "task5                    float64\n",
              "task6                    float64\n",
              "task7                    float64\n",
              "task8                    float64\n",
              "dtype: object"
            ]
          },
          "execution_count": 26,
          "metadata": {},
          "output_type": "execute_result"
        }
      ],
      "source": [
        "df.dtypes"
      ]
    },
    {
      "cell_type": "markdown",
      "metadata": {
        "id": "rHvWP6lio-wY"
      },
      "source": [
        "Come possiamo vedere, tutte le feature  discrete (`page_template`, `page_menu_or`) sono già rappresentate in forma numerica, per cui non c'è bisogno di usare nessuno degli [Encoder](https://scikit-learn.org/stable/modules/generated/sklearn.preprocessing.LabelEncoder.html) previsti dalla libreria scikit-learn. Piuttosto, facciamo in modo che le feature discrete vengano rappresentate  da numeri `int64` e non da `float64`."
      ]
    },
    {
      "cell_type": "code",
      "execution_count": 27,
      "metadata": {
        "colab": {
          "base_uri": "https://localhost:8080/"
        },
        "id": "75rK3V5zwjjG",
        "outputId": "78787a86-e09a-4480-e3e7-d23c1ca3eed2"
      },
      "outputs": [
        {
          "data": {
            "text/plain": [
              "school_id                 object\n",
              "page_url                  object\n",
              "page_load_time_ms          int64\n",
              "page_width                 int64\n",
              "page_height                int64\n",
              "NDOM_nodes                 int64\n",
              "NDOM_height                int64\n",
              "page_template              int64\n",
              "page_menu_or               int64\n",
              "page_ungrouped_multim    float64\n",
              "metric                   float64\n",
              "task1                    float64\n",
              "task2                    float64\n",
              "task3                    float64\n",
              "task4                    float64\n",
              "task5                    float64\n",
              "task6                    float64\n",
              "task7                    float64\n",
              "task8                    float64\n",
              "dtype: object"
            ]
          },
          "execution_count": 27,
          "metadata": {},
          "output_type": "execute_result"
        }
      ],
      "source": [
        "import numpy as np\n",
        "\n",
        "float64 = np.dtype('float64')\n",
        "\n",
        "for feature_d in features_discrete:\n",
        "    if df[feature_d].dtype is float64:\n",
        "        df[feature_d] = df[feature_d].astype(np.int64)\n",
        "\n",
        "# >>>\n",
        "df.dtypes"
      ]
    },
    {
      "cell_type": "markdown",
      "metadata": {
        "id": "IH636c4XbAzC"
      },
      "source": [
        "Controlliamo se esistono valori del DS che non rientrano nei rispettivi domini."
      ]
    },
    {
      "cell_type": "code",
      "execution_count": 28,
      "metadata": {
        "colab": {
          "base_uri": "https://localhost:8080/"
        },
        "id": "0vW4-g3lbrv5",
        "outputId": "2eb8a0de-77d3-4836-c9b8-60b9d701a12b"
      },
      "outputs": [
        {
          "name": "stdout",
          "output_type": "stream",
          "text": [
            "Detecting noisy rows...\n",
            "3 noisy row(s) exist! Please check them.\n",
            "     page_menu_or  page_ungrouped_multim\n",
            "805             2                    4.2\n",
            "924            11                   24.0\n",
            "701             6                    6.0\n"
          ]
        }
      ],
      "source": [
        "from pandas import DataFrame\n",
        "\n",
        "def is_in_feature_domain(domain, value) -> bool:\n",
        "    \"\"\"Dato il dominio di una feature, restituisce True se value compare nel dominio,\n",
        "    False altrimenti.\n",
        "\n",
        "    Args:\n",
        "        - domain: Dominio di una feature. Può essere un tipo (es. str), una lista o una funzione lambda.\n",
        "        - value: Valore da controllare.\n",
        "    \"\"\"\n",
        "\n",
        "    if domain is str:\n",
        "        return isinstance(value, str)\n",
        "\n",
        "    elif isinstance(domain, list):\n",
        "        return value in domain\n",
        "\n",
        "    elif callable(domain) and isinstance(domain, type(lambda x: x)):\n",
        "        return domain(value)\n",
        "\n",
        "    else:\n",
        "        return False\n",
        "\n",
        "\n",
        "def detect_noisy_rows_values(df: DataFrame, domains: dict):\n",
        "    \"\"\"Rileva quali sono le righe del DS df in cui almeno una feature non è corretta,\n",
        "    cioè non rientra nel suo dominio.\n",
        "\n",
        "    Args:\n",
        "        - df: Istanza Dataframe.\n",
        "        - ds_feature_domains: Dizionario feature:funzione di validazione.\n",
        "\n",
        "    Returns:\n",
        "        - noisy_rows: Righe in cui esiste almeno una colonna con valori errati.\n",
        "        - noisy_cols: Colonne i cui valori in corrispondenza sono errati.\n",
        "    \"\"\"\n",
        "\n",
        "    print(\"Detecting noisy rows...\")\n",
        "    noisy_rows = set()\n",
        "    noisy_cols = set()\n",
        "\n",
        "    for column in list(domains.keys()):\n",
        "        serie = df[column]\n",
        "\n",
        "        for i, el in serie.items():\n",
        "            if not is_in_feature_domain(domains[column], el):\n",
        "                noisy_rows.add(i)\n",
        "                noisy_cols.add(df.columns.get_loc(column))\n",
        "\n",
        "    if noisy_rows:\n",
        "        print(f\"{len(noisy_rows)} noisy row(s) exist! Please check them.\")\n",
        "    else:\n",
        "        print(\"No noisy rows exist.\")\n",
        "\n",
        "    return list(noisy_rows), list(noisy_cols)\n",
        "\n",
        "\n",
        "# >>>\n",
        "noisy_rows, noisy_cols = detect_noisy_rows_values(df, ds3_gt_feature_domains)\n",
        "\n",
        "if noisy_rows:\n",
        "  print(df.iloc[noisy_rows, noisy_cols])"
      ]
    },
    {
      "cell_type": "markdown",
      "metadata": {
        "id": "AUnPYfMD5u2A"
      },
      "source": [
        "Ri-effetuiamo la valutazione per i siti che compaiono in questa lista e inseriamole in un nuovo DS."
      ]
    },
    {
      "cell_type": "code",
      "execution_count": 29,
      "metadata": {
        "colab": {
          "base_uri": "https://localhost:8080/"
        },
        "id": "zTGRpXdA6OYG",
        "outputId": "730ad14c-48d9-4505-d78e-1d90338f2595"
      },
      "outputs": [
        {
          "name": "stdout",
          "output_type": "stream",
          "text": [
            "Detecting noisy rows...\n",
            "No noisy rows exist.\n"
          ]
        }
      ],
      "source": [
        "ds = pd.read_csv(defs.ds3_gt_no_noise_path)\n",
        "\n",
        "# >>>\n",
        "noisy_rows, noisy_cols = detect_noisy_rows_values(ds, ds3_gt_feature_domains)\n",
        "\n",
        "if noisy_rows:\n",
        "  print(ds.iloc[noisy_rows, noisy_cols])"
      ]
    },
    {
      "cell_type": "markdown",
      "metadata": {
        "id": "wb0iGqw1Ak-5"
      },
      "source": [
        "### Panoramica distribuzione valori e Feature Correlation\n",
        "\n",
        "Fino ad ora siamo giunti alla creazione del DS finale da usare per i modelli, ma non abbiamo ancora dato uno sguardo alla popolarità dei valori dei domini delle variabili. Per cui generiamo gli istogrammi indicanti la distribuzione dei dati."
      ]
    },
    {
      "cell_type": "code",
      "execution_count": 7,
      "metadata": {
        "colab": {
          "base_uri": "https://localhost:8080/",
          "height": 687
        },
        "id": "w-VTqE1MB6D8",
        "outputId": "985506b5-0198-4ab5-ebca-3244b8f1972c"
      },
      "outputs": [
        {
          "data": {
            "text/plain": [
              "Text(0.5, 0.98, 'Distribution for each feature domain value')"
            ]
          },
          "execution_count": 7,
          "metadata": {},
          "output_type": "execute_result"
        },
        {
          "data": {
            "image/png": "[encoded data removed]",
            "text/plain": [
              "<Figure size 1400x1200 with 20 Axes>"
            ]
          },
          "metadata": {},
          "output_type": "display_data"
        }
      ],
      "source": [
        "import matplotlib.pyplot as plt\n",
        "\n",
        "hist_columns = ds3_features_part1 + ds3_features_part2 + ds3_features_part3\n",
        "hist_columns.append(ds3_target)\n",
        "\n",
        "# >>>\n",
        "ds.hist(column=hist_columns, figsize=(14,12), bins=25)\n",
        "plt.suptitle(\"Distribution for each feature domain value\")"
      ]
    },
    {
      "cell_type": "markdown",
      "metadata": {
        "id": "RmkGQR10CAT8"
      },
      "source": [
        "Facciamo alcune osservazioni:\n",
        "- I template più popolari sono senza dubbio il #5 e #8, anche se c'è una buona quantità di siti che non seguono un modello vero e proprio (#9).\n",
        "- Riguardo all'orientamento dei menu, ~94% di siti presentano un menu orizzontale. ~20% delle pagine con un menu orizzontale ne presentano anche un altro verticale.\n",
        "- Riguardo il numero di elementi multimediali non raggruppati, le pagine confermano il trend (se vogliamo negativo) di banner e/o video sparsi senza criterio sulla pagina: solo il ~15% ne presenta 0, tutti i restanti ne hanno almeno uno.\n",
        "- Per l'istogramma relativo alla metrica notiamo che la scala verticale si ferma a poco meno di 200, per cui non c'è un valore del dominio di `metric` che \"monopolizza\" il DS.\n",
        "- In generale, tutte le features continue mostrate nel grafico non seguono una distribuzione normale. \n",
        "\n",
        "Di seguito è anche possibile visualizzare la correlazione che c'è tra ciascuna feature, e più in particolare, è di nostro interesse la misura con cui ciascuna input feature incide sulla feature target `metric`. Ne traiamo le seguenti osservazioni:\n",
        "- Nel quadrante in basso a destra si nota una correlazione diretta (positiva) tra le feature `taskx`. Il motivo potrebbe essere che, poichè i task dipendono tutti dalla struttura della pagina e dalla struttura dei menu, se l'utente fatica a trovare un certo task (ad es. il Regolamento di Istituto, che è il `task2`), faticherà anche a trovare i task simili (l'organigramma scolastico, che è il `task5` ed è un task più o meno inerente al Regolamento.)\n",
        "- Il quadrato blu indica una correlazione alta e inversa (ma comunque > -0.8) tra `metric` e `page_ungrouped_multim`: aumentano gli elementi multimediali confusionari, diminuisce la valutazione.\n",
        "\n",
        "Ovviamente questa Feature Heatmap non può generalizzare troppo, è da ritenersi come una semplice rappresentazione grafica del GT. "
      ]
    },
    {
      "cell_type": "code",
      "execution_count": 30,
      "metadata": {
        "colab": {
          "base_uri": "https://localhost:8080/",
          "height": 613
        },
        "id": "Cl3UpXmwB053",
        "outputId": "ae6b622e-c660-4b06-83fe-9912da491286"
      },
      "outputs": [
        {
          "data": {
            "text/plain": [
              "<Axes: >"
            ]
          },
          "execution_count": 30,
          "metadata": {},
          "output_type": "execute_result"
        },
        {
          "data": {
            "image/png": "[encoded data removed]",
            "text/plain": [
              "<Figure size 640x480 with 2 Axes>"
            ]
          },
          "metadata": {},
          "output_type": "display_data"
        }
      ],
      "source": [
        "import seaborn as sns\n",
        "\n",
        "ds_correlation = ds.drop(ds3_features_pk+ds3_features_part3, axis=1).corr(method=\"pearson\")\n",
        "sns.heatmap(ds_correlation, linewidths=0.5, linecolor='darkgray', cmap=\"coolwarm\")"
      ]
    },
    {
      "cell_type": "markdown",
      "metadata": {
        "id": "EFNLdl1Am_q-"
      },
      "source": [
        "## Modelli di regressione e decisioni di progetto\n",
        "\n",
        "In questa sezione cerchiamo il modello di regressione che si avvicina di più al Ground Truth, e mettiamo tutti i modelli implementati su una stessa scala di giudizio, ovvero le metriche di misurazione degli errori.\n",
        "\n",
        "Il pattern di esecuzione che si seguirà è il seguente:\n",
        "\n",
        "1. Se un modello dispone di almeno un iperparametro, si crea un modello per ogni configurazione possibile. In seguito, si suddivide il TS in TS effettivo e Validation Set. Si addestra ciascun modello sul TS e lo si valuta sul VS. Questo è il primo impiego della [k-fold CV]((https://scikit-learn.org/stable/modules/cross_validation.html)).\n",
        "2. In base ai risultati del punto 1, si individua la migliore combinazione di iperparametri.\n",
        "3. A causa del numero limitato di esempi del dataset, per poter ottenere misure affidabili delle performance del modello, lo addestriamo questa volta su tutto il dataset. Si suddivide l'intero DS in TS e TE; lo si addestra sul TS e lo si valuta sul TE. Tante volte quante sono gli split creati con la k-fold CV (secondo impiego).\n",
        "   \n",
        "A questo punto, decidiamo di escludere le feature `page_menu_or` e `page_ungrouped_multim`, (come accennato prima). Vedendo l'Heatmap, ci rendiamo conto che le feature `task5`, ..., `task 8` hanno poco potere decisionale nei confronti della target feature; quindi, per prevenire l'overfitting dei modelli, le si vanno ad escludere, lasciando le prime 4.\n",
        "\n",
        "Di seguito andiamo a creare `X` (DS ridotto alle sole feature di input) e `y` (DS ridotto alla feature target `metric`). Successivamente, dividiamo il DS in Training Set (TS) e Test Set (TE) secondo il rapporto 7.5:2.5."
      ]
    },
    {
      "cell_type": "code",
      "execution_count": 31,
      "metadata": {},
      "outputs": [],
      "source": [
        "from sklearn.model_selection import train_test_split\n",
        "\n",
        "# features escluse\n",
        "ds3_features_excluded = ds3_features_pk + ds3_features_part1 + ds3_features_part3\n",
        "ds3_features_excluded.append(ds3_target)\n",
        "\n",
        "# DS --- X (tabella con colonne input feature) e y (tabella target)\n",
        "X_DS = ds.drop(ds3_features_excluded, axis=1)\n",
        "y_DS = ds[ds3_target]\n",
        "\n",
        "# anche in forma di ndarray per numpy\n",
        "X_DS_ = X_DS.to_numpy()\n",
        "y_DS_ = y_DS.to_numpy()\n",
        "\n",
        "# TS e TE ---\n",
        "X_TS, X_TE, gt_y_TS, gt_y_TE = train_test_split(X_DS, y_DS, test_size=0.25, random_state=60)\n",
        "\n",
        "# anche in forma di ndarray per numpy\n",
        "X_TS_ = X_TS.to_numpy()\n",
        "gt_y_TS_ = gt_y_TS.to_numpy()\n",
        "X_TE_ = X_TE.to_numpy()\n",
        "gt_y_TE_ = gt_y_TE.to_numpy()"
      ]
    },
    {
      "cell_type": "markdown",
      "metadata": {
        "id": "rxnlPBJb8JzO"
      },
      "source": [
        "### Regressore Lineare\n",
        "\n",
        "Il regressore lineare utilizza il metodo dei minimi quadrati per calcolare i coefficienti di una retta di regressione. Non ci sono iperparametri da ottimizzare."
      ]
    },
    {
      "cell_type": "markdown",
      "metadata": {
        "id": "eSL346o4mOOg"
      },
      "source": [
        "#### 1^ Costruzione (senza k-fold CV)"
      ]
    },
    {
      "cell_type": "code",
      "execution_count": 32,
      "metadata": {
        "id": "qS9IvXWMBVAn"
      },
      "outputs": [
        {
          "data": {
            "text/html": [
              "<style>#sk-container-id-9 {color: black;}#sk-container-id-9 pre{padding: 0;}#sk-container-id-9 div.sk-toggleable {background-color: white;}#sk-container-id-9 label.sk-toggleable__label {cursor: pointer;display: block;width: 100%;margin-bottom: 0;padding: 0.3em;box-sizing: border-box;text-align: center;}#sk-container-id-9 label.sk-toggleable__label-arrow:before {content: \"▸\";float: left;margin-right: 0.25em;color: #696969;}#sk-container-id-9 label.sk-toggleable__label-arrow:hover:before {color: black;}#sk-container-id-9 div.sk-estimator:hover label.sk-toggleable__label-arrow:before {color: black;}#sk-container-id-9 div.sk-toggleable__content {max-height: 0;max-width: 0;overflow: hidden;text-align: left;background-color: #f0f8ff;}#sk-container-id-9 div.sk-toggleable__content pre {margin: 0.2em;color: black;border-radius: 0.25em;background-color: #f0f8ff;}#sk-container-id-9 input.sk-toggleable__control:checked~div.sk-toggleable__content {max-height: 200px;max-width: 100%;overflow: auto;}#sk-container-id-9 input.sk-toggleable__control:checked~label.sk-toggleable__label-arrow:before {content: \"▾\";}#sk-container-id-9 div.sk-estimator input.sk-toggleable__control:checked~label.sk-toggleable__label {background-color: #d4ebff;}#sk-container-id-9 div.sk-label input.sk-toggleable__control:checked~label.sk-toggleable__label {background-color: #d4ebff;}#sk-container-id-9 input.sk-hidden--visually {border: 0;clip: rect(1px 1px 1px 1px);clip: rect(1px, 1px, 1px, 1px);height: 1px;margin: -1px;overflow: hidden;padding: 0;position: absolute;width: 1px;}#sk-container-id-9 div.sk-estimator {font-family: monospace;background-color: #f0f8ff;border: 1px dotted black;border-radius: 0.25em;box-sizing: border-box;margin-bottom: 0.5em;}#sk-container-id-9 div.sk-estimator:hover {background-color: #d4ebff;}#sk-container-id-9 div.sk-parallel-item::after {content: \"\";width: 100%;border-bottom: 1px solid gray;flex-grow: 1;}#sk-container-id-9 div.sk-label:hover label.sk-toggleable__label {background-color: #d4ebff;}#sk-container-id-9 div.sk-serial::before {content: \"\";position: absolute;border-left: 1px solid gray;box-sizing: border-box;top: 0;bottom: 0;left: 50%;z-index: 0;}#sk-container-id-9 div.sk-serial {display: flex;flex-direction: column;align-items: center;background-color: white;padding-right: 0.2em;padding-left: 0.2em;position: relative;}#sk-container-id-9 div.sk-item {position: relative;z-index: 1;}#sk-container-id-9 div.sk-parallel {display: flex;align-items: stretch;justify-content: center;background-color: white;position: relative;}#sk-container-id-9 div.sk-item::before, #sk-container-id-9 div.sk-parallel-item::before {content: \"\";position: absolute;border-left: 1px solid gray;box-sizing: border-box;top: 0;bottom: 0;left: 50%;z-index: -1;}#sk-container-id-9 div.sk-parallel-item {display: flex;flex-direction: column;z-index: 1;position: relative;background-color: white;}#sk-container-id-9 div.sk-parallel-item:first-child::after {align-self: flex-end;width: 50%;}#sk-container-id-9 div.sk-parallel-item:last-child::after {align-self: flex-start;width: 50%;}#sk-container-id-9 div.sk-parallel-item:only-child::after {width: 0;}#sk-container-id-9 div.sk-dashed-wrapped {border: 1px dashed gray;margin: 0 0.4em 0.5em 0.4em;box-sizing: border-box;padding-bottom: 0.4em;background-color: white;}#sk-container-id-9 div.sk-label label {font-family: monospace;font-weight: bold;display: inline-block;line-height: 1.2em;}#sk-container-id-9 div.sk-label-container {text-align: center;}#sk-container-id-9 div.sk-container {/* jupyter's `normalize.less` sets `[hidden] { display: none; }` but bootstrap.min.css set `[hidden] { display: none !important; }` so we also need the `!important` here to be able to override the default hidden behavior on the sphinx rendered scikit-learn.org. See: https://github.com/scikit-learn/scikit-learn/issues/21755 */display: inline-block !important;position: relative;}#sk-container-id-9 div.sk-text-repr-fallback {display: none;}</style><div id=\"sk-container-id-9\" class=\"sk-top-container\"><div class=\"sk-text-repr-fallback\"><pre>LinearRegression()</pre><b>In a Jupyter environment, please rerun this cell to show the HTML representation or trust the notebook. <br />On GitHub, the HTML representation is unable to render, please try loading this page with nbviewer.org.</b></div><div class=\"sk-container\" hidden><div class=\"sk-item\"><div class=\"sk-estimator sk-toggleable\"><input class=\"sk-toggleable__control sk-hidden--visually\" id=\"sk-estimator-id-21\" type=\"checkbox\" checked><label for=\"sk-estimator-id-21\" class=\"sk-toggleable__label sk-toggleable__label-arrow\">LinearRegression</label><div class=\"sk-toggleable__content\"><pre>LinearRegression()</pre></div></div></div></div></div>"
            ],
            "text/plain": [
              "LinearRegression()"
            ]
          },
          "execution_count": 32,
          "metadata": {},
          "output_type": "execute_result"
        }
      ],
      "source": [
        "from sklearn.linear_model import LinearRegression\n",
        "\n",
        "# modello\n",
        "regLin = LinearRegression()\n",
        "regLin.fit(X_TS, gt_y_TS)\n",
        "\n",
        "# predizione\n",
        "regLin_y_TS = regLin.predict(X_TS)\n",
        "regLin_y_TE = regLin.predict(X_TE)"
      ]
    },
    {
      "cell_type": "markdown",
      "metadata": {
        "id": "19JIzEOEOlXV"
      },
      "source": [
        "##### OSSERVAZIONE: Cambio categoria e penalità applicata all'errore\n",
        "\n",
        "Dopo aver costruito il modello, diamo un'occhiata ai valori effettivi della feature target (nel TS) e le relative previsioni."
      ]
    },
    {
      "cell_type": "code",
      "execution_count": 34,
      "metadata": {
        "colab": {
          "base_uri": "https://localhost:8080/"
        },
        "id": "gEN8xxQepooE",
        "outputId": "82f1db18-2350-41d3-f01d-82d7a57d6d54"
      },
      "outputs": [
        {
          "data": {
            "text/plain": [
              "974     3.5\n",
              "367     4.0\n",
              "1185    4.3\n",
              "1257    3.3\n",
              "1320    3.5\n",
              "       ... \n",
              "1068    4.3\n",
              "601     3.2\n",
              "198     4.1\n",
              "139     4.5\n",
              "248     3.0\n",
              "Name: metric, Length: 333, dtype: float64"
            ]
          },
          "execution_count": 34,
          "metadata": {},
          "output_type": "execute_result"
        },
        {
          "data": {
            "text/plain": [
              "0      3.676289\n",
              "1      3.795345\n",
              "2      4.147464\n",
              "3      3.528454\n",
              "4      3.603271\n",
              "         ...   \n",
              "328    3.968366\n",
              "329    3.309023\n",
              "330    3.927331\n",
              "331    3.616096\n",
              "332    3.501007\n",
              "Length: 333, dtype: float64"
            ]
          },
          "execution_count": 34,
          "metadata": {},
          "output_type": "execute_result"
        }
      ],
      "source": [
        "from pandas import Series\n",
        "# https://stackoverflow.com/a/42476224\n",
        "from IPython.core.interactiveshell import InteractiveShell\n",
        "InteractiveShell.ast_node_interactivity = \"all\"\n",
        "\n",
        "# >>>\n",
        "gt_y_TE # fisso\n",
        "Series(regLin_y_TE) # fisso"
      ]
    },
    {
      "cell_type": "markdown",
      "metadata": {
        "id": "3iYjaKHUPXKj"
      },
      "source": [
        "Calcoliamo manualmente l'errore che otteniamo. Questa operazione sarà poi automatizzata, ma per il momento lo facciamo per avere una panoramica sulle percentuali di errore fatte dal modello."
      ]
    },
    {
      "cell_type": "code",
      "execution_count": 35,
      "metadata": {
        "colab": {
          "base_uri": "https://localhost:8080/"
        },
        "id": "qAfwa2-3pzN0",
        "outputId": "7547023f-656d-428f-ace6-4912172d09a0"
      },
      "outputs": [
        {
          "data": {
            "text/plain": [
              "974     0.176289\n",
              "367    -0.204655\n",
              "1185   -0.152536\n",
              "1257    0.228454\n",
              "1320    0.103271\n",
              "          ...   \n",
              "1068   -0.331634\n",
              "601     0.109023\n",
              "198    -0.172669\n",
              "139    -0.883904\n",
              "248     0.501007\n",
              "Name: metric, Length: 333, dtype: float64"
            ]
          },
          "execution_count": 35,
          "metadata": {},
          "output_type": "execute_result"
        }
      ],
      "source": [
        "regLin_err = np.subtract(regLin_y_TE, gt_y_TE) # fisso\n",
        "\n",
        "# >>>\n",
        "regLin_err"
      ]
    },
    {
      "cell_type": "markdown",
      "metadata": {
        "id": "Z8LptErU8fHD"
      },
      "source": [
        "Il calcolo \"manuale\" dell'errore che il modello fa sul target **di questo specifico TE** è stato fatto per poter vedere quante volte il modello fa una previsione che si discosta dal valore attuale di una certa percentuale. L'istogramma generato di seguito ne è una rappresentazione grafica e solo in questa evenienza si è calcolato l'errore con segno. In seguito, quando si andrà a calcolare le metriche dei modelli, si useranno le metriche convenzionali di misurazione dell'errore.\n",
        "\n",
        "Sull'asse X dell'istogramma ci sono le possibili percentuali di errore (da -100% a 100%) ad indicare il fatto che questo modello può fare una previsione con un errore percentuale negativo (il modello predice una valutazione minore della valutazione reale), uguale a 0, o positivo.\n",
        "Ad es. un errore -100% si verifica quando il valore attuale di `metric` è 5 e il modello predice 1. In corrispondenza di una percentuale, sull'asse Y il grafico dice per quanti esempi del TS il modello fa una predizione con questo errore percentuale."
      ]
    },
    {
      "cell_type": "code",
      "execution_count": 36,
      "metadata": {
        "colab": {
          "base_uri": "https://localhost:8080/",
          "height": 465
        },
        "id": "eXdqLGMc39Ro",
        "outputId": "27cd93e8-fdeb-4b68-b0a3-718a0b404bbe"
      },
      "outputs": [
        {
          "data": {
            "image/png": "[encoded data removed]",
            "text/plain": [
              "<Figure size 1500x500 with 1 Axes>"
            ]
          },
          "metadata": {},
          "output_type": "display_data"
        }
      ],
      "source": [
        "# conosciamo il valore di un ipotetico errore massimo\n",
        "max_error = METRIC_MAX_VAL - METRIC_MIN_VAL\n",
        "\n",
        "def calc_err_percentage(x):\n",
        "    perc = float((x*100)/max_error)\n",
        "    return int(perc)\n",
        "\n",
        "def plot_err_perc(model_err:Series):\n",
        "    # creo una nuova serie che associa ad ogni elemento la sua percentuale di errore\n",
        "    model_err_perc = model_err.apply(calc_err_percentage)\n",
        "    model_err_perc = model_err_perc.rename(\"Error percentage between predicted value and actual value\")\n",
        "\n",
        "    model_err_perc_count = model_err_perc.value_counts()\n",
        "    model_err_perc_count = model_err_perc_count.reindex(range(-100, 101), fill_value=0)\n",
        "    model_err_perc_count = model_err_perc_count.sort_index()\n",
        "\n",
        "    model_err_perc_count.plot(kind='bar', figsize=(15,5))\n",
        "\n",
        "plot_err_perc(regLin_err)"
      ]
    },
    {
      "cell_type": "markdown",
      "metadata": {
        "id": "848LfpiIY8R2"
      },
      "source": [
        "L'asse delle Y indica il numero di esempi che il modello predice con errore percentuale indicato sull'asse X. Il modello (sugli esempi di questo specifico TE) non fa errori molto gravi (vale a dire tanti errori minori del -50% o maggiori del 50%) ma possiamo fare una osservazione.\n",
        "\n",
        "Consideriamo una pagina web per il quale la valutazione è 3.2. Se il modello fa un errore (anche piccolo) di -0.4 punti, si verifica un vero e proprio cambio categoria: il sito teoricamente è *Accettabile*, ma il modello lo classifica come *Confuso* (3.2-0.4=2.8). Situazione diversa si ha se il modello fa un errore (ancora piccolo) di 0.4 punti, e quindi il modello predice il valore 3.6, senza predire un cambio categoria.\n",
        "\n",
        "**Sarebbe corretto in questa casistica parlare di errori equivalenti?**\n",
        "- Se il nostro task di interesse fosse stato di classificazione, avremmo ipotizzato di no.\n",
        "- Nel nostro caso, ipotizziamo che tali errori siano equivalenti, anche a fronte del fatto che dopo varie esecuzioni, le metriche di performance dei modelli che ricalcolano le predizioni (cioè applicando le penalità) non si discostano dai valori di quelli che non lo fanno. I modelli che applicano la penalità, in altre parole, sono \"forzati\" a compiere un errore quanto più basso possibile soprattutto per le pagine la cui valutazione è a un'estremità (inferiore o superiore) della categoria reale.\n",
        "\n",
        "\n",
        "In ogni caso, la penalità che calcoliamo viene definita con la funzione `calc_err_penalty` che si comporta nel seguente modo:\n",
        "- se non c'è un cambio categoria, l'errore del modello non subisce una penalità.\n",
        "- se c'è un cambio categoria allora viene applicata la penalità, che dipende dal numero di categorie tra quella attuale e quella prevista. Eventualmente, possiamo anche prevedere delle penalità più severe se il modello predice una categoria peggiore rispetto a quella attuale (`page_category_shift` < 0).\n",
        "Il comportamento di questa funzione è visibile da questo [grafico](https://www.desmos.com/calculator/5y734tuqft). Avremmo potuto implementare questa funzione con un semplice if-else, però il grafico (poichè non è simmetrico all'asse Y) evidenzia il fatto delle penalità più severe quando `page_category_shift` < 0. Infine, dobbiamo precisare che le penalità relative a quando `page_category_shift` < 0 devono avere segno negativo, altrimenti andrebbero contro il nostro intento. Per comodità, nel grafico, tutte le penalità hanno segno positivo."
      ]
    },
    {
      "cell_type": "code",
      "execution_count": 37,
      "metadata": {
        "id": "JyLSsTjzp1Ff"
      },
      "outputs": [],
      "source": [
        "def calc_err_penalty(y_gt, y_pred):\n",
        "    \"\"\" Calcola la penalità da sommare all'errore qualora c'è un cambio categoria.\n",
        "\n",
        "    Args:\n",
        "        - y_gt: Target attuale.\n",
        "        - y_pred: Target previsto dal modello (include un errore).\n",
        "    \"\"\"\n",
        "\n",
        "    pred_category = int(y_pred) # positivo\n",
        "    gt_category = int(y_gt) # positivo\n",
        "\n",
        "    page_category_shift = pred_category - gt_category\n",
        "    #page_category_shift può essere < 0 (modello predice categoria più bassa)\n",
        "    # = 0 (stessa categoria)\n",
        "    # > 0 (modello predice categoria più alta)\n",
        "\n",
        "    if page_category_shift == 0:\n",
        "        return y_pred\n",
        "\n",
        "    elif (page_category_shift < 0 and gt_category <= METRIC_MIN_VAL) or \\\n",
        "        (page_category_shift > 0 and gt_category >= METRIC_MAX_VAL - 1):\n",
        "        # c'è un cambio categoria ma non lo consideriamo tale\n",
        "        return y_pred\n",
        "\n",
        "    else:\n",
        "        # calcolo penalty\n",
        "        a = 0.006 #0.009\n",
        "        b = -0.0008 #-0.0008\n",
        "        c = 0.108 #0.009\n",
        "        penalty = (((a)*(page_category_shift**2))+\n",
        "                ((b)*page_category_shift)+\n",
        "                (c)\n",
        "        )\n",
        "        if page_category_shift < 0:\n",
        "            penalty = penalty*(-1)\n",
        "        # ---\n",
        "\n",
        "        err_category = int(y_pred + penalty) # positivo\n",
        "\n",
        "        if pred_category == err_category:\n",
        "            return y_pred + penalty\n",
        "\n",
        "        # evito che la penalità sia eccessiva\n",
        "        elif page_category_shift < 0:\n",
        "            return y_pred + (pred_category - y_pred) #y_pred + (<0)\n",
        "        else:\n",
        "            #return y_pred + (penalty - (y_pred + penalty - err_category + 0.1))\n",
        "            return y_pred + (err_category - y_pred - 0.1)\n",
        "\n",
        "# vettorizza funzione\n",
        "vcalc_err_penalty = np.vectorize(calc_err_penalty, otypes=[float])"
      ]
    },
    {
      "cell_type": "markdown",
      "metadata": {},
      "source": [
        "#### 2^ Costruzione (con k-fold CV)\n",
        "\n",
        "Di seguito implementiamo manualmente una procedura di k-fold CV che fa uso di uno scaler. Essa fa comunque un test sistematico degli iperparametri, come avviene nel [GridSearchCV](https://scikit-learn.org/stable/modules/generated/sklearn.model_selection.GridSearchCV.html). Inoltre nella CV usiamo un numero di fold `k = 5`, che equivale a un rapporto TS:VS = 8:2. Con la CV possiamo ricavare delle metriche di performance che dipendono da **tutto il DS** e non da una singola parte.\n",
        "\n",
        "I Regressori Lineari, poichè calcolano coefficienti di apprendimento mediante discesa di gradiente, sono sensibili al feature scaling. Con il feature scaling, infatti, l'algoritmo di discesa del gradiente converge più velocemente al minimo. In questo progetto usiamo un [MinMaxScaler](https://scikit-learn.org/stable/modules/generated/sklearn.preprocessing.MinMaxScaler.html). "
      ]
    },
    {
      "cell_type": "code",
      "execution_count": 38,
      "metadata": {
        "id": "lr-0KMVKqvyw"
      },
      "outputs": [],
      "source": [
        "from sklearn.model_selection import KFold, ParameterGrid\n",
        "from sklearn.base import RegressorMixin\n",
        "from sklearn.preprocessing import MinMaxScaler\n",
        "from sklearn.metrics import mean_absolute_error, mean_squared_error, mean_absolute_percentage_error, r2_score\n",
        "\n",
        "def custom_kf_cv(\n",
        "                X, y,\n",
        "                m:RegressorMixin, m_name,\n",
        "                param_grid:ParameterGrid,\n",
        "                k,\n",
        "                scaler:MinMaxScaler,\n",
        "                apply_penalty=False,\n",
        "                plot_err=False):\n",
        "    \"\"\"Costruisce il modello m per il quale esistono iperparametri inseriti in param_grid.\n",
        "    Per ciascuna configurazione di iperparametri, applica la k-fold CV usando i dati di X e y.\n",
        "    Restituisce una lista di Dataframe, una per ogni configurazione di iperparametri.\n",
        "\n",
        "    Args:\n",
        "        - X: dati delle input feature.\n",
        "        - y: dati della target feature.\n",
        "        - m: modello di regressione.\n",
        "        - m_name: Nome del modello.\n",
        "        - param_grid (ParameterGrid). Oggetto contenente i domini degli iperparametri.\n",
        "        - k: numero di folds.\n",
        "        - scaler: oggetto MinMaxScaler.\n",
        "        - apply_penalty. Default: false\n",
        "        - plot_err: True se si vuole mostrare l'istogramma degli errori percentuali. Default: false.\n",
        "    \n",
        "    Returns:\n",
        "        - model_perf: Un array di DataFrame (un DataFrame per ogni possibile combinazione di iperparametri)\n",
        "    \"\"\"\n",
        "\n",
        "    # lista di possibili combinazioni di iperparametri\n",
        "    param_combos = [' ']\n",
        "    if param_grid is None or len(param_grid) == 0:\n",
        "        param_exist = False\n",
        "    else:\n",
        "        param_combos = list(param_grid)\n",
        "        param_exist = True\n",
        "\n",
        "    # i dati vengono prima mescolati in modo casuale prima di essere suddivisi in test/training.\n",
        "    kf_logic = KFold(n_splits=k, shuffle=True, random_state=77)\n",
        "\n",
        "    # restituisco una lista di dataframe, uno per ogni combinazione di iperparametri\n",
        "    model_perf = [DataFrame() for param_combo_id in param_combos]\n",
        "\n",
        "    # itera sulle possibili configurazioni di iperparametri\n",
        "    param_combo_id = 0\n",
        "    for param_combo in param_combos:\n",
        "\n",
        "        # Creo k split a partire da X e y.\n",
        "        # X e y possono rappresentare l'intero DS, oppure il TS.\n",
        "        # https://stats.stackexchange.com/questions/339736/perform-cross-validation-on-train-set-or-entire-data-set\n",
        "        kf_splits = kf_logic.split(X=X, y=y)\n",
        "\n",
        "        # itera sugli split\n",
        "        split_no = 1\n",
        "        for TS_idx, TE_idx in kf_splits:\n",
        "            # considero l'i-esimo split (su 10).\n",
        "            # questo split si compone da 9 folds per il TS (che in totale formano X_TS_fold e gt_y_TS_fold)\n",
        "            # e 1 fold per il TE (anche chiamato Validation) (formata da X_TE_fold e gt_y_TE_fold).\n",
        "            # man mano che si cicla su questo for, gli elementi del TS e TE cambiano\n",
        "\n",
        "            X_TS_fold,    X_TE_fold    = X[TS_idx], X[TE_idx]\n",
        "            gt_y_TS_fold, gt_y_TE_fold = y[TS_idx], y[TE_idx]\n",
        "\n",
        "            # scaling (va fatto sempre dopo lo split)\n",
        "            if scaler is not None:\n",
        "                scaler.fit(X_TS_fold)\n",
        "                X_TS_fold = scaler.transform(X_TS_fold)\n",
        "                # https://stats.stackexchange.com/q/319514\n",
        "                X_TE_fold = scaler.transform(X_TE_fold)\n",
        "            \n",
        "            # modello\n",
        "            if param_exist:\n",
        "                model = m.set_params(**param_combo)\n",
        "            else:\n",
        "                model = m\n",
        "            model.fit(X_TS_fold, gt_y_TS_fold)\n",
        "\n",
        "            # predizione\n",
        "            model_y_TS_fold = model.predict(X_TS_fold)\n",
        "            model_y_TE_fold = model.predict(X_TE_fold)\n",
        "\n",
        "            if apply_penalty:\n",
        "                model_y_TS_fold = vcalc_err_penalty(gt_y_TS_fold, model_y_TS_fold)\n",
        "                model_y_TE_fold = vcalc_err_penalty(gt_y_TE_fold, model_y_TE_fold)\n",
        "                \n",
        "            model_y_TS_fold = np.clip(model_y_TS_fold, METRIC_MIN_VAL, METRIC_MAX_VAL)\n",
        "            model_y_TE_fold = np.clip(model_y_TE_fold, METRIC_MIN_VAL, METRIC_MAX_VAL)\n",
        "\n",
        "            # valutazione\n",
        "            fold_index = f\"{m_name} (Split {split_no})\"\n",
        "\n",
        "            model_perf[param_combo_id] = pd.concat([\n",
        "                    model_perf[param_combo_id],\n",
        "                    pd.DataFrame([{\n",
        "                            \"MAE (TS)\": mean_absolute_error(gt_y_TS_fold, model_y_TS_fold),\n",
        "                            \"MSE (TS)\": mean_squared_error(gt_y_TS_fold, model_y_TS_fold),\n",
        "                            \"RMSE (TS)\": mean_squared_error(gt_y_TS_fold, model_y_TS_fold, squared=False),\n",
        "                            \"R^2 (TS)\": r2_score(gt_y_TS_fold, model_y_TS_fold),\n",
        "\n",
        "                            \"MAE (TE)\": mean_absolute_error(gt_y_TE_fold, model_y_TE_fold),\n",
        "                            \"MSE (TE)\": mean_squared_error(gt_y_TE_fold, model_y_TE_fold),\n",
        "                            \"RMSE (TE)\": mean_squared_error(gt_y_TE_fold, model_y_TE_fold, squared=False),\n",
        "                            \"R^2 (TE)\": r2_score(gt_y_TE_fold, model_y_TE_fold)\n",
        "                        }], index=[fold_index]\n",
        "                    )\n",
        "                ],\n",
        "                axis = 0\n",
        "            )\n",
        "\n",
        "            if plot_err and split_no == 2:\n",
        "                plot_err_perc(model_err=Series(np.subtract(model_y_TE_fold, gt_y_TE_fold)))\n",
        "\n",
        "            # vai al prossimo split\n",
        "            split_no = split_no + 1\n",
        "\n",
        "        # Aggiungi una nuova riga al fondo del DataFrame con le medie\n",
        "        avg_index = f\"Average ({str(param_combo)})\" if param_exist else \"Average\"\n",
        "        means = model_perf[param_combo_id].mean()\n",
        "\n",
        "        model_perf[param_combo_id] = pd.concat(\n",
        "            [\n",
        "                model_perf[param_combo_id],\n",
        "                pd.DataFrame(\n",
        "                    [means], index=[avg_index], columns=means.index\n",
        "                )\n",
        "            ],\n",
        "            axis = 0\n",
        "        )\n",
        "\n",
        "        param_combo_id = param_combo_id + 1\n",
        "\n",
        "    return model_perf"
      ]
    },
    {
      "cell_type": "markdown",
      "metadata": {},
      "source": [
        "Costruiamo il modello con la funzione appena scritta."
      ]
    },
    {
      "cell_type": "code",
      "execution_count": 39,
      "metadata": {
        "colab": {
          "base_uri": "https://localhost:8080/",
          "height": 224
        },
        "id": "ARLFxnbKhPm9",
        "outputId": "103a7b94-a338-442b-9e7e-cad039053517"
      },
      "outputs": [
        {
          "name": "stdout",
          "output_type": "stream",
          "text": [
            "1 model performance table(s) available.\n"
          ]
        },
        {
          "data": {
            "text/html": [
              "<div>\n",
              "<style scoped>\n",
              "    .dataframe tbody tr th:only-of-type {\n",
              "        vertical-align: middle;\n",
              "    }\n",
              "\n",
              "    .dataframe tbody tr th {\n",
              "        vertical-align: top;\n",
              "    }\n",
              "\n",
              "    .dataframe thead th {\n",
              "        text-align: right;\n",
              "    }\n",
              "</style>\n",
              "<table border=\"1\" class=\"dataframe\">\n",
              "  <thead>\n",
              "    <tr style=\"text-align: right;\">\n",
              "      <th></th>\n",
              "      <th>MAE (TS)</th>\n",
              "      <th>MSE (TS)</th>\n",
              "      <th>RMSE (TS)</th>\n",
              "      <th>R^2 (TS)</th>\n",
              "      <th>MAE (TE)</th>\n",
              "      <th>MSE (TE)</th>\n",
              "      <th>RMSE (TE)</th>\n",
              "      <th>R^2 (TE)</th>\n",
              "    </tr>\n",
              "  </thead>\n",
              "  <tbody>\n",
              "    <tr>\n",
              "      <th>Linear Regressor (Split 1)</th>\n",
              "      <td>0.368563</td>\n",
              "      <td>0.204047</td>\n",
              "      <td>0.451715</td>\n",
              "      <td>0.216603</td>\n",
              "      <td>0.363974</td>\n",
              "      <td>0.204792</td>\n",
              "      <td>0.452540</td>\n",
              "      <td>0.183834</td>\n",
              "    </tr>\n",
              "    <tr>\n",
              "      <th>Linear Regressor (Split 2)</th>\n",
              "      <td>0.361352</td>\n",
              "      <td>0.198748</td>\n",
              "      <td>0.445811</td>\n",
              "      <td>0.223958</td>\n",
              "      <td>0.389286</td>\n",
              "      <td>0.226031</td>\n",
              "      <td>0.475427</td>\n",
              "      <td>0.159824</td>\n",
              "    </tr>\n",
              "    <tr>\n",
              "      <th>Linear Regressor (Split 3)</th>\n",
              "      <td>0.362007</td>\n",
              "      <td>0.203090</td>\n",
              "      <td>0.450655</td>\n",
              "      <td>0.231697</td>\n",
              "      <td>0.357245</td>\n",
              "      <td>0.227630</td>\n",
              "      <td>0.477106</td>\n",
              "      <td>0.035198</td>\n",
              "    </tr>\n",
              "    <tr>\n",
              "      <th>Linear Regressor (Split 4)</th>\n",
              "      <td>0.373705</td>\n",
              "      <td>0.208310</td>\n",
              "      <td>0.456410</td>\n",
              "      <td>0.199800</td>\n",
              "      <td>0.355526</td>\n",
              "      <td>0.188550</td>\n",
              "      <td>0.434223</td>\n",
              "      <td>0.249599</td>\n",
              "    </tr>\n",
              "    <tr>\n",
              "      <th>Linear Regressor (Split 5)</th>\n",
              "      <td>0.358488</td>\n",
              "      <td>0.195729</td>\n",
              "      <td>0.442413</td>\n",
              "      <td>0.224704</td>\n",
              "      <td>0.379162</td>\n",
              "      <td>0.218035</td>\n",
              "      <td>0.466942</td>\n",
              "      <td>0.232427</td>\n",
              "    </tr>\n",
              "    <tr>\n",
              "      <th>Average</th>\n",
              "      <td>0.364823</td>\n",
              "      <td>0.201985</td>\n",
              "      <td>0.449401</td>\n",
              "      <td>0.219352</td>\n",
              "      <td>0.369038</td>\n",
              "      <td>0.213008</td>\n",
              "      <td>0.461248</td>\n",
              "      <td>0.172177</td>\n",
              "    </tr>\n",
              "  </tbody>\n",
              "</table>\n",
              "</div>"
            ],
            "text/plain": [
              "                            MAE (TS)  MSE (TS)  RMSE (TS)  R^2 (TS)  MAE (TE)  \\\n",
              "Linear Regressor (Split 1)  0.368563  0.204047   0.451715  0.216603  0.363974   \n",
              "Linear Regressor (Split 2)  0.361352  0.198748   0.445811  0.223958  0.389286   \n",
              "Linear Regressor (Split 3)  0.362007  0.203090   0.450655  0.231697  0.357245   \n",
              "Linear Regressor (Split 4)  0.373705  0.208310   0.456410  0.199800  0.355526   \n",
              "Linear Regressor (Split 5)  0.358488  0.195729   0.442413  0.224704  0.379162   \n",
              "Average                     0.364823  0.201985   0.449401  0.219352  0.369038   \n",
              "\n",
              "                            MSE (TE)  RMSE (TE)  R^2 (TE)  \n",
              "Linear Regressor (Split 1)  0.204792   0.452540  0.183834  \n",
              "Linear Regressor (Split 2)  0.226031   0.475427  0.159824  \n",
              "Linear Regressor (Split 3)  0.227630   0.477106  0.035198  \n",
              "Linear Regressor (Split 4)  0.188550   0.434223  0.249599  \n",
              "Linear Regressor (Split 5)  0.218035   0.466942  0.232427  \n",
              "Average                     0.213008   0.461248  0.172177  "
            ]
          },
          "execution_count": 39,
          "metadata": {},
          "output_type": "execute_result"
        }
      ],
      "source": [
        "regLin_perf = custom_kf_cv(X=X_DS_, y=y_DS_,\n",
        "                            m=LinearRegression(),\n",
        "                            m_name=\"Linear Regressor\",\n",
        "                            param_grid=None,\n",
        "                            k=5,\n",
        "                            scaler=MinMaxScaler())\n",
        "\n",
        "# >>>\n",
        "print(f\"{len(regLin_perf)} model performance table(s) available.\")\n",
        "regLin_perf[0]"
      ]
    },
    {
      "cell_type": "markdown",
      "metadata": {},
      "source": [
        "### Regressore KNN\n",
        "\n",
        "Un Regressore KNN è inerente all'approccio Case-Based dell'Apprendimento Supervisionato. Il modello non calcola dei coefficienti numerici come nel Regressore Lineare, ma predice il target dell'istanza online guardando gli esempi più simili ad essa. Questi ultimi NON vengono individuati con un semplice scanning completo del TS (sarebbe dispendioso), ma mediante costruzione di una struttura dati Kd-Tree. Le prestazioni di questi tipi di metodi dipendono in modo cruciale dal Feature Scaling.\n",
        "\n",
        "Il nostro iperparametro di interesse è `n_neighbors`. In generale, i domini degli iperparametri considerati sono:\n",
        "- `n_neighbors` può andare da 1 a 20.\n",
        "- `weights` può essere `distance`, in cui gli esempi più vicini hanno peso che dipende da quanto sono simili all'istanza online; `uniform` quando hanno peso uguale. \n",
        "- `algorithm = kd_tree` ad indicare la struttura dati utilizzata.\n",
        "\n",
        "Gli iperparametri ottimali sono mostrati nella tabella delle performance mostrata di seguito."
      ]
    },
    {
      "cell_type": "code",
      "execution_count": 40,
      "metadata": {},
      "outputs": [],
      "source": [
        "def save_cv_results(model_grid, model_name):\n",
        "    \"\"\"Salva i risultati della CV in un file xlsx.\n",
        "\n",
        "    Args:\n",
        "        - model_grid: Oggetto contenente risultati della CV.\n",
        "        - model_name: Nome del modello.\n",
        "    \"\"\"\n",
        "    cv_results_table = pd.DataFrame(model_grid.cv_results_)\n",
        "    cv_results_table.to_excel(f\"./benchmark/cv_results/{model_name}.xlsx\", sheet_name=model_name)"
      ]
    },
    {
      "cell_type": "code",
      "execution_count": 41,
      "metadata": {},
      "outputs": [
        {
          "data": {
            "text/html": [
              "<style>#sk-container-id-10 {color: black;}#sk-container-id-10 pre{padding: 0;}#sk-container-id-10 div.sk-toggleable {background-color: white;}#sk-container-id-10 label.sk-toggleable__label {cursor: pointer;display: block;width: 100%;margin-bottom: 0;padding: 0.3em;box-sizing: border-box;text-align: center;}#sk-container-id-10 label.sk-toggleable__label-arrow:before {content: \"▸\";float: left;margin-right: 0.25em;color: #696969;}#sk-container-id-10 label.sk-toggleable__label-arrow:hover:before {color: black;}#sk-container-id-10 div.sk-estimator:hover label.sk-toggleable__label-arrow:before {color: black;}#sk-container-id-10 div.sk-toggleable__content {max-height: 0;max-width: 0;overflow: hidden;text-align: left;background-color: #f0f8ff;}#sk-container-id-10 div.sk-toggleable__content pre {margin: 0.2em;color: black;border-radius: 0.25em;background-color: #f0f8ff;}#sk-container-id-10 input.sk-toggleable__control:checked~div.sk-toggleable__content {max-height: 200px;max-width: 100%;overflow: auto;}#sk-container-id-10 input.sk-toggleable__control:checked~label.sk-toggleable__label-arrow:before {content: \"▾\";}#sk-container-id-10 div.sk-estimator input.sk-toggleable__control:checked~label.sk-toggleable__label {background-color: #d4ebff;}#sk-container-id-10 div.sk-label input.sk-toggleable__control:checked~label.sk-toggleable__label {background-color: #d4ebff;}#sk-container-id-10 input.sk-hidden--visually {border: 0;clip: rect(1px 1px 1px 1px);clip: rect(1px, 1px, 1px, 1px);height: 1px;margin: -1px;overflow: hidden;padding: 0;position: absolute;width: 1px;}#sk-container-id-10 div.sk-estimator {font-family: monospace;background-color: #f0f8ff;border: 1px dotted black;border-radius: 0.25em;box-sizing: border-box;margin-bottom: 0.5em;}#sk-container-id-10 div.sk-estimator:hover {background-color: #d4ebff;}#sk-container-id-10 div.sk-parallel-item::after {content: \"\";width: 100%;border-bottom: 1px solid gray;flex-grow: 1;}#sk-container-id-10 div.sk-label:hover label.sk-toggleable__label {background-color: #d4ebff;}#sk-container-id-10 div.sk-serial::before {content: \"\";position: absolute;border-left: 1px solid gray;box-sizing: border-box;top: 0;bottom: 0;left: 50%;z-index: 0;}#sk-container-id-10 div.sk-serial {display: flex;flex-direction: column;align-items: center;background-color: white;padding-right: 0.2em;padding-left: 0.2em;position: relative;}#sk-container-id-10 div.sk-item {position: relative;z-index: 1;}#sk-container-id-10 div.sk-parallel {display: flex;align-items: stretch;justify-content: center;background-color: white;position: relative;}#sk-container-id-10 div.sk-item::before, #sk-container-id-10 div.sk-parallel-item::before {content: \"\";position: absolute;border-left: 1px solid gray;box-sizing: border-box;top: 0;bottom: 0;left: 50%;z-index: -1;}#sk-container-id-10 div.sk-parallel-item {display: flex;flex-direction: column;z-index: 1;position: relative;background-color: white;}#sk-container-id-10 div.sk-parallel-item:first-child::after {align-self: flex-end;width: 50%;}#sk-container-id-10 div.sk-parallel-item:last-child::after {align-self: flex-start;width: 50%;}#sk-container-id-10 div.sk-parallel-item:only-child::after {width: 0;}#sk-container-id-10 div.sk-dashed-wrapped {border: 1px dashed gray;margin: 0 0.4em 0.5em 0.4em;box-sizing: border-box;padding-bottom: 0.4em;background-color: white;}#sk-container-id-10 div.sk-label label {font-family: monospace;font-weight: bold;display: inline-block;line-height: 1.2em;}#sk-container-id-10 div.sk-label-container {text-align: center;}#sk-container-id-10 div.sk-container {/* jupyter's `normalize.less` sets `[hidden] { display: none; }` but bootstrap.min.css set `[hidden] { display: none !important; }` so we also need the `!important` here to be able to override the default hidden behavior on the sphinx rendered scikit-learn.org. See: https://github.com/scikit-learn/scikit-learn/issues/21755 */display: inline-block !important;position: relative;}#sk-container-id-10 div.sk-text-repr-fallback {display: none;}</style><div id=\"sk-container-id-10\" class=\"sk-top-container\"><div class=\"sk-text-repr-fallback\"><pre>GridSearchCV(cv=5, estimator=KNeighborsRegressor(),\n",
              "             param_grid={&#x27;algorithm&#x27;: [&#x27;kd_tree&#x27;], &#x27;n_neighbors&#x27;: range(1, 21),\n",
              "                         &#x27;weights&#x27;: [&#x27;distance&#x27;, &#x27;uniform&#x27;]},\n",
              "             refit=False, return_train_score=True,\n",
              "             scoring=&#x27;neg_mean_absolute_error&#x27;)</pre><b>In a Jupyter environment, please rerun this cell to show the HTML representation or trust the notebook. <br />On GitHub, the HTML representation is unable to render, please try loading this page with nbviewer.org.</b></div><div class=\"sk-container\" hidden><div class=\"sk-item sk-dashed-wrapped\"><div class=\"sk-label-container\"><div class=\"sk-label sk-toggleable\"><input class=\"sk-toggleable__control sk-hidden--visually\" id=\"sk-estimator-id-22\" type=\"checkbox\" ><label for=\"sk-estimator-id-22\" class=\"sk-toggleable__label sk-toggleable__label-arrow\">GridSearchCV</label><div class=\"sk-toggleable__content\"><pre>GridSearchCV(cv=5, estimator=KNeighborsRegressor(),\n",
              "             param_grid={&#x27;algorithm&#x27;: [&#x27;kd_tree&#x27;], &#x27;n_neighbors&#x27;: range(1, 21),\n",
              "                         &#x27;weights&#x27;: [&#x27;distance&#x27;, &#x27;uniform&#x27;]},\n",
              "             refit=False, return_train_score=True,\n",
              "             scoring=&#x27;neg_mean_absolute_error&#x27;)</pre></div></div></div><div class=\"sk-parallel\"><div class=\"sk-parallel-item\"><div class=\"sk-item\"><div class=\"sk-label-container\"><div class=\"sk-label sk-toggleable\"><input class=\"sk-toggleable__control sk-hidden--visually\" id=\"sk-estimator-id-23\" type=\"checkbox\" ><label for=\"sk-estimator-id-23\" class=\"sk-toggleable__label sk-toggleable__label-arrow\">estimator: KNeighborsRegressor</label><div class=\"sk-toggleable__content\"><pre>KNeighborsRegressor()</pre></div></div></div><div class=\"sk-serial\"><div class=\"sk-item\"><div class=\"sk-estimator sk-toggleable\"><input class=\"sk-toggleable__control sk-hidden--visually\" id=\"sk-estimator-id-24\" type=\"checkbox\" ><label for=\"sk-estimator-id-24\" class=\"sk-toggleable__label sk-toggleable__label-arrow\">KNeighborsRegressor</label><div class=\"sk-toggleable__content\"><pre>KNeighborsRegressor()</pre></div></div></div></div></div></div></div></div></div></div>"
            ],
            "text/plain": [
              "GridSearchCV(cv=5, estimator=KNeighborsRegressor(),\n",
              "             param_grid={'algorithm': ['kd_tree'], 'n_neighbors': range(1, 21),\n",
              "                         'weights': ['distance', 'uniform']},\n",
              "             refit=False, return_train_score=True,\n",
              "             scoring='neg_mean_absolute_error')"
            ]
          },
          "execution_count": 41,
          "metadata": {},
          "output_type": "execute_result"
        },
        {
          "name": "stdout",
          "output_type": "stream",
          "text": [
            "1 model performance table available.\n"
          ]
        },
        {
          "data": {
            "text/html": [
              "<div>\n",
              "<style scoped>\n",
              "    .dataframe tbody tr th:only-of-type {\n",
              "        vertical-align: middle;\n",
              "    }\n",
              "\n",
              "    .dataframe tbody tr th {\n",
              "        vertical-align: top;\n",
              "    }\n",
              "\n",
              "    .dataframe thead th {\n",
              "        text-align: right;\n",
              "    }\n",
              "</style>\n",
              "<table border=\"1\" class=\"dataframe\">\n",
              "  <thead>\n",
              "    <tr style=\"text-align: right;\">\n",
              "      <th></th>\n",
              "      <th>MAE (TS)</th>\n",
              "      <th>MSE (TS)</th>\n",
              "      <th>RMSE (TS)</th>\n",
              "      <th>R^2 (TS)</th>\n",
              "      <th>MAE (TE)</th>\n",
              "      <th>MSE (TE)</th>\n",
              "      <th>RMSE (TE)</th>\n",
              "      <th>R^2 (TE)</th>\n",
              "    </tr>\n",
              "  </thead>\n",
              "  <tbody>\n",
              "    <tr>\n",
              "      <th>KNN (Split 1)</th>\n",
              "      <td>0.0</td>\n",
              "      <td>0.0</td>\n",
              "      <td>0.0</td>\n",
              "      <td>1.0</td>\n",
              "      <td>0.276616</td>\n",
              "      <td>0.146056</td>\n",
              "      <td>0.382172</td>\n",
              "      <td>0.417918</td>\n",
              "    </tr>\n",
              "    <tr>\n",
              "      <th>KNN (Split 2)</th>\n",
              "      <td>0.0</td>\n",
              "      <td>0.0</td>\n",
              "      <td>0.0</td>\n",
              "      <td>1.0</td>\n",
              "      <td>0.281607</td>\n",
              "      <td>0.145444</td>\n",
              "      <td>0.381371</td>\n",
              "      <td>0.459375</td>\n",
              "    </tr>\n",
              "    <tr>\n",
              "      <th>KNN (Split 3)</th>\n",
              "      <td>0.0</td>\n",
              "      <td>0.0</td>\n",
              "      <td>0.0</td>\n",
              "      <td>1.0</td>\n",
              "      <td>0.274738</td>\n",
              "      <td>0.149282</td>\n",
              "      <td>0.386370</td>\n",
              "      <td>0.367275</td>\n",
              "    </tr>\n",
              "    <tr>\n",
              "      <th>KNN (Split 4)</th>\n",
              "      <td>0.0</td>\n",
              "      <td>0.0</td>\n",
              "      <td>0.0</td>\n",
              "      <td>1.0</td>\n",
              "      <td>0.272437</td>\n",
              "      <td>0.141140</td>\n",
              "      <td>0.375686</td>\n",
              "      <td>0.438281</td>\n",
              "    </tr>\n",
              "    <tr>\n",
              "      <th>KNN (Split 5)</th>\n",
              "      <td>0.0</td>\n",
              "      <td>0.0</td>\n",
              "      <td>0.0</td>\n",
              "      <td>1.0</td>\n",
              "      <td>0.301901</td>\n",
              "      <td>0.169098</td>\n",
              "      <td>0.411216</td>\n",
              "      <td>0.404702</td>\n",
              "    </tr>\n",
              "    <tr>\n",
              "      <th>Average ({'algorithm': 'kd_tree', 'n_neighbors': 12, 'weights': 'distance'})</th>\n",
              "      <td>0.0</td>\n",
              "      <td>0.0</td>\n",
              "      <td>0.0</td>\n",
              "      <td>1.0</td>\n",
              "      <td>0.281460</td>\n",
              "      <td>0.150204</td>\n",
              "      <td>0.387363</td>\n",
              "      <td>0.417510</td>\n",
              "    </tr>\n",
              "  </tbody>\n",
              "</table>\n",
              "</div>"
            ],
            "text/plain": [
              "                                                    MAE (TS)  MSE (TS)  \\\n",
              "KNN (Split 1)                                            0.0       0.0   \n",
              "KNN (Split 2)                                            0.0       0.0   \n",
              "KNN (Split 3)                                            0.0       0.0   \n",
              "KNN (Split 4)                                            0.0       0.0   \n",
              "KNN (Split 5)                                            0.0       0.0   \n",
              "Average ({'algorithm': 'kd_tree', 'n_neighbors'...       0.0       0.0   \n",
              "\n",
              "                                                    RMSE (TS)  R^2 (TS)  \\\n",
              "KNN (Split 1)                                             0.0       1.0   \n",
              "KNN (Split 2)                                             0.0       1.0   \n",
              "KNN (Split 3)                                             0.0       1.0   \n",
              "KNN (Split 4)                                             0.0       1.0   \n",
              "KNN (Split 5)                                             0.0       1.0   \n",
              "Average ({'algorithm': 'kd_tree', 'n_neighbors'...        0.0       1.0   \n",
              "\n",
              "                                                    MAE (TE)  MSE (TE)  \\\n",
              "KNN (Split 1)                                       0.276616  0.146056   \n",
              "KNN (Split 2)                                       0.281607  0.145444   \n",
              "KNN (Split 3)                                       0.274738  0.149282   \n",
              "KNN (Split 4)                                       0.272437  0.141140   \n",
              "KNN (Split 5)                                       0.301901  0.169098   \n",
              "Average ({'algorithm': 'kd_tree', 'n_neighbors'...  0.281460  0.150204   \n",
              "\n",
              "                                                    RMSE (TE)  R^2 (TE)  \n",
              "KNN (Split 1)                                        0.382172  0.417918  \n",
              "KNN (Split 2)                                        0.381371  0.459375  \n",
              "KNN (Split 3)                                        0.386370  0.367275  \n",
              "KNN (Split 4)                                        0.375686  0.438281  \n",
              "KNN (Split 5)                                        0.411216  0.404702  \n",
              "Average ({'algorithm': 'kd_tree', 'n_neighbors'...   0.387363  0.417510  "
            ]
          },
          "execution_count": 41,
          "metadata": {},
          "output_type": "execute_result"
        },
        {
          "data": {
            "image/png": "[encoded data removed]",
            "text/plain": [
              "<Figure size 1500x500 with 1 Axes>"
            ]
          },
          "metadata": {},
          "output_type": "display_data"
        }
      ],
      "source": [
        "from sklearn.neighbors import KNeighborsRegressor\n",
        "from sklearn.model_selection import GridSearchCV\n",
        "\n",
        "# iperparametri\n",
        "regKNN_params = {\n",
        "    'n_neighbors': range(1, 21),\n",
        "    'weights': ['distance', 'uniform'],\n",
        "    'algorithm': ['kd_tree']\n",
        "}\n",
        "\n",
        "# ricerca migliore configurazione di iperparametri\n",
        "regKNN_grid = GridSearchCV(\n",
        "    estimator=KNeighborsRegressor(),\n",
        "    param_grid=regKNN_params,\n",
        "    cv=5,\n",
        "    scoring='neg_mean_absolute_error',\n",
        "    refit=False, # lo faccio manualmente dopo\n",
        "    return_train_score=True\n",
        ")\n",
        "regKNN_grid.fit(X=X_TS, y=gt_y_TS)\n",
        "regKNN_params_best = regKNN_grid.best_params_\n",
        "save_cv_results(regKNN_grid, \"regKNN\")\n",
        "\n",
        "# calcolo metriche\n",
        "# lista adatta al ParameterGrid\n",
        "regKNN_params_best = {k: [v] if not isinstance(v, list) else v for k, v in regKNN_params_best.items()}\n",
        "regKNN_perf = custom_kf_cv(X=X_DS_, y=y_DS_,\n",
        "                                    m=KNeighborsRegressor(),\n",
        "                                    m_name=\"KNN\",\n",
        "                                    param_grid=ParameterGrid(regKNN_params_best),\n",
        "                                    k=5,\n",
        "                                    scaler=MinMaxScaler(),\n",
        "                                    plot_err=True)\n",
        "\n",
        "# >>>\n",
        "print(f\"{len(regKNN_perf)} model performance table available.\")\n",
        "regKNN_perf[0]"
      ]
    },
    {
      "cell_type": "markdown",
      "metadata": {},
      "source": [
        "L'istogramma qui sopra presentato fa vedere come, se prendiamo in considerazione la migliore configurazione di iperparametri, nel momento in cui andiamo ad addestrare questo modello sui dati del TS e lo valutiamo sui dati del VS, il numero di esempi con errore percentuale 0% è di gran lunga maggiore rispetto a prima. Questo modello, inoltre, non fa errori gravi."
      ]
    },
    {
      "cell_type": "markdown",
      "metadata": {},
      "source": [
        "### Regressore con Alberi di Decisione\n",
        "\n",
        "I Regressori (e Classificatori) basati su Alberi di Decisione non necessitano di Feature Scaling perchè fanno scelte di partizionamento del DS basate su una soglia del dominio di una feature.\n",
        "\n",
        "In generale, i domini degli iperparametri considerati sono:\n",
        "- `criterion` per il calcolo della misura di bontà dello split.\n",
        "- `splitter` è il criterio di scelta di uno split. `best` è il criterio migliore ma impiega più tempo, `random` è il criterio che sceglie il miglior split individuato tra quelli generati casualmente.\n",
        "- `max_depth` è la massima profondità dell'albero.\n",
        "- `min_samples_split` è il numero minimo di campioni richiesti per dividere un nodo interno.\n",
        "- `random_state` è utile per replicare il criterio di scelta nel caso in cui fosse `random`.\n",
        "\n",
        "Gli iperparametri ottimali sono mostrati nella tabella delle performance mostrata di seguito.\n"
      ]
    },
    {
      "cell_type": "code",
      "execution_count": 19,
      "metadata": {},
      "outputs": [
        {
          "data": {
            "text/html": [
              "<style>#sk-container-id-2 {color: black;}#sk-container-id-2 pre{padding: 0;}#sk-container-id-2 div.sk-toggleable {background-color: white;}#sk-container-id-2 label.sk-toggleable__label {cursor: pointer;display: block;width: 100%;margin-bottom: 0;padding: 0.3em;box-sizing: border-box;text-align: center;}#sk-container-id-2 label.sk-toggleable__label-arrow:before {content: \"▸\";float: left;margin-right: 0.25em;color: #696969;}#sk-container-id-2 label.sk-toggleable__label-arrow:hover:before {color: black;}#sk-container-id-2 div.sk-estimator:hover label.sk-toggleable__label-arrow:before {color: black;}#sk-container-id-2 div.sk-toggleable__content {max-height: 0;max-width: 0;overflow: hidden;text-align: left;background-color: #f0f8ff;}#sk-container-id-2 div.sk-toggleable__content pre {margin: 0.2em;color: black;border-radius: 0.25em;background-color: #f0f8ff;}#sk-container-id-2 input.sk-toggleable__control:checked~div.sk-toggleable__content {max-height: 200px;max-width: 100%;overflow: auto;}#sk-container-id-2 input.sk-toggleable__control:checked~label.sk-toggleable__label-arrow:before {content: \"▾\";}#sk-container-id-2 div.sk-estimator input.sk-toggleable__control:checked~label.sk-toggleable__label {background-color: #d4ebff;}#sk-container-id-2 div.sk-label input.sk-toggleable__control:checked~label.sk-toggleable__label {background-color: #d4ebff;}#sk-container-id-2 input.sk-hidden--visually {border: 0;clip: rect(1px 1px 1px 1px);clip: rect(1px, 1px, 1px, 1px);height: 1px;margin: -1px;overflow: hidden;padding: 0;position: absolute;width: 1px;}#sk-container-id-2 div.sk-estimator {font-family: monospace;background-color: #f0f8ff;border: 1px dotted black;border-radius: 0.25em;box-sizing: border-box;margin-bottom: 0.5em;}#sk-container-id-2 div.sk-estimator:hover {background-color: #d4ebff;}#sk-container-id-2 div.sk-parallel-item::after {content: \"\";width: 100%;border-bottom: 1px solid gray;flex-grow: 1;}#sk-container-id-2 div.sk-label:hover label.sk-toggleable__label {background-color: #d4ebff;}#sk-container-id-2 div.sk-serial::before {content: \"\";position: absolute;border-left: 1px solid gray;box-sizing: border-box;top: 0;bottom: 0;left: 50%;z-index: 0;}#sk-container-id-2 div.sk-serial {display: flex;flex-direction: column;align-items: center;background-color: white;padding-right: 0.2em;padding-left: 0.2em;position: relative;}#sk-container-id-2 div.sk-item {position: relative;z-index: 1;}#sk-container-id-2 div.sk-parallel {display: flex;align-items: stretch;justify-content: center;background-color: white;position: relative;}#sk-container-id-2 div.sk-item::before, #sk-container-id-2 div.sk-parallel-item::before {content: \"\";position: absolute;border-left: 1px solid gray;box-sizing: border-box;top: 0;bottom: 0;left: 50%;z-index: -1;}#sk-container-id-2 div.sk-parallel-item {display: flex;flex-direction: column;z-index: 1;position: relative;background-color: white;}#sk-container-id-2 div.sk-parallel-item:first-child::after {align-self: flex-end;width: 50%;}#sk-container-id-2 div.sk-parallel-item:last-child::after {align-self: flex-start;width: 50%;}#sk-container-id-2 div.sk-parallel-item:only-child::after {width: 0;}#sk-container-id-2 div.sk-dashed-wrapped {border: 1px dashed gray;margin: 0 0.4em 0.5em 0.4em;box-sizing: border-box;padding-bottom: 0.4em;background-color: white;}#sk-container-id-2 div.sk-label label {font-family: monospace;font-weight: bold;display: inline-block;line-height: 1.2em;}#sk-container-id-2 div.sk-label-container {text-align: center;}#sk-container-id-2 div.sk-container {/* jupyter's `normalize.less` sets `[hidden] { display: none; }` but bootstrap.min.css set `[hidden] { display: none !important; }` so we also need the `!important` here to be able to override the default hidden behavior on the sphinx rendered scikit-learn.org. See: https://github.com/scikit-learn/scikit-learn/issues/21755 */display: inline-block !important;position: relative;}#sk-container-id-2 div.sk-text-repr-fallback {display: none;}</style><div id=\"sk-container-id-2\" class=\"sk-top-container\"><div class=\"sk-text-repr-fallback\"><pre>GridSearchCV(cv=5, estimator=DecisionTreeRegressor(),\n",
              "             param_grid={&#x27;criterion&#x27;: [&#x27;friedman_mse&#x27;, &#x27;squared_error&#x27;,\n",
              "                                       &#x27;poisson&#x27;],\n",
              "                         &#x27;max_depth&#x27;: [None, 5, 10, 15, 45, 90],\n",
              "                         &#x27;min_samples_leaf&#x27;: [1, 5, 20, 50, 90],\n",
              "                         &#x27;min_samples_split&#x27;: [2, 5, 10, 40, 60, 100, 150],\n",
              "                         &#x27;random_state&#x27;: [1], &#x27;splitter&#x27;: [&#x27;best&#x27;, &#x27;random&#x27;]},\n",
              "             refit=False, scoring=&#x27;neg_mean_absolute_error&#x27;)</pre><b>In a Jupyter environment, please rerun this cell to show the HTML representation or trust the notebook. <br />On GitHub, the HTML representation is unable to render, please try loading this page with nbviewer.org.</b></div><div class=\"sk-container\" hidden><div class=\"sk-item sk-dashed-wrapped\"><div class=\"sk-label-container\"><div class=\"sk-label sk-toggleable\"><input class=\"sk-toggleable__control sk-hidden--visually\" id=\"sk-estimator-id-4\" type=\"checkbox\" ><label for=\"sk-estimator-id-4\" class=\"sk-toggleable__label sk-toggleable__label-arrow\">GridSearchCV</label><div class=\"sk-toggleable__content\"><pre>GridSearchCV(cv=5, estimator=DecisionTreeRegressor(),\n",
              "             param_grid={&#x27;criterion&#x27;: [&#x27;friedman_mse&#x27;, &#x27;squared_error&#x27;,\n",
              "                                       &#x27;poisson&#x27;],\n",
              "                         &#x27;max_depth&#x27;: [None, 5, 10, 15, 45, 90],\n",
              "                         &#x27;min_samples_leaf&#x27;: [1, 5, 20, 50, 90],\n",
              "                         &#x27;min_samples_split&#x27;: [2, 5, 10, 40, 60, 100, 150],\n",
              "                         &#x27;random_state&#x27;: [1], &#x27;splitter&#x27;: [&#x27;best&#x27;, &#x27;random&#x27;]},\n",
              "             refit=False, scoring=&#x27;neg_mean_absolute_error&#x27;)</pre></div></div></div><div class=\"sk-parallel\"><div class=\"sk-parallel-item\"><div class=\"sk-item\"><div class=\"sk-label-container\"><div class=\"sk-label sk-toggleable\"><input class=\"sk-toggleable__control sk-hidden--visually\" id=\"sk-estimator-id-5\" type=\"checkbox\" ><label for=\"sk-estimator-id-5\" class=\"sk-toggleable__label sk-toggleable__label-arrow\">estimator: DecisionTreeRegressor</label><div class=\"sk-toggleable__content\"><pre>DecisionTreeRegressor()</pre></div></div></div><div class=\"sk-serial\"><div class=\"sk-item\"><div class=\"sk-estimator sk-toggleable\"><input class=\"sk-toggleable__control sk-hidden--visually\" id=\"sk-estimator-id-6\" type=\"checkbox\" ><label for=\"sk-estimator-id-6\" class=\"sk-toggleable__label sk-toggleable__label-arrow\">DecisionTreeRegressor</label><div class=\"sk-toggleable__content\"><pre>DecisionTreeRegressor()</pre></div></div></div></div></div></div></div></div></div></div>"
            ],
            "text/plain": [
              "GridSearchCV(cv=5, estimator=DecisionTreeRegressor(),\n",
              "             param_grid={'criterion': ['friedman_mse', 'squared_error',\n",
              "                                       'poisson'],\n",
              "                         'max_depth': [None, 5, 10, 15, 45, 90],\n",
              "                         'min_samples_leaf': [1, 5, 20, 50, 90],\n",
              "                         'min_samples_split': [2, 5, 10, 40, 60, 100, 150],\n",
              "                         'random_state': [1], 'splitter': ['best', 'random']},\n",
              "             refit=False, scoring='neg_mean_absolute_error')"
            ]
          },
          "execution_count": 19,
          "metadata": {},
          "output_type": "execute_result"
        },
        {
          "name": "stdout",
          "output_type": "stream",
          "text": [
            "1 model performance table available.\n"
          ]
        },
        {
          "data": {
            "text/html": [
              "<div>\n",
              "<style scoped>\n",
              "    .dataframe tbody tr th:only-of-type {\n",
              "        vertical-align: middle;\n",
              "    }\n",
              "\n",
              "    .dataframe tbody tr th {\n",
              "        vertical-align: top;\n",
              "    }\n",
              "\n",
              "    .dataframe thead th {\n",
              "        text-align: right;\n",
              "    }\n",
              "</style>\n",
              "<table border=\"1\" class=\"dataframe\">\n",
              "  <thead>\n",
              "    <tr style=\"text-align: right;\">\n",
              "      <th></th>\n",
              "      <th>MAE (TS)</th>\n",
              "      <th>MSE (TS)</th>\n",
              "      <th>RMSE (TS)</th>\n",
              "      <th>R^2 (TS)</th>\n",
              "      <th>MAE (TE)</th>\n",
              "      <th>MSE (TE)</th>\n",
              "      <th>RMSE (TE)</th>\n",
              "      <th>R^2 (TE)</th>\n",
              "    </tr>\n",
              "  </thead>\n",
              "  <tbody>\n",
              "    <tr>\n",
              "      <th>Decision Tree (Split 1)</th>\n",
              "      <td>0.260724</td>\n",
              "      <td>0.125140</td>\n",
              "      <td>0.353751</td>\n",
              "      <td>0.519551</td>\n",
              "      <td>0.277142</td>\n",
              "      <td>0.143450</td>\n",
              "      <td>0.378748</td>\n",
              "      <td>0.428302</td>\n",
              "    </tr>\n",
              "    <tr>\n",
              "      <th>Decision Tree (Split 2)</th>\n",
              "      <td>0.260067</td>\n",
              "      <td>0.126706</td>\n",
              "      <td>0.355958</td>\n",
              "      <td>0.505255</td>\n",
              "      <td>0.282840</td>\n",
              "      <td>0.151402</td>\n",
              "      <td>0.389105</td>\n",
              "      <td>0.437225</td>\n",
              "    </tr>\n",
              "    <tr>\n",
              "      <th>Decision Tree (Split 3)</th>\n",
              "      <td>0.269689</td>\n",
              "      <td>0.135460</td>\n",
              "      <td>0.368049</td>\n",
              "      <td>0.487546</td>\n",
              "      <td>0.270089</td>\n",
              "      <td>0.141349</td>\n",
              "      <td>0.375964</td>\n",
              "      <td>0.400899</td>\n",
              "    </tr>\n",
              "    <tr>\n",
              "      <th>Decision Tree (Split 4)</th>\n",
              "      <td>0.260433</td>\n",
              "      <td>0.123336</td>\n",
              "      <td>0.351192</td>\n",
              "      <td>0.526219</td>\n",
              "      <td>0.273614</td>\n",
              "      <td>0.138061</td>\n",
              "      <td>0.371566</td>\n",
              "      <td>0.450537</td>\n",
              "    </tr>\n",
              "    <tr>\n",
              "      <th>Decision Tree (Split 5)</th>\n",
              "      <td>0.248419</td>\n",
              "      <td>0.113221</td>\n",
              "      <td>0.336483</td>\n",
              "      <td>0.551524</td>\n",
              "      <td>0.300691</td>\n",
              "      <td>0.160929</td>\n",
              "      <td>0.401160</td>\n",
              "      <td>0.433462</td>\n",
              "    </tr>\n",
              "    <tr>\n",
              "      <th>Average ({'criterion': 'poisson', 'max_depth': 10, 'min_samples_leaf': 1, 'min_samples_split': 60, 'random_state': 1, 'splitter': 'random'})</th>\n",
              "      <td>0.259866</td>\n",
              "      <td>0.124773</td>\n",
              "      <td>0.353087</td>\n",
              "      <td>0.518019</td>\n",
              "      <td>0.280875</td>\n",
              "      <td>0.147038</td>\n",
              "      <td>0.383308</td>\n",
              "      <td>0.430085</td>\n",
              "    </tr>\n",
              "  </tbody>\n",
              "</table>\n",
              "</div>"
            ],
            "text/plain": [
              "                                                    MAE (TS)  MSE (TS)  \\\n",
              "Decision Tree (Split 1)                             0.260724  0.125140   \n",
              "Decision Tree (Split 2)                             0.260067  0.126706   \n",
              "Decision Tree (Split 3)                             0.269689  0.135460   \n",
              "Decision Tree (Split 4)                             0.260433  0.123336   \n",
              "Decision Tree (Split 5)                             0.248419  0.113221   \n",
              "Average ({'criterion': 'poisson', 'max_depth': ...  0.259866  0.124773   \n",
              "\n",
              "                                                    RMSE (TS)  R^2 (TS)  \\\n",
              "Decision Tree (Split 1)                              0.353751  0.519551   \n",
              "Decision Tree (Split 2)                              0.355958  0.505255   \n",
              "Decision Tree (Split 3)                              0.368049  0.487546   \n",
              "Decision Tree (Split 4)                              0.351192  0.526219   \n",
              "Decision Tree (Split 5)                              0.336483  0.551524   \n",
              "Average ({'criterion': 'poisson', 'max_depth': ...   0.353087  0.518019   \n",
              "\n",
              "                                                    MAE (TE)  MSE (TE)  \\\n",
              "Decision Tree (Split 1)                             0.277142  0.143450   \n",
              "Decision Tree (Split 2)                             0.282840  0.151402   \n",
              "Decision Tree (Split 3)                             0.270089  0.141349   \n",
              "Decision Tree (Split 4)                             0.273614  0.138061   \n",
              "Decision Tree (Split 5)                             0.300691  0.160929   \n",
              "Average ({'criterion': 'poisson', 'max_depth': ...  0.280875  0.147038   \n",
              "\n",
              "                                                    RMSE (TE)  R^2 (TE)  \n",
              "Decision Tree (Split 1)                              0.378748  0.428302  \n",
              "Decision Tree (Split 2)                              0.389105  0.437225  \n",
              "Decision Tree (Split 3)                              0.375964  0.400899  \n",
              "Decision Tree (Split 4)                              0.371566  0.450537  \n",
              "Decision Tree (Split 5)                              0.401160  0.433462  \n",
              "Average ({'criterion': 'poisson', 'max_depth': ...   0.383308  0.430085  "
            ]
          },
          "execution_count": 19,
          "metadata": {},
          "output_type": "execute_result"
        }
      ],
      "source": [
        "from sklearn.tree import DecisionTreeRegressor\n",
        "\n",
        "# iperparametri\n",
        "regDet_params = {\n",
        "    'criterion': ['friedman_mse', 'squared_error', 'poisson'],\n",
        "    'splitter': ['best', 'random'],\n",
        "    'max_depth': [None, 5, 10, 15, 45, 90],\n",
        "    'min_samples_leaf': [1, 5, 20, 50, 90],\n",
        "    'min_samples_split': [2, 5, 10, 40, 60, 100, 150],\n",
        "    'random_state': [1]\n",
        "}\n",
        "\n",
        "# ricerca migliore configurazione di iperparametri\n",
        "regDet_grid = GridSearchCV(\n",
        "    estimator=DecisionTreeRegressor(),\n",
        "    param_grid=regDet_params,\n",
        "    cv=5,\n",
        "    scoring='neg_mean_absolute_error',\n",
        "    refit=False\n",
        ")\n",
        "regDet_grid.fit(X=X_TS, y=gt_y_TS)\n",
        "regDet_params_best = regDet_grid.best_params_\n",
        "save_cv_results(regDet_grid, \"regDet\")\n",
        "\n",
        "# calcolo metriche\n",
        "# lista adatta al ParameterGrid\n",
        "regDet_params_best = {k: [v] if not isinstance(v, list) else v for k, v in regDet_params_best.items()}\n",
        "regDet_perf = custom_kf_cv(X=X_DS_, y=y_DS_,\n",
        "                                    m=DecisionTreeRegressor(random_state=1),\n",
        "                                    m_name=\"Decision Tree\",\n",
        "                                    param_grid=ParameterGrid(regDet_params_best),\n",
        "                                    k=5,\n",
        "                                    scaler=None)\n",
        "\n",
        "# >>>\n",
        "print(f\"{len(regDet_perf)} model performance table available.\")\n",
        "regDet_perf[0]"
      ]
    },
    {
      "cell_type": "markdown",
      "metadata": {},
      "source": [
        "### Regressore SVM\n",
        "\n",
        "Un regressore con vettori di supporto sfrutta i vettori di supporto per costruire un modello di regressione che bilancia la minimizzazione dell'errore di previsione e la penalizzazione per le violazioni della soglia di errore impostata. Il kernel trick è utilizzato per trattare relazioni non lineari nei dati. Gli iperparametri in questione sono:\n",
        "- `kernel` è la funzione kernel che calcola indirettamente il prodotto scalare (in uno spazio dimensionale maggiore) tra due vettori. \n",
        "- `C` controlla il trade-off tra la complessità del modello e la penalizzazione per gli errori di previsione. Se lo aumentiamo, il modello tenderà a seguire più da vicino i dati di addestramento, ma potrebbe essere più sensibile al rumore. Riducendo C, il modello sarà più robusto contro il rumore, ma potrebbe non adattarsi bene.\n",
        "- `epsilon` è la soglia di tolleranza degli errori.\n",
        "- `gamma` è indica quanto lontano si estende l'influenza di un singolo esempio di addestramento."
      ]
    },
    {
      "cell_type": "code",
      "execution_count": 20,
      "metadata": {},
      "outputs": [
        {
          "data": {
            "text/html": [
              "<style>#sk-container-id-3 {color: black;}#sk-container-id-3 pre{padding: 0;}#sk-container-id-3 div.sk-toggleable {background-color: white;}#sk-container-id-3 label.sk-toggleable__label {cursor: pointer;display: block;width: 100%;margin-bottom: 0;padding: 0.3em;box-sizing: border-box;text-align: center;}#sk-container-id-3 label.sk-toggleable__label-arrow:before {content: \"▸\";float: left;margin-right: 0.25em;color: #696969;}#sk-container-id-3 label.sk-toggleable__label-arrow:hover:before {color: black;}#sk-container-id-3 div.sk-estimator:hover label.sk-toggleable__label-arrow:before {color: black;}#sk-container-id-3 div.sk-toggleable__content {max-height: 0;max-width: 0;overflow: hidden;text-align: left;background-color: #f0f8ff;}#sk-container-id-3 div.sk-toggleable__content pre {margin: 0.2em;color: black;border-radius: 0.25em;background-color: #f0f8ff;}#sk-container-id-3 input.sk-toggleable__control:checked~div.sk-toggleable__content {max-height: 200px;max-width: 100%;overflow: auto;}#sk-container-id-3 input.sk-toggleable__control:checked~label.sk-toggleable__label-arrow:before {content: \"▾\";}#sk-container-id-3 div.sk-estimator input.sk-toggleable__control:checked~label.sk-toggleable__label {background-color: #d4ebff;}#sk-container-id-3 div.sk-label input.sk-toggleable__control:checked~label.sk-toggleable__label {background-color: #d4ebff;}#sk-container-id-3 input.sk-hidden--visually {border: 0;clip: rect(1px 1px 1px 1px);clip: rect(1px, 1px, 1px, 1px);height: 1px;margin: -1px;overflow: hidden;padding: 0;position: absolute;width: 1px;}#sk-container-id-3 div.sk-estimator {font-family: monospace;background-color: #f0f8ff;border: 1px dotted black;border-radius: 0.25em;box-sizing: border-box;margin-bottom: 0.5em;}#sk-container-id-3 div.sk-estimator:hover {background-color: #d4ebff;}#sk-container-id-3 div.sk-parallel-item::after {content: \"\";width: 100%;border-bottom: 1px solid gray;flex-grow: 1;}#sk-container-id-3 div.sk-label:hover label.sk-toggleable__label {background-color: #d4ebff;}#sk-container-id-3 div.sk-serial::before {content: \"\";position: absolute;border-left: 1px solid gray;box-sizing: border-box;top: 0;bottom: 0;left: 50%;z-index: 0;}#sk-container-id-3 div.sk-serial {display: flex;flex-direction: column;align-items: center;background-color: white;padding-right: 0.2em;padding-left: 0.2em;position: relative;}#sk-container-id-3 div.sk-item {position: relative;z-index: 1;}#sk-container-id-3 div.sk-parallel {display: flex;align-items: stretch;justify-content: center;background-color: white;position: relative;}#sk-container-id-3 div.sk-item::before, #sk-container-id-3 div.sk-parallel-item::before {content: \"\";position: absolute;border-left: 1px solid gray;box-sizing: border-box;top: 0;bottom: 0;left: 50%;z-index: -1;}#sk-container-id-3 div.sk-parallel-item {display: flex;flex-direction: column;z-index: 1;position: relative;background-color: white;}#sk-container-id-3 div.sk-parallel-item:first-child::after {align-self: flex-end;width: 50%;}#sk-container-id-3 div.sk-parallel-item:last-child::after {align-self: flex-start;width: 50%;}#sk-container-id-3 div.sk-parallel-item:only-child::after {width: 0;}#sk-container-id-3 div.sk-dashed-wrapped {border: 1px dashed gray;margin: 0 0.4em 0.5em 0.4em;box-sizing: border-box;padding-bottom: 0.4em;background-color: white;}#sk-container-id-3 div.sk-label label {font-family: monospace;font-weight: bold;display: inline-block;line-height: 1.2em;}#sk-container-id-3 div.sk-label-container {text-align: center;}#sk-container-id-3 div.sk-container {/* jupyter's `normalize.less` sets `[hidden] { display: none; }` but bootstrap.min.css set `[hidden] { display: none !important; }` so we also need the `!important` here to be able to override the default hidden behavior on the sphinx rendered scikit-learn.org. See: https://github.com/scikit-learn/scikit-learn/issues/21755 */display: inline-block !important;position: relative;}#sk-container-id-3 div.sk-text-repr-fallback {display: none;}</style><div id=\"sk-container-id-3\" class=\"sk-top-container\"><div class=\"sk-text-repr-fallback\"><pre>GridSearchCV(cv=5, estimator=SVR(),\n",
              "             param_grid={&#x27;C&#x27;: [1, 6, 10, 15, 35, 100],\n",
              "                         &#x27;epsilon&#x27;: [0.1, 0.2, 0.3, 0.5, 1, 2],\n",
              "                         &#x27;gamma&#x27;: [&#x27;scale&#x27;, &#x27;auto&#x27;, 0.01, 0.1, 1],\n",
              "                         &#x27;kernel&#x27;: [&#x27;rbf&#x27;, &#x27;sigmoid&#x27;]},\n",
              "             refit=False, scoring=&#x27;neg_mean_absolute_error&#x27;)</pre><b>In a Jupyter environment, please rerun this cell to show the HTML representation or trust the notebook. <br />On GitHub, the HTML representation is unable to render, please try loading this page with nbviewer.org.</b></div><div class=\"sk-container\" hidden><div class=\"sk-item sk-dashed-wrapped\"><div class=\"sk-label-container\"><div class=\"sk-label sk-toggleable\"><input class=\"sk-toggleable__control sk-hidden--visually\" id=\"sk-estimator-id-7\" type=\"checkbox\" ><label for=\"sk-estimator-id-7\" class=\"sk-toggleable__label sk-toggleable__label-arrow\">GridSearchCV</label><div class=\"sk-toggleable__content\"><pre>GridSearchCV(cv=5, estimator=SVR(),\n",
              "             param_grid={&#x27;C&#x27;: [1, 6, 10, 15, 35, 100],\n",
              "                         &#x27;epsilon&#x27;: [0.1, 0.2, 0.3, 0.5, 1, 2],\n",
              "                         &#x27;gamma&#x27;: [&#x27;scale&#x27;, &#x27;auto&#x27;, 0.01, 0.1, 1],\n",
              "                         &#x27;kernel&#x27;: [&#x27;rbf&#x27;, &#x27;sigmoid&#x27;]},\n",
              "             refit=False, scoring=&#x27;neg_mean_absolute_error&#x27;)</pre></div></div></div><div class=\"sk-parallel\"><div class=\"sk-parallel-item\"><div class=\"sk-item\"><div class=\"sk-label-container\"><div class=\"sk-label sk-toggleable\"><input class=\"sk-toggleable__control sk-hidden--visually\" id=\"sk-estimator-id-8\" type=\"checkbox\" ><label for=\"sk-estimator-id-8\" class=\"sk-toggleable__label sk-toggleable__label-arrow\">estimator: SVR</label><div class=\"sk-toggleable__content\"><pre>SVR()</pre></div></div></div><div class=\"sk-serial\"><div class=\"sk-item\"><div class=\"sk-estimator sk-toggleable\"><input class=\"sk-toggleable__control sk-hidden--visually\" id=\"sk-estimator-id-9\" type=\"checkbox\" ><label for=\"sk-estimator-id-9\" class=\"sk-toggleable__label sk-toggleable__label-arrow\">SVR</label><div class=\"sk-toggleable__content\"><pre>SVR()</pre></div></div></div></div></div></div></div></div></div></div>"
            ],
            "text/plain": [
              "GridSearchCV(cv=5, estimator=SVR(),\n",
              "             param_grid={'C': [1, 6, 10, 15, 35, 100],\n",
              "                         'epsilon': [0.1, 0.2, 0.3, 0.5, 1, 2],\n",
              "                         'gamma': ['scale', 'auto', 0.01, 0.1, 1],\n",
              "                         'kernel': ['rbf', 'sigmoid']},\n",
              "             refit=False, scoring='neg_mean_absolute_error')"
            ]
          },
          "execution_count": 20,
          "metadata": {},
          "output_type": "execute_result"
        },
        {
          "name": "stdout",
          "output_type": "stream",
          "text": [
            "1 model performance table available.\n"
          ]
        },
        {
          "data": {
            "text/html": [
              "<div>\n",
              "<style scoped>\n",
              "    .dataframe tbody tr th:only-of-type {\n",
              "        vertical-align: middle;\n",
              "    }\n",
              "\n",
              "    .dataframe tbody tr th {\n",
              "        vertical-align: top;\n",
              "    }\n",
              "\n",
              "    .dataframe thead th {\n",
              "        text-align: right;\n",
              "    }\n",
              "</style>\n",
              "<table border=\"1\" class=\"dataframe\">\n",
              "  <thead>\n",
              "    <tr style=\"text-align: right;\">\n",
              "      <th></th>\n",
              "      <th>MAE (TS)</th>\n",
              "      <th>MSE (TS)</th>\n",
              "      <th>RMSE (TS)</th>\n",
              "      <th>R^2 (TS)</th>\n",
              "      <th>MAE (TE)</th>\n",
              "      <th>MSE (TE)</th>\n",
              "      <th>RMSE (TE)</th>\n",
              "      <th>R^2 (TE)</th>\n",
              "    </tr>\n",
              "  </thead>\n",
              "  <tbody>\n",
              "    <tr>\n",
              "      <th>SVR (Split 1)</th>\n",
              "      <td>0.281404</td>\n",
              "      <td>0.140828</td>\n",
              "      <td>0.375270</td>\n",
              "      <td>0.459321</td>\n",
              "      <td>0.293449</td>\n",
              "      <td>0.156527</td>\n",
              "      <td>0.395635</td>\n",
              "      <td>0.376187</td>\n",
              "    </tr>\n",
              "    <tr>\n",
              "      <th>SVR (Split 2)</th>\n",
              "      <td>0.276529</td>\n",
              "      <td>0.137079</td>\n",
              "      <td>0.370241</td>\n",
              "      <td>0.464756</td>\n",
              "      <td>0.315304</td>\n",
              "      <td>0.210148</td>\n",
              "      <td>0.458419</td>\n",
              "      <td>0.218863</td>\n",
              "    </tr>\n",
              "    <tr>\n",
              "      <th>SVR (Split 3)</th>\n",
              "      <td>0.273238</td>\n",
              "      <td>0.130238</td>\n",
              "      <td>0.360886</td>\n",
              "      <td>0.507300</td>\n",
              "      <td>0.319492</td>\n",
              "      <td>0.201790</td>\n",
              "      <td>0.449210</td>\n",
              "      <td>0.144721</td>\n",
              "    </tr>\n",
              "    <tr>\n",
              "      <th>SVR (Split 4)</th>\n",
              "      <td>0.279743</td>\n",
              "      <td>0.138071</td>\n",
              "      <td>0.371580</td>\n",
              "      <td>0.469613</td>\n",
              "      <td>0.290717</td>\n",
              "      <td>0.160310</td>\n",
              "      <td>0.400387</td>\n",
              "      <td>0.361990</td>\n",
              "    </tr>\n",
              "    <tr>\n",
              "      <th>SVR (Split 5)</th>\n",
              "      <td>0.273162</td>\n",
              "      <td>0.132433</td>\n",
              "      <td>0.363914</td>\n",
              "      <td>0.475423</td>\n",
              "      <td>0.310116</td>\n",
              "      <td>0.166100</td>\n",
              "      <td>0.407554</td>\n",
              "      <td>0.415258</td>\n",
              "    </tr>\n",
              "    <tr>\n",
              "      <th>Average ({'C': 100, 'epsilon': 0.2, 'gamma': 'scale', 'kernel': 'rbf'})</th>\n",
              "      <td>0.276815</td>\n",
              "      <td>0.135730</td>\n",
              "      <td>0.368378</td>\n",
              "      <td>0.475282</td>\n",
              "      <td>0.305816</td>\n",
              "      <td>0.178975</td>\n",
              "      <td>0.422241</td>\n",
              "      <td>0.303404</td>\n",
              "    </tr>\n",
              "  </tbody>\n",
              "</table>\n",
              "</div>"
            ],
            "text/plain": [
              "                                                    MAE (TS)  MSE (TS)  \\\n",
              "SVR (Split 1)                                       0.281404  0.140828   \n",
              "SVR (Split 2)                                       0.276529  0.137079   \n",
              "SVR (Split 3)                                       0.273238  0.130238   \n",
              "SVR (Split 4)                                       0.279743  0.138071   \n",
              "SVR (Split 5)                                       0.273162  0.132433   \n",
              "Average ({'C': 100, 'epsilon': 0.2, 'gamma': 's...  0.276815  0.135730   \n",
              "\n",
              "                                                    RMSE (TS)  R^2 (TS)  \\\n",
              "SVR (Split 1)                                        0.375270  0.459321   \n",
              "SVR (Split 2)                                        0.370241  0.464756   \n",
              "SVR (Split 3)                                        0.360886  0.507300   \n",
              "SVR (Split 4)                                        0.371580  0.469613   \n",
              "SVR (Split 5)                                        0.363914  0.475423   \n",
              "Average ({'C': 100, 'epsilon': 0.2, 'gamma': 's...   0.368378  0.475282   \n",
              "\n",
              "                                                    MAE (TE)  MSE (TE)  \\\n",
              "SVR (Split 1)                                       0.293449  0.156527   \n",
              "SVR (Split 2)                                       0.315304  0.210148   \n",
              "SVR (Split 3)                                       0.319492  0.201790   \n",
              "SVR (Split 4)                                       0.290717  0.160310   \n",
              "SVR (Split 5)                                       0.310116  0.166100   \n",
              "Average ({'C': 100, 'epsilon': 0.2, 'gamma': 's...  0.305816  0.178975   \n",
              "\n",
              "                                                    RMSE (TE)  R^2 (TE)  \n",
              "SVR (Split 1)                                        0.395635  0.376187  \n",
              "SVR (Split 2)                                        0.458419  0.218863  \n",
              "SVR (Split 3)                                        0.449210  0.144721  \n",
              "SVR (Split 4)                                        0.400387  0.361990  \n",
              "SVR (Split 5)                                        0.407554  0.415258  \n",
              "Average ({'C': 100, 'epsilon': 0.2, 'gamma': 's...   0.422241  0.303404  "
            ]
          },
          "execution_count": 20,
          "metadata": {},
          "output_type": "execute_result"
        }
      ],
      "source": [
        "from sklearn.svm import SVR\n",
        "\n",
        "# iperparametri\n",
        "regSVR_params = {\n",
        "    'kernel': ['rbf', 'sigmoid'],\n",
        "    'C': [1, 6, 10, 15, 35, 100],\n",
        "    'epsilon': [0.1, 0.2, 0.3, 0.5, 1, 2],\n",
        "    'gamma': ['scale', 'auto', 0.01, 0.1, 1],\n",
        "}\n",
        "\n",
        "# ricerca migliore configurazione di iperparametri\n",
        "regSVR_grid = GridSearchCV(\n",
        "    estimator=SVR(),\n",
        "    param_grid=regSVR_params,\n",
        "    cv=5,\n",
        "    scoring='neg_mean_absolute_error',\n",
        "    refit=False,\n",
        ")\n",
        "regSVR_grid.fit(X=X_TS, y=gt_y_TS)\n",
        "regSVR_params_best = regSVR_grid.best_params_\n",
        "save_cv_results(regSVR_grid, \"regSVR\")\n",
        "\n",
        "# calcolo metriche\n",
        "# lista adatta al ParameterGrid\n",
        "regSVR_params_best = {k: [v] if not isinstance(v, list) else v for k, v in regSVR_params_best.items()}\n",
        "regSVR_perf = custom_kf_cv(X=X_DS_, y=y_DS_,\n",
        "                                    m=SVR(),\n",
        "                                    m_name=\"SVR\",\n",
        "                                    param_grid=ParameterGrid(regSVR_params_best),\n",
        "                                    k=5,\n",
        "                                    scaler=MinMaxScaler())\n",
        "\n",
        "# >>>\n",
        "print(f\"{len(regSVR_perf)} model performance table available.\")\n",
        "regSVR_perf[0]"
      ]
    },
    {
      "cell_type": "markdown",
      "metadata": {},
      "source": [
        "### Regressore Random Forest\n",
        "\n",
        "Il regressore Random Forest rientra tra le tecniche Ensemble di SL. A partire da un TS, addestra più alberi di regressione, tenendo conto che ciascun albero può basarsi su una partizione del TS originale diversa da quella di un altro albero. Una volta che tutti gli alberi hanno predetto un valore, la tecnica Random Forest restituisce un valore ottenuto dalla combinazione dei precedenti."
      ]
    },
    {
      "cell_type": "code",
      "execution_count": 22,
      "metadata": {},
      "outputs": [
        {
          "data": {
            "text/html": [
              "<style>#sk-container-id-6 {color: black;}#sk-container-id-6 pre{padding: 0;}#sk-container-id-6 div.sk-toggleable {background-color: white;}#sk-container-id-6 label.sk-toggleable__label {cursor: pointer;display: block;width: 100%;margin-bottom: 0;padding: 0.3em;box-sizing: border-box;text-align: center;}#sk-container-id-6 label.sk-toggleable__label-arrow:before {content: \"▸\";float: left;margin-right: 0.25em;color: #696969;}#sk-container-id-6 label.sk-toggleable__label-arrow:hover:before {color: black;}#sk-container-id-6 div.sk-estimator:hover label.sk-toggleable__label-arrow:before {color: black;}#sk-container-id-6 div.sk-toggleable__content {max-height: 0;max-width: 0;overflow: hidden;text-align: left;background-color: #f0f8ff;}#sk-container-id-6 div.sk-toggleable__content pre {margin: 0.2em;color: black;border-radius: 0.25em;background-color: #f0f8ff;}#sk-container-id-6 input.sk-toggleable__control:checked~div.sk-toggleable__content {max-height: 200px;max-width: 100%;overflow: auto;}#sk-container-id-6 input.sk-toggleable__control:checked~label.sk-toggleable__label-arrow:before {content: \"▾\";}#sk-container-id-6 div.sk-estimator input.sk-toggleable__control:checked~label.sk-toggleable__label {background-color: #d4ebff;}#sk-container-id-6 div.sk-label input.sk-toggleable__control:checked~label.sk-toggleable__label {background-color: #d4ebff;}#sk-container-id-6 input.sk-hidden--visually {border: 0;clip: rect(1px 1px 1px 1px);clip: rect(1px, 1px, 1px, 1px);height: 1px;margin: -1px;overflow: hidden;padding: 0;position: absolute;width: 1px;}#sk-container-id-6 div.sk-estimator {font-family: monospace;background-color: #f0f8ff;border: 1px dotted black;border-radius: 0.25em;box-sizing: border-box;margin-bottom: 0.5em;}#sk-container-id-6 div.sk-estimator:hover {background-color: #d4ebff;}#sk-container-id-6 div.sk-parallel-item::after {content: \"\";width: 100%;border-bottom: 1px solid gray;flex-grow: 1;}#sk-container-id-6 div.sk-label:hover label.sk-toggleable__label {background-color: #d4ebff;}#sk-container-id-6 div.sk-serial::before {content: \"\";position: absolute;border-left: 1px solid gray;box-sizing: border-box;top: 0;bottom: 0;left: 50%;z-index: 0;}#sk-container-id-6 div.sk-serial {display: flex;flex-direction: column;align-items: center;background-color: white;padding-right: 0.2em;padding-left: 0.2em;position: relative;}#sk-container-id-6 div.sk-item {position: relative;z-index: 1;}#sk-container-id-6 div.sk-parallel {display: flex;align-items: stretch;justify-content: center;background-color: white;position: relative;}#sk-container-id-6 div.sk-item::before, #sk-container-id-6 div.sk-parallel-item::before {content: \"\";position: absolute;border-left: 1px solid gray;box-sizing: border-box;top: 0;bottom: 0;left: 50%;z-index: -1;}#sk-container-id-6 div.sk-parallel-item {display: flex;flex-direction: column;z-index: 1;position: relative;background-color: white;}#sk-container-id-6 div.sk-parallel-item:first-child::after {align-self: flex-end;width: 50%;}#sk-container-id-6 div.sk-parallel-item:last-child::after {align-self: flex-start;width: 50%;}#sk-container-id-6 div.sk-parallel-item:only-child::after {width: 0;}#sk-container-id-6 div.sk-dashed-wrapped {border: 1px dashed gray;margin: 0 0.4em 0.5em 0.4em;box-sizing: border-box;padding-bottom: 0.4em;background-color: white;}#sk-container-id-6 div.sk-label label {font-family: monospace;font-weight: bold;display: inline-block;line-height: 1.2em;}#sk-container-id-6 div.sk-label-container {text-align: center;}#sk-container-id-6 div.sk-container {/* jupyter's `normalize.less` sets `[hidden] { display: none; }` but bootstrap.min.css set `[hidden] { display: none !important; }` so we also need the `!important` here to be able to override the default hidden behavior on the sphinx rendered scikit-learn.org. See: https://github.com/scikit-learn/scikit-learn/issues/21755 */display: inline-block !important;position: relative;}#sk-container-id-6 div.sk-text-repr-fallback {display: none;}</style><div id=\"sk-container-id-6\" class=\"sk-top-container\"><div class=\"sk-text-repr-fallback\"><pre>GridSearchCV(cv=5, estimator=RandomForestRegressor(),\n",
              "             param_grid={&#x27;bootstrap&#x27;: [True],\n",
              "                         &#x27;criterion&#x27;: [&#x27;friedman_mse&#x27;, &#x27;squared_error&#x27;],\n",
              "                         &#x27;max_depth&#x27;: [10, 15, 22],\n",
              "                         &#x27;min_samples_leaf&#x27;: [1, 5, 20],\n",
              "                         &#x27;min_samples_split&#x27;: [2, 50, 120],\n",
              "                         &#x27;n_estimators&#x27;: [50, 100], &#x27;random_state&#x27;: [66]},\n",
              "             refit=False, scoring=&#x27;neg_mean_absolute_error&#x27;)</pre><b>In a Jupyter environment, please rerun this cell to show the HTML representation or trust the notebook. <br />On GitHub, the HTML representation is unable to render, please try loading this page with nbviewer.org.</b></div><div class=\"sk-container\" hidden><div class=\"sk-item sk-dashed-wrapped\"><div class=\"sk-label-container\"><div class=\"sk-label sk-toggleable\"><input class=\"sk-toggleable__control sk-hidden--visually\" id=\"sk-estimator-id-14\" type=\"checkbox\" ><label for=\"sk-estimator-id-14\" class=\"sk-toggleable__label sk-toggleable__label-arrow\">GridSearchCV</label><div class=\"sk-toggleable__content\"><pre>GridSearchCV(cv=5, estimator=RandomForestRegressor(),\n",
              "             param_grid={&#x27;bootstrap&#x27;: [True],\n",
              "                         &#x27;criterion&#x27;: [&#x27;friedman_mse&#x27;, &#x27;squared_error&#x27;],\n",
              "                         &#x27;max_depth&#x27;: [10, 15, 22],\n",
              "                         &#x27;min_samples_leaf&#x27;: [1, 5, 20],\n",
              "                         &#x27;min_samples_split&#x27;: [2, 50, 120],\n",
              "                         &#x27;n_estimators&#x27;: [50, 100], &#x27;random_state&#x27;: [66]},\n",
              "             refit=False, scoring=&#x27;neg_mean_absolute_error&#x27;)</pre></div></div></div><div class=\"sk-parallel\"><div class=\"sk-parallel-item\"><div class=\"sk-item\"><div class=\"sk-label-container\"><div class=\"sk-label sk-toggleable\"><input class=\"sk-toggleable__control sk-hidden--visually\" id=\"sk-estimator-id-15\" type=\"checkbox\" ><label for=\"sk-estimator-id-15\" class=\"sk-toggleable__label sk-toggleable__label-arrow\">estimator: RandomForestRegressor</label><div class=\"sk-toggleable__content\"><pre>RandomForestRegressor()</pre></div></div></div><div class=\"sk-serial\"><div class=\"sk-item\"><div class=\"sk-estimator sk-toggleable\"><input class=\"sk-toggleable__control sk-hidden--visually\" id=\"sk-estimator-id-16\" type=\"checkbox\" ><label for=\"sk-estimator-id-16\" class=\"sk-toggleable__label sk-toggleable__label-arrow\">RandomForestRegressor</label><div class=\"sk-toggleable__content\"><pre>RandomForestRegressor()</pre></div></div></div></div></div></div></div></div></div></div>"
            ],
            "text/plain": [
              "GridSearchCV(cv=5, estimator=RandomForestRegressor(),\n",
              "             param_grid={'bootstrap': [True],\n",
              "                         'criterion': ['friedman_mse', 'squared_error'],\n",
              "                         'max_depth': [10, 15, 22],\n",
              "                         'min_samples_leaf': [1, 5, 20],\n",
              "                         'min_samples_split': [2, 50, 120],\n",
              "                         'n_estimators': [50, 100], 'random_state': [66]},\n",
              "             refit=False, scoring='neg_mean_absolute_error')"
            ]
          },
          "execution_count": 22,
          "metadata": {},
          "output_type": "execute_result"
        },
        {
          "data": {
            "text/html": [
              "<style>#sk-container-id-7 {color: black;}#sk-container-id-7 pre{padding: 0;}#sk-container-id-7 div.sk-toggleable {background-color: white;}#sk-container-id-7 label.sk-toggleable__label {cursor: pointer;display: block;width: 100%;margin-bottom: 0;padding: 0.3em;box-sizing: border-box;text-align: center;}#sk-container-id-7 label.sk-toggleable__label-arrow:before {content: \"▸\";float: left;margin-right: 0.25em;color: #696969;}#sk-container-id-7 label.sk-toggleable__label-arrow:hover:before {color: black;}#sk-container-id-7 div.sk-estimator:hover label.sk-toggleable__label-arrow:before {color: black;}#sk-container-id-7 div.sk-toggleable__content {max-height: 0;max-width: 0;overflow: hidden;text-align: left;background-color: #f0f8ff;}#sk-container-id-7 div.sk-toggleable__content pre {margin: 0.2em;color: black;border-radius: 0.25em;background-color: #f0f8ff;}#sk-container-id-7 input.sk-toggleable__control:checked~div.sk-toggleable__content {max-height: 200px;max-width: 100%;overflow: auto;}#sk-container-id-7 input.sk-toggleable__control:checked~label.sk-toggleable__label-arrow:before {content: \"▾\";}#sk-container-id-7 div.sk-estimator input.sk-toggleable__control:checked~label.sk-toggleable__label {background-color: #d4ebff;}#sk-container-id-7 div.sk-label input.sk-toggleable__control:checked~label.sk-toggleable__label {background-color: #d4ebff;}#sk-container-id-7 input.sk-hidden--visually {border: 0;clip: rect(1px 1px 1px 1px);clip: rect(1px, 1px, 1px, 1px);height: 1px;margin: -1px;overflow: hidden;padding: 0;position: absolute;width: 1px;}#sk-container-id-7 div.sk-estimator {font-family: monospace;background-color: #f0f8ff;border: 1px dotted black;border-radius: 0.25em;box-sizing: border-box;margin-bottom: 0.5em;}#sk-container-id-7 div.sk-estimator:hover {background-color: #d4ebff;}#sk-container-id-7 div.sk-parallel-item::after {content: \"\";width: 100%;border-bottom: 1px solid gray;flex-grow: 1;}#sk-container-id-7 div.sk-label:hover label.sk-toggleable__label {background-color: #d4ebff;}#sk-container-id-7 div.sk-serial::before {content: \"\";position: absolute;border-left: 1px solid gray;box-sizing: border-box;top: 0;bottom: 0;left: 50%;z-index: 0;}#sk-container-id-7 div.sk-serial {display: flex;flex-direction: column;align-items: center;background-color: white;padding-right: 0.2em;padding-left: 0.2em;position: relative;}#sk-container-id-7 div.sk-item {position: relative;z-index: 1;}#sk-container-id-7 div.sk-parallel {display: flex;align-items: stretch;justify-content: center;background-color: white;position: relative;}#sk-container-id-7 div.sk-item::before, #sk-container-id-7 div.sk-parallel-item::before {content: \"\";position: absolute;border-left: 1px solid gray;box-sizing: border-box;top: 0;bottom: 0;left: 50%;z-index: -1;}#sk-container-id-7 div.sk-parallel-item {display: flex;flex-direction: column;z-index: 1;position: relative;background-color: white;}#sk-container-id-7 div.sk-parallel-item:first-child::after {align-self: flex-end;width: 50%;}#sk-container-id-7 div.sk-parallel-item:last-child::after {align-self: flex-start;width: 50%;}#sk-container-id-7 div.sk-parallel-item:only-child::after {width: 0;}#sk-container-id-7 div.sk-dashed-wrapped {border: 1px dashed gray;margin: 0 0.4em 0.5em 0.4em;box-sizing: border-box;padding-bottom: 0.4em;background-color: white;}#sk-container-id-7 div.sk-label label {font-family: monospace;font-weight: bold;display: inline-block;line-height: 1.2em;}#sk-container-id-7 div.sk-label-container {text-align: center;}#sk-container-id-7 div.sk-container {/* jupyter's `normalize.less` sets `[hidden] { display: none; }` but bootstrap.min.css set `[hidden] { display: none !important; }` so we also need the `!important` here to be able to override the default hidden behavior on the sphinx rendered scikit-learn.org. See: https://github.com/scikit-learn/scikit-learn/issues/21755 */display: inline-block !important;position: relative;}#sk-container-id-7 div.sk-text-repr-fallback {display: none;}</style><div id=\"sk-container-id-7\" class=\"sk-top-container\"><div class=\"sk-text-repr-fallback\"><pre>RandomForestRegressor(max_depth=22, min_samples_split=50, random_state=66)</pre><b>In a Jupyter environment, please rerun this cell to show the HTML representation or trust the notebook. <br />On GitHub, the HTML representation is unable to render, please try loading this page with nbviewer.org.</b></div><div class=\"sk-container\" hidden><div class=\"sk-item\"><div class=\"sk-estimator sk-toggleable\"><input class=\"sk-toggleable__control sk-hidden--visually\" id=\"sk-estimator-id-17\" type=\"checkbox\" checked><label for=\"sk-estimator-id-17\" class=\"sk-toggleable__label sk-toggleable__label-arrow\">RandomForestRegressor</label><div class=\"sk-toggleable__content\"><pre>RandomForestRegressor(max_depth=22, min_samples_split=50, random_state=66)</pre></div></div></div></div></div>"
            ],
            "text/plain": [
              "RandomForestRegressor(max_depth=22, min_samples_split=50, random_state=66)"
            ]
          },
          "execution_count": 22,
          "metadata": {},
          "output_type": "execute_result"
        },
        {
          "name": "stdout",
          "output_type": "stream",
          "text": [
            "1 model performance table available.\n"
          ]
        },
        {
          "data": {
            "text/html": [
              "<div>\n",
              "<style scoped>\n",
              "    .dataframe tbody tr th:only-of-type {\n",
              "        vertical-align: middle;\n",
              "    }\n",
              "\n",
              "    .dataframe tbody tr th {\n",
              "        vertical-align: top;\n",
              "    }\n",
              "\n",
              "    .dataframe thead th {\n",
              "        text-align: right;\n",
              "    }\n",
              "</style>\n",
              "<table border=\"1\" class=\"dataframe\">\n",
              "  <thead>\n",
              "    <tr style=\"text-align: right;\">\n",
              "      <th></th>\n",
              "      <th>MAE (TS)</th>\n",
              "      <th>MSE (TS)</th>\n",
              "      <th>RMSE (TS)</th>\n",
              "      <th>R^2 (TS)</th>\n",
              "      <th>MAE (TE)</th>\n",
              "      <th>MSE (TE)</th>\n",
              "      <th>RMSE (TE)</th>\n",
              "      <th>R^2 (TE)</th>\n",
              "    </tr>\n",
              "  </thead>\n",
              "  <tbody>\n",
              "    <tr>\n",
              "      <th>Random Forest (Split 1)</th>\n",
              "      <td>0.234235</td>\n",
              "      <td>0.097016</td>\n",
              "      <td>0.311474</td>\n",
              "      <td>0.627527</td>\n",
              "      <td>0.262960</td>\n",
              "      <td>0.124939</td>\n",
              "      <td>0.353468</td>\n",
              "      <td>0.502074</td>\n",
              "    </tr>\n",
              "    <tr>\n",
              "      <th>Random Forest (Split 2)</th>\n",
              "      <td>0.236332</td>\n",
              "      <td>0.099538</td>\n",
              "      <td>0.315496</td>\n",
              "      <td>0.611340</td>\n",
              "      <td>0.279671</td>\n",
              "      <td>0.141141</td>\n",
              "      <td>0.375688</td>\n",
              "      <td>0.475366</td>\n",
              "    </tr>\n",
              "    <tr>\n",
              "      <th>Random Forest (Split 3)</th>\n",
              "      <td>0.235011</td>\n",
              "      <td>0.099075</td>\n",
              "      <td>0.314762</td>\n",
              "      <td>0.625192</td>\n",
              "      <td>0.286343</td>\n",
              "      <td>0.152204</td>\n",
              "      <td>0.390133</td>\n",
              "      <td>0.354891</td>\n",
              "    </tr>\n",
              "    <tr>\n",
              "      <th>Random Forest (Split 4)</th>\n",
              "      <td>0.236864</td>\n",
              "      <td>0.098795</td>\n",
              "      <td>0.314317</td>\n",
              "      <td>0.620489</td>\n",
              "      <td>0.267276</td>\n",
              "      <td>0.131459</td>\n",
              "      <td>0.362573</td>\n",
              "      <td>0.476810</td>\n",
              "    </tr>\n",
              "    <tr>\n",
              "      <th>Random Forest (Split 5)</th>\n",
              "      <td>0.229256</td>\n",
              "      <td>0.092559</td>\n",
              "      <td>0.304236</td>\n",
              "      <td>0.633366</td>\n",
              "      <td>0.283720</td>\n",
              "      <td>0.148509</td>\n",
              "      <td>0.385368</td>\n",
              "      <td>0.477187</td>\n",
              "    </tr>\n",
              "    <tr>\n",
              "      <th>Average ({'bootstrap': True, 'criterion': 'squared_error', 'max_depth': 22, 'min_samples_leaf': 1, 'min_samples_split': 50, 'n_estimators': 100, 'random_state': 66})</th>\n",
              "      <td>0.234340</td>\n",
              "      <td>0.097397</td>\n",
              "      <td>0.312057</td>\n",
              "      <td>0.623583</td>\n",
              "      <td>0.275994</td>\n",
              "      <td>0.139650</td>\n",
              "      <td>0.373446</td>\n",
              "      <td>0.457266</td>\n",
              "    </tr>\n",
              "  </tbody>\n",
              "</table>\n",
              "</div>"
            ],
            "text/plain": [
              "                                                    MAE (TS)  MSE (TS)  \\\n",
              "Random Forest (Split 1)                             0.234235  0.097016   \n",
              "Random Forest (Split 2)                             0.236332  0.099538   \n",
              "Random Forest (Split 3)                             0.235011  0.099075   \n",
              "Random Forest (Split 4)                             0.236864  0.098795   \n",
              "Random Forest (Split 5)                             0.229256  0.092559   \n",
              "Average ({'bootstrap': True, 'criterion': 'squa...  0.234340  0.097397   \n",
              "\n",
              "                                                    RMSE (TS)  R^2 (TS)  \\\n",
              "Random Forest (Split 1)                              0.311474  0.627527   \n",
              "Random Forest (Split 2)                              0.315496  0.611340   \n",
              "Random Forest (Split 3)                              0.314762  0.625192   \n",
              "Random Forest (Split 4)                              0.314317  0.620489   \n",
              "Random Forest (Split 5)                              0.304236  0.633366   \n",
              "Average ({'bootstrap': True, 'criterion': 'squa...   0.312057  0.623583   \n",
              "\n",
              "                                                    MAE (TE)  MSE (TE)  \\\n",
              "Random Forest (Split 1)                             0.262960  0.124939   \n",
              "Random Forest (Split 2)                             0.279671  0.141141   \n",
              "Random Forest (Split 3)                             0.286343  0.152204   \n",
              "Random Forest (Split 4)                             0.267276  0.131459   \n",
              "Random Forest (Split 5)                             0.283720  0.148509   \n",
              "Average ({'bootstrap': True, 'criterion': 'squa...  0.275994  0.139650   \n",
              "\n",
              "                                                    RMSE (TE)  R^2 (TE)  \n",
              "Random Forest (Split 1)                              0.353468  0.502074  \n",
              "Random Forest (Split 2)                              0.375688  0.475366  \n",
              "Random Forest (Split 3)                              0.390133  0.354891  \n",
              "Random Forest (Split 4)                              0.362573  0.476810  \n",
              "Random Forest (Split 5)                              0.385368  0.477187  \n",
              "Average ({'bootstrap': True, 'criterion': 'squa...   0.373446  0.457266  "
            ]
          },
          "execution_count": 22,
          "metadata": {},
          "output_type": "execute_result"
        },
        {
          "data": {
            "text/plain": [
              "<Axes: >"
            ]
          },
          "execution_count": 22,
          "metadata": {},
          "output_type": "execute_result"
        },
        {
          "data": {
            "text/plain": [
              "Text(0.5, 1.0, 'Random Forest Feature Importance')"
            ]
          },
          "execution_count": 22,
          "metadata": {},
          "output_type": "execute_result"
        },
        {
          "data": {
            "text/plain": [
              "Text(0, 0.5, 'Mean decrease in impurity')"
            ]
          },
          "execution_count": 22,
          "metadata": {},
          "output_type": "execute_result"
        },
        {
          "data": {
            "image/png": "[encoded data removed]",
            "text/plain": [
              "<Figure size 640x480 with 1 Axes>"
            ]
          },
          "metadata": {},
          "output_type": "display_data"
        }
      ],
      "source": [
        "from sklearn.ensemble import RandomForestRegressor\n",
        "\n",
        "# iperparametri\n",
        "regRaF_params = {\n",
        "    'criterion': ['friedman_mse', 'squared_error'],\n",
        "    'n_estimators': [50, 100],\n",
        "    'max_depth': [10, 15, 22],\n",
        "    'min_samples_leaf': [1, 5, 20],\n",
        "    'min_samples_split': [2, 50, 120],\n",
        "    'random_state': [66],\n",
        "    'bootstrap': [True]\n",
        "}\n",
        "\n",
        "# ricerca migliore configurazione di iperparametri\n",
        "regRaF_grid = GridSearchCV(\n",
        "    estimator=RandomForestRegressor(),\n",
        "    param_grid=regRaF_params,\n",
        "    cv=5,\n",
        "    scoring='neg_mean_absolute_error',\n",
        "    refit=False,\n",
        ")\n",
        "regRaF_grid.fit(X=X_TS, y=gt_y_TS)\n",
        "regRaF_params_best = regRaF_grid.best_params_\n",
        "save_cv_results(regRaF_grid, \"regRaF\")\n",
        "\n",
        "#feature importance\n",
        "regRaf_best_model = RandomForestRegressor().set_params(**regRaF_grid.best_params_)\n",
        "regRaf_best_model.fit(X_TS, gt_y_TS)\n",
        "std = np.std([tree.feature_importances_ for tree in regRaf_best_model.estimators_], axis=0)\n",
        "\n",
        "regRaF_importances = pd.Series(regRaf_best_model.feature_importances_,\n",
        "                            index=ds3_features_part2)\n",
        "\n",
        "# calcolo metriche\n",
        "# lista adatta al ParameterGrid\n",
        "regRaF_params_best = {k: [v] if not isinstance(v, list) else v for k, v in regRaF_params_best.items()}\n",
        "regRaF_perf = custom_kf_cv(X=X_DS_, y=y_DS_,\n",
        "                                    m=RandomForestRegressor(random_state=66),\n",
        "                                    m_name=\"Random Forest\",\n",
        "                                    param_grid=ParameterGrid(regRaF_params_best),\n",
        "                                    k=5,\n",
        "                                    scaler=None)\n",
        "\n",
        "# >>>\n",
        "print(f\"{len(regRaF_perf)} model performance table available.\")\n",
        "regRaF_perf[0]\n",
        "\n",
        "fig, ax = plt.subplots()\n",
        "regRaF_importances.plot.bar(yerr=std, ax=ax)\n",
        "ax.set_title(\"Random Forest Feature Importance\")\n",
        "ax.set_ylabel(\"Mean decrease in impurity\")\n",
        "fig.tight_layout()\n",
        "\n"
      ]
    },
    {
      "cell_type": "markdown",
      "metadata": {},
      "source": [
        "### Regressore Gradient Boosting\n",
        "\n",
        "Il Gradient Boosting combina diversi alberi (chiamati modelli deboli) per migliorare le prestazioni complessive. In breve, il processo inizia con la creazione di un modello di regressione iniziale. Questo modello viene addestrato per predire la variabile target, ma ovviamente commette errori. Successivamente, viene creato un secondo albero decisionale che cerca di correggere gli errori del primo modello. Questo processo si ripete iterativamente, con ciascun nuovo albero focalizzato sugli errori del modello combinato esistente."
      ]
    },
    {
      "cell_type": "code",
      "execution_count": 23,
      "metadata": {},
      "outputs": [
        {
          "data": {
            "text/html": [
              "<style>#sk-container-id-8 {color: black;}#sk-container-id-8 pre{padding: 0;}#sk-container-id-8 div.sk-toggleable {background-color: white;}#sk-container-id-8 label.sk-toggleable__label {cursor: pointer;display: block;width: 100%;margin-bottom: 0;padding: 0.3em;box-sizing: border-box;text-align: center;}#sk-container-id-8 label.sk-toggleable__label-arrow:before {content: \"▸\";float: left;margin-right: 0.25em;color: #696969;}#sk-container-id-8 label.sk-toggleable__label-arrow:hover:before {color: black;}#sk-container-id-8 div.sk-estimator:hover label.sk-toggleable__label-arrow:before {color: black;}#sk-container-id-8 div.sk-toggleable__content {max-height: 0;max-width: 0;overflow: hidden;text-align: left;background-color: #f0f8ff;}#sk-container-id-8 div.sk-toggleable__content pre {margin: 0.2em;color: black;border-radius: 0.25em;background-color: #f0f8ff;}#sk-container-id-8 input.sk-toggleable__control:checked~div.sk-toggleable__content {max-height: 200px;max-width: 100%;overflow: auto;}#sk-container-id-8 input.sk-toggleable__control:checked~label.sk-toggleable__label-arrow:before {content: \"▾\";}#sk-container-id-8 div.sk-estimator input.sk-toggleable__control:checked~label.sk-toggleable__label {background-color: #d4ebff;}#sk-container-id-8 div.sk-label input.sk-toggleable__control:checked~label.sk-toggleable__label {background-color: #d4ebff;}#sk-container-id-8 input.sk-hidden--visually {border: 0;clip: rect(1px 1px 1px 1px);clip: rect(1px, 1px, 1px, 1px);height: 1px;margin: -1px;overflow: hidden;padding: 0;position: absolute;width: 1px;}#sk-container-id-8 div.sk-estimator {font-family: monospace;background-color: #f0f8ff;border: 1px dotted black;border-radius: 0.25em;box-sizing: border-box;margin-bottom: 0.5em;}#sk-container-id-8 div.sk-estimator:hover {background-color: #d4ebff;}#sk-container-id-8 div.sk-parallel-item::after {content: \"\";width: 100%;border-bottom: 1px solid gray;flex-grow: 1;}#sk-container-id-8 div.sk-label:hover label.sk-toggleable__label {background-color: #d4ebff;}#sk-container-id-8 div.sk-serial::before {content: \"\";position: absolute;border-left: 1px solid gray;box-sizing: border-box;top: 0;bottom: 0;left: 50%;z-index: 0;}#sk-container-id-8 div.sk-serial {display: flex;flex-direction: column;align-items: center;background-color: white;padding-right: 0.2em;padding-left: 0.2em;position: relative;}#sk-container-id-8 div.sk-item {position: relative;z-index: 1;}#sk-container-id-8 div.sk-parallel {display: flex;align-items: stretch;justify-content: center;background-color: white;position: relative;}#sk-container-id-8 div.sk-item::before, #sk-container-id-8 div.sk-parallel-item::before {content: \"\";position: absolute;border-left: 1px solid gray;box-sizing: border-box;top: 0;bottom: 0;left: 50%;z-index: -1;}#sk-container-id-8 div.sk-parallel-item {display: flex;flex-direction: column;z-index: 1;position: relative;background-color: white;}#sk-container-id-8 div.sk-parallel-item:first-child::after {align-self: flex-end;width: 50%;}#sk-container-id-8 div.sk-parallel-item:last-child::after {align-self: flex-start;width: 50%;}#sk-container-id-8 div.sk-parallel-item:only-child::after {width: 0;}#sk-container-id-8 div.sk-dashed-wrapped {border: 1px dashed gray;margin: 0 0.4em 0.5em 0.4em;box-sizing: border-box;padding-bottom: 0.4em;background-color: white;}#sk-container-id-8 div.sk-label label {font-family: monospace;font-weight: bold;display: inline-block;line-height: 1.2em;}#sk-container-id-8 div.sk-label-container {text-align: center;}#sk-container-id-8 div.sk-container {/* jupyter's `normalize.less` sets `[hidden] { display: none; }` but bootstrap.min.css set `[hidden] { display: none !important; }` so we also need the `!important` here to be able to override the default hidden behavior on the sphinx rendered scikit-learn.org. See: https://github.com/scikit-learn/scikit-learn/issues/21755 */display: inline-block !important;position: relative;}#sk-container-id-8 div.sk-text-repr-fallback {display: none;}</style><div id=\"sk-container-id-8\" class=\"sk-top-container\"><div class=\"sk-text-repr-fallback\"><pre>GridSearchCV(cv=5, estimator=GradientBoostingRegressor(),\n",
              "             param_grid={&#x27;criterion&#x27;: [&#x27;friedman_mse&#x27;],\n",
              "                         &#x27;learning_rate&#x27;: [0.05, 0.1, 0.3, 0.5],\n",
              "                         &#x27;max_depth&#x27;: [10, 22], &#x27;min_samples_leaf&#x27;: [1, 5, 20],\n",
              "                         &#x27;min_samples_split&#x27;: [2, 50, 120],\n",
              "                         &#x27;n_estimators&#x27;: [50, 100], &#x27;random_state&#x27;: [66]},\n",
              "             refit=False, scoring=&#x27;neg_mean_absolute_error&#x27;)</pre><b>In a Jupyter environment, please rerun this cell to show the HTML representation or trust the notebook. <br />On GitHub, the HTML representation is unable to render, please try loading this page with nbviewer.org.</b></div><div class=\"sk-container\" hidden><div class=\"sk-item sk-dashed-wrapped\"><div class=\"sk-label-container\"><div class=\"sk-label sk-toggleable\"><input class=\"sk-toggleable__control sk-hidden--visually\" id=\"sk-estimator-id-18\" type=\"checkbox\" ><label for=\"sk-estimator-id-18\" class=\"sk-toggleable__label sk-toggleable__label-arrow\">GridSearchCV</label><div class=\"sk-toggleable__content\"><pre>GridSearchCV(cv=5, estimator=GradientBoostingRegressor(),\n",
              "             param_grid={&#x27;criterion&#x27;: [&#x27;friedman_mse&#x27;],\n",
              "                         &#x27;learning_rate&#x27;: [0.05, 0.1, 0.3, 0.5],\n",
              "                         &#x27;max_depth&#x27;: [10, 22], &#x27;min_samples_leaf&#x27;: [1, 5, 20],\n",
              "                         &#x27;min_samples_split&#x27;: [2, 50, 120],\n",
              "                         &#x27;n_estimators&#x27;: [50, 100], &#x27;random_state&#x27;: [66]},\n",
              "             refit=False, scoring=&#x27;neg_mean_absolute_error&#x27;)</pre></div></div></div><div class=\"sk-parallel\"><div class=\"sk-parallel-item\"><div class=\"sk-item\"><div class=\"sk-label-container\"><div class=\"sk-label sk-toggleable\"><input class=\"sk-toggleable__control sk-hidden--visually\" id=\"sk-estimator-id-19\" type=\"checkbox\" ><label for=\"sk-estimator-id-19\" class=\"sk-toggleable__label sk-toggleable__label-arrow\">estimator: GradientBoostingRegressor</label><div class=\"sk-toggleable__content\"><pre>GradientBoostingRegressor()</pre></div></div></div><div class=\"sk-serial\"><div class=\"sk-item\"><div class=\"sk-estimator sk-toggleable\"><input class=\"sk-toggleable__control sk-hidden--visually\" id=\"sk-estimator-id-20\" type=\"checkbox\" ><label for=\"sk-estimator-id-20\" class=\"sk-toggleable__label sk-toggleable__label-arrow\">GradientBoostingRegressor</label><div class=\"sk-toggleable__content\"><pre>GradientBoostingRegressor()</pre></div></div></div></div></div></div></div></div></div></div>"
            ],
            "text/plain": [
              "GridSearchCV(cv=5, estimator=GradientBoostingRegressor(),\n",
              "             param_grid={'criterion': ['friedman_mse'],\n",
              "                         'learning_rate': [0.05, 0.1, 0.3, 0.5],\n",
              "                         'max_depth': [10, 22], 'min_samples_leaf': [1, 5, 20],\n",
              "                         'min_samples_split': [2, 50, 120],\n",
              "                         'n_estimators': [50, 100], 'random_state': [66]},\n",
              "             refit=False, scoring='neg_mean_absolute_error')"
            ]
          },
          "execution_count": 23,
          "metadata": {},
          "output_type": "execute_result"
        },
        {
          "name": "stdout",
          "output_type": "stream",
          "text": [
            "1 model performance table available.\n"
          ]
        },
        {
          "data": {
            "text/html": [
              "<div>\n",
              "<style scoped>\n",
              "    .dataframe tbody tr th:only-of-type {\n",
              "        vertical-align: middle;\n",
              "    }\n",
              "\n",
              "    .dataframe tbody tr th {\n",
              "        vertical-align: top;\n",
              "    }\n",
              "\n",
              "    .dataframe thead th {\n",
              "        text-align: right;\n",
              "    }\n",
              "</style>\n",
              "<table border=\"1\" class=\"dataframe\">\n",
              "  <thead>\n",
              "    <tr style=\"text-align: right;\">\n",
              "      <th></th>\n",
              "      <th>MAE (TS)</th>\n",
              "      <th>MSE (TS)</th>\n",
              "      <th>RMSE (TS)</th>\n",
              "      <th>R^2 (TS)</th>\n",
              "      <th>MAE (TE)</th>\n",
              "      <th>MSE (TE)</th>\n",
              "      <th>RMSE (TE)</th>\n",
              "      <th>R^2 (TE)</th>\n",
              "    </tr>\n",
              "  </thead>\n",
              "  <tbody>\n",
              "    <tr>\n",
              "      <th>Gradient Boosting (Split 1)</th>\n",
              "      <td>0.225285</td>\n",
              "      <td>0.090860</td>\n",
              "      <td>0.301431</td>\n",
              "      <td>0.651159</td>\n",
              "      <td>0.262348</td>\n",
              "      <td>0.126268</td>\n",
              "      <td>0.355341</td>\n",
              "      <td>0.496781</td>\n",
              "    </tr>\n",
              "    <tr>\n",
              "      <th>Gradient Boosting (Split 2)</th>\n",
              "      <td>0.223303</td>\n",
              "      <td>0.090492</td>\n",
              "      <td>0.300818</td>\n",
              "      <td>0.646661</td>\n",
              "      <td>0.279298</td>\n",
              "      <td>0.137433</td>\n",
              "      <td>0.370719</td>\n",
              "      <td>0.489151</td>\n",
              "    </tr>\n",
              "    <tr>\n",
              "      <th>Gradient Boosting (Split 3)</th>\n",
              "      <td>0.218274</td>\n",
              "      <td>0.085093</td>\n",
              "      <td>0.291707</td>\n",
              "      <td>0.678087</td>\n",
              "      <td>0.284066</td>\n",
              "      <td>0.154403</td>\n",
              "      <td>0.392941</td>\n",
              "      <td>0.345570</td>\n",
              "    </tr>\n",
              "    <tr>\n",
              "      <th>Gradient Boosting (Split 4)</th>\n",
              "      <td>0.222389</td>\n",
              "      <td>0.089070</td>\n",
              "      <td>0.298447</td>\n",
              "      <td>0.657846</td>\n",
              "      <td>0.271937</td>\n",
              "      <td>0.132113</td>\n",
              "      <td>0.363474</td>\n",
              "      <td>0.474208</td>\n",
              "    </tr>\n",
              "    <tr>\n",
              "      <th>Gradient Boosting (Split 5)</th>\n",
              "      <td>0.218674</td>\n",
              "      <td>0.086505</td>\n",
              "      <td>0.294117</td>\n",
              "      <td>0.657349</td>\n",
              "      <td>0.286589</td>\n",
              "      <td>0.146784</td>\n",
              "      <td>0.383124</td>\n",
              "      <td>0.483260</td>\n",
              "    </tr>\n",
              "    <tr>\n",
              "      <th>Average ({'criterion': 'friedman_mse', 'learning_rate': 0.1, 'max_depth': 10, 'min_samples_leaf': 20, 'min_samples_split': 120, 'n_estimators': 50, 'random_state': 66})</th>\n",
              "      <td>0.221585</td>\n",
              "      <td>0.088404</td>\n",
              "      <td>0.297304</td>\n",
              "      <td>0.658220</td>\n",
              "      <td>0.276848</td>\n",
              "      <td>0.139400</td>\n",
              "      <td>0.373120</td>\n",
              "      <td>0.457794</td>\n",
              "    </tr>\n",
              "  </tbody>\n",
              "</table>\n",
              "</div>"
            ],
            "text/plain": [
              "                                                    MAE (TS)  MSE (TS)  \\\n",
              "Gradient Boosting (Split 1)                         0.225285  0.090860   \n",
              "Gradient Boosting (Split 2)                         0.223303  0.090492   \n",
              "Gradient Boosting (Split 3)                         0.218274  0.085093   \n",
              "Gradient Boosting (Split 4)                         0.222389  0.089070   \n",
              "Gradient Boosting (Split 5)                         0.218674  0.086505   \n",
              "Average ({'criterion': 'friedman_mse', 'learnin...  0.221585  0.088404   \n",
              "\n",
              "                                                    RMSE (TS)  R^2 (TS)  \\\n",
              "Gradient Boosting (Split 1)                          0.301431  0.651159   \n",
              "Gradient Boosting (Split 2)                          0.300818  0.646661   \n",
              "Gradient Boosting (Split 3)                          0.291707  0.678087   \n",
              "Gradient Boosting (Split 4)                          0.298447  0.657846   \n",
              "Gradient Boosting (Split 5)                          0.294117  0.657349   \n",
              "Average ({'criterion': 'friedman_mse', 'learnin...   0.297304  0.658220   \n",
              "\n",
              "                                                    MAE (TE)  MSE (TE)  \\\n",
              "Gradient Boosting (Split 1)                         0.262348  0.126268   \n",
              "Gradient Boosting (Split 2)                         0.279298  0.137433   \n",
              "Gradient Boosting (Split 3)                         0.284066  0.154403   \n",
              "Gradient Boosting (Split 4)                         0.271937  0.132113   \n",
              "Gradient Boosting (Split 5)                         0.286589  0.146784   \n",
              "Average ({'criterion': 'friedman_mse', 'learnin...  0.276848  0.139400   \n",
              "\n",
              "                                                    RMSE (TE)  R^2 (TE)  \n",
              "Gradient Boosting (Split 1)                          0.355341  0.496781  \n",
              "Gradient Boosting (Split 2)                          0.370719  0.489151  \n",
              "Gradient Boosting (Split 3)                          0.392941  0.345570  \n",
              "Gradient Boosting (Split 4)                          0.363474  0.474208  \n",
              "Gradient Boosting (Split 5)                          0.383124  0.483260  \n",
              "Average ({'criterion': 'friedman_mse', 'learnin...   0.373120  0.457794  "
            ]
          },
          "execution_count": 23,
          "metadata": {},
          "output_type": "execute_result"
        }
      ],
      "source": [
        "from sklearn.ensemble import GradientBoostingRegressor\n",
        "\n",
        "regGrB_params = {\n",
        "    'criterion': ['friedman_mse'],\n",
        "    'n_estimators': [50, 100],\n",
        "    'learning_rate': [0.05, 0.1, 0.3, 0.5],\n",
        "    'max_depth': [10, 22],\n",
        "    'min_samples_leaf': [1, 5, 20],\n",
        "    'min_samples_split': [2, 50, 120],\n",
        "    'random_state': [66]\n",
        "}\n",
        "\n",
        "# ricerca migliore configurazione di iperparametri\n",
        "regGrB_grid = GridSearchCV(\n",
        "    estimator=GradientBoostingRegressor(),\n",
        "    param_grid=regGrB_params,\n",
        "    cv=5,\n",
        "    scoring='neg_mean_absolute_error',\n",
        "    refit=False,\n",
        ")\n",
        "regGrB_grid.fit(X=X_TS, y=gt_y_TS)\n",
        "regGrB_params_best = regGrB_grid.best_params_\n",
        "save_cv_results(regGrB_grid, \"regGrB\")\n",
        "\n",
        "# calcolo metriche\n",
        "# lista adatta al ParameterGrid\n",
        "regGrB_params_best = {k: [v] if not isinstance(v, list) else v for k, v in regGrB_params_best.items()}\n",
        "regGrB_perf = custom_kf_cv(X=X_DS_, y=y_DS_,\n",
        "                                    m=GradientBoostingRegressor(random_state=66),\n",
        "                                    m_name=\"Gradient Boosting\",\n",
        "                                    param_grid=ParameterGrid(regGrB_params_best),\n",
        "                                    k=5,\n",
        "                                    scaler=None)\n",
        "\n",
        "# >>>\n",
        "print(f\"{len(regGrB_perf)} model performance table available.\")\n",
        "regGrB_perf[0]"
      ]
    }
  ],
  "metadata": {
    "colab": {
      "provenance": [],
      "toc_visible": true
    },
    "kernelspec": {
      "display_name": "Python 3.10.7 ('venv': venv)",
      "language": "python",
      "name": "python3"
    },
    "language_info": {
      "codemirror_mode": {
        "name": "ipython",
        "version": 3
      },
      "file_extension": ".py",
      "mimetype": "text/x-python",
      "name": "python",
      "nbconvert_exporter": "python",
      "pygments_lexer": "ipython3",
      "version": "3.10.7"
    },
    "vscode": {
      "interpreter": {
        "hash": "6126b564a5d1e2c6e99ae68d8ec250149d00b6eefd8728f1ca2a8862c1e8aa2a"
      }
    }
  },
  "nbformat": 4,
  "nbformat_minor": 0
}
