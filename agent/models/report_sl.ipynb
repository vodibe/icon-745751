{
  "nbformat": 4,
  "nbformat_minor": 0,
  "metadata": {
    "colab": {
      "provenance": [],
      "toc_visible": true
    },
    "kernelspec": {
      "name": "python3",
      "display_name": "Python 3"
    },
    "language_info": {
      "name": "python"
    }
  },
  "cells": [
    {
      "cell_type": "markdown",
      "source": [
        "# Apprendimento Supervisionato\n"
      ],
      "metadata": {
        "id": "x2UmqMhHG3ad"
      }
    },
    {
      "cell_type": "markdown",
      "source": [
        "## Sommario\n",
        "La rappresentazione tramite modello NDOM discussa nella sezione precedente ci ha permesso, di fatto, di ingegnerizzare e aggiungere al DS iniziale 8 nuove feature, `task1`, `task2`, ..., `task8`.\n",
        "\n",
        "In questa sezione costruiamo e valutiamo dei modelli di apprendimento supervisionato (SL) che possano predire il valore della feature target `metric`.\n",
        "\n",
        "Innanzitutto, una prima osservazione da fare è che in tutti i modelli di SL il dataset NON comprende le feature `page_ungrouped_multim`, `page_template` e `page_menu_or`. Ricordiamo che queste sono dei fattori di decisione che l'utente considera osservando direttamente la pagina e che si rintengono non osservabili a partire dal solo codice sorgente.\n",
        "\n",
        "Una seconda precisazione da fare riguarda il fatto che assumeremo, salvo diversamente specificato, che ciascun iperparametro del NDOM del sito abbia il valore di default (descritto precedente sezione *Decisioni di Progetto*).\n"
      ],
      "metadata": {
        "id": "du8fmPJ5IQqh"
      }
    },
    {
      "cell_type": "markdown",
      "source": [
        "## Operazioni iniziali"
      ],
      "metadata": {
        "id": "IKrhNglYedjm"
      }
    },
    {
      "cell_type": "markdown",
      "source": [
        "### Caricamento DS ed esplicitazione features\n"
      ],
      "metadata": {
        "id": "6eYqqbIsefaB"
      }
    },
    {
      "cell_type": "code",
      "source": [
        "import pandas as pd\n",
        "df = pd.read_csv(\"/content/drive/MyDrive/icon-745751/SCUANAGRAFE202324_3_gt_final.csv\")\n",
        "\n",
        "ds3_features_pk = [\"school_id\", \"page_url\"]\n",
        "ds3_features_part1 = [\"page_template\", \"page_menu_or\", \"page_ungrouped_multim\"]\n",
        "ds3_features_part2 = [\n",
        "    \"page_load_time_ms\",\n",
        "    \"page_width\",\n",
        "    \"page_height\",\n",
        "    \"NDOM_nodes\",\n",
        "    \"NDOM_height\",\n",
        "]\n",
        "ds3_features_part3 = [\"task1\", \"task2\", \"task3\", \"task4\", \"task5\", \"task6\", \"task7\", \"task8\"]\n",
        "ds3_target = \"metric\"\n",
        "\n",
        "# features\n",
        "ds3_features = (\n",
        "    ds3_features_pk + ds3_features_part1 + ds3_features_part2 + ds3_features_part3\n",
        ")\n",
        "ds3_features.append(ds3_target)\n",
        "\n",
        "# >>>\n",
        "df.head(3)"
      ],
      "metadata": {
        "colab": {
          "base_uri": "https://localhost:8080/",
          "height": 163
        },
        "id": "PH6mS-80ekg4",
        "outputId": "65f6d4ec-a1ee-4b96-e819-54c859ecffec"
      },
      "execution_count": 2,
      "outputs": [
        {
          "output_type": "execute_result",
          "data": {
            "text/plain": [
              "    school_id                                page_url  page_load_time_ms  \\\n",
              "0  CBSL00201A          https://www.liceopagano.edu.it                516   \n",
              "1  RGTD03002X             https://www.itcbesta.edu.it               1278   \n",
              "2  CSPS07301E  https://www.iismarconiguarasci.edu.it/               1006   \n",
              "\n",
              "   page_width  page_height  NDOM_nodes  NDOM_height  page_template  \\\n",
              "0        1604          848           1            0            9.0   \n",
              "1        1587         2441         162            7            6.0   \n",
              "2        1587         2533         348            3            3.0   \n",
              "\n",
              "   page_menu_or  page_ungrouped_multim  metric  task1  task2  task3  task4  \\\n",
              "0           2.0                    6.0     2.9   6.50   6.50   6.50    6.5   \n",
              "1           1.0                    8.0     3.7   1.37   2.10   2.75    6.5   \n",
              "2           3.0                   10.0     4.0   1.30   1.65   3.07    3.3   \n",
              "\n",
              "   task5  task6  task7  task8  \n",
              "0   6.50    6.5   6.50   6.50  \n",
              "1   2.10    5.6   3.83   6.50  \n",
              "2   1.92    0.3   6.50   2.51  "
            ],
            "text/html": [
              "\n",
              "  <div id=\"df-a05a1443-850c-41ad-aea1-0e022b236595\" class=\"colab-df-container\">\n",
              "    <div>\n",
              "<style scoped>\n",
              "    .dataframe tbody tr th:only-of-type {\n",
              "        vertical-align: middle;\n",
              "    }\n",
              "\n",
              "    .dataframe tbody tr th {\n",
              "        vertical-align: top;\n",
              "    }\n",
              "\n",
              "    .dataframe thead th {\n",
              "        text-align: right;\n",
              "    }\n",
              "</style>\n",
              "<table border=\"1\" class=\"dataframe\">\n",
              "  <thead>\n",
              "    <tr style=\"text-align: right;\">\n",
              "      <th></th>\n",
              "      <th>school_id</th>\n",
              "      <th>page_url</th>\n",
              "      <th>page_load_time_ms</th>\n",
              "      <th>page_width</th>\n",
              "      <th>page_height</th>\n",
              "      <th>NDOM_nodes</th>\n",
              "      <th>NDOM_height</th>\n",
              "      <th>page_template</th>\n",
              "      <th>page_menu_or</th>\n",
              "      <th>page_ungrouped_multim</th>\n",
              "      <th>metric</th>\n",
              "      <th>task1</th>\n",
              "      <th>task2</th>\n",
              "      <th>task3</th>\n",
              "      <th>task4</th>\n",
              "      <th>task5</th>\n",
              "      <th>task6</th>\n",
              "      <th>task7</th>\n",
              "      <th>task8</th>\n",
              "    </tr>\n",
              "  </thead>\n",
              "  <tbody>\n",
              "    <tr>\n",
              "      <th>0</th>\n",
              "      <td>CBSL00201A</td>\n",
              "      <td>https://www.liceopagano.edu.it</td>\n",
              "      <td>516</td>\n",
              "      <td>1604</td>\n",
              "      <td>848</td>\n",
              "      <td>1</td>\n",
              "      <td>0</td>\n",
              "      <td>9.0</td>\n",
              "      <td>2.0</td>\n",
              "      <td>6.0</td>\n",
              "      <td>2.9</td>\n",
              "      <td>6.50</td>\n",
              "      <td>6.50</td>\n",
              "      <td>6.50</td>\n",
              "      <td>6.5</td>\n",
              "      <td>6.50</td>\n",
              "      <td>6.5</td>\n",
              "      <td>6.50</td>\n",
              "      <td>6.50</td>\n",
              "    </tr>\n",
              "    <tr>\n",
              "      <th>1</th>\n",
              "      <td>RGTD03002X</td>\n",
              "      <td>https://www.itcbesta.edu.it</td>\n",
              "      <td>1278</td>\n",
              "      <td>1587</td>\n",
              "      <td>2441</td>\n",
              "      <td>162</td>\n",
              "      <td>7</td>\n",
              "      <td>6.0</td>\n",
              "      <td>1.0</td>\n",
              "      <td>8.0</td>\n",
              "      <td>3.7</td>\n",
              "      <td>1.37</td>\n",
              "      <td>2.10</td>\n",
              "      <td>2.75</td>\n",
              "      <td>6.5</td>\n",
              "      <td>2.10</td>\n",
              "      <td>5.6</td>\n",
              "      <td>3.83</td>\n",
              "      <td>6.50</td>\n",
              "    </tr>\n",
              "    <tr>\n",
              "      <th>2</th>\n",
              "      <td>CSPS07301E</td>\n",
              "      <td>https://www.iismarconiguarasci.edu.it/</td>\n",
              "      <td>1006</td>\n",
              "      <td>1587</td>\n",
              "      <td>2533</td>\n",
              "      <td>348</td>\n",
              "      <td>3</td>\n",
              "      <td>3.0</td>\n",
              "      <td>3.0</td>\n",
              "      <td>10.0</td>\n",
              "      <td>4.0</td>\n",
              "      <td>1.30</td>\n",
              "      <td>1.65</td>\n",
              "      <td>3.07</td>\n",
              "      <td>3.3</td>\n",
              "      <td>1.92</td>\n",
              "      <td>0.3</td>\n",
              "      <td>6.50</td>\n",
              "      <td>2.51</td>\n",
              "    </tr>\n",
              "  </tbody>\n",
              "</table>\n",
              "</div>\n",
              "    <div class=\"colab-df-buttons\">\n",
              "\n",
              "  <div class=\"colab-df-container\">\n",
              "    <button class=\"colab-df-convert\" onclick=\"convertToInteractive('df-a05a1443-850c-41ad-aea1-0e022b236595')\"\n",
              "            title=\"Convert this dataframe to an interactive table.\"\n",
              "            style=\"display:none;\">\n",
              "\n",
              "  <svg xmlns=\"http://www.w3.org/2000/svg\" height=\"24px\" viewBox=\"0 -960 960 960\">\n",
              "    <path d=\"M120-120v-720h720v720H120Zm60-500h600v-160H180v160Zm220 220h160v-160H400v160Zm0 220h160v-160H400v160ZM180-400h160v-160H180v160Zm440 0h160v-160H620v160ZM180-180h160v-160H180v160Zm440 0h160v-160H620v160Z\"/>\n",
              "  </svg>\n",
              "    </button>\n",
              "\n",
              "  <style>\n",
              "    .colab-df-container {\n",
              "      display:flex;\n",
              "      gap: 12px;\n",
              "    }\n",
              "\n",
              "    .colab-df-convert {\n",
              "      background-color: #E8F0FE;\n",
              "      border: none;\n",
              "      border-radius: 50%;\n",
              "      cursor: pointer;\n",
              "      display: none;\n",
              "      fill: #1967D2;\n",
              "      height: 32px;\n",
              "      padding: 0 0 0 0;\n",
              "      width: 32px;\n",
              "    }\n",
              "\n",
              "    .colab-df-convert:hover {\n",
              "      background-color: #E2EBFA;\n",
              "      box-shadow: 0px 1px 2px rgba(60, 64, 67, 0.3), 0px 1px 3px 1px rgba(60, 64, 67, 0.15);\n",
              "      fill: #174EA6;\n",
              "    }\n",
              "\n",
              "    .colab-df-buttons div {\n",
              "      margin-bottom: 4px;\n",
              "    }\n",
              "\n",
              "    [theme=dark] .colab-df-convert {\n",
              "      background-color: #3B4455;\n",
              "      fill: #D2E3FC;\n",
              "    }\n",
              "\n",
              "    [theme=dark] .colab-df-convert:hover {\n",
              "      background-color: #434B5C;\n",
              "      box-shadow: 0px 1px 3px 1px rgba(0, 0, 0, 0.15);\n",
              "      filter: drop-shadow(0px 1px 2px rgba(0, 0, 0, 0.3));\n",
              "      fill: #FFFFFF;\n",
              "    }\n",
              "  </style>\n",
              "\n",
              "    <script>\n",
              "      const buttonEl =\n",
              "        document.querySelector('#df-a05a1443-850c-41ad-aea1-0e022b236595 button.colab-df-convert');\n",
              "      buttonEl.style.display =\n",
              "        google.colab.kernel.accessAllowed ? 'block' : 'none';\n",
              "\n",
              "      async function convertToInteractive(key) {\n",
              "        const element = document.querySelector('#df-a05a1443-850c-41ad-aea1-0e022b236595');\n",
              "        const dataTable =\n",
              "          await google.colab.kernel.invokeFunction('convertToInteractive',\n",
              "                                                    [key], {});\n",
              "        if (!dataTable) return;\n",
              "\n",
              "        const docLinkHtml = 'Like what you see? Visit the ' +\n",
              "          '<a target=\"_blank\" href=https://colab.research.google.com/notebooks/data_table.ipynb>data table notebook</a>'\n",
              "          + ' to learn more about interactive tables.';\n",
              "        element.innerHTML = '';\n",
              "        dataTable['output_type'] = 'display_data';\n",
              "        await google.colab.output.renderOutput(dataTable, element);\n",
              "        const docLink = document.createElement('div');\n",
              "        docLink.innerHTML = docLinkHtml;\n",
              "        element.appendChild(docLink);\n",
              "      }\n",
              "    </script>\n",
              "  </div>\n",
              "\n",
              "\n",
              "<div id=\"df-8b6c63c5-4de9-4957-ba90-e9d277b19152\">\n",
              "  <button class=\"colab-df-quickchart\" onclick=\"quickchart('df-8b6c63c5-4de9-4957-ba90-e9d277b19152')\"\n",
              "            title=\"Suggest charts\"\n",
              "            style=\"display:none;\">\n",
              "\n",
              "<svg xmlns=\"http://www.w3.org/2000/svg\" height=\"24px\"viewBox=\"0 0 24 24\"\n",
              "     width=\"24px\">\n",
              "    <g>\n",
              "        <path d=\"M19 3H5c-1.1 0-2 .9-2 2v14c0 1.1.9 2 2 2h14c1.1 0 2-.9 2-2V5c0-1.1-.9-2-2-2zM9 17H7v-7h2v7zm4 0h-2V7h2v10zm4 0h-2v-4h2v4z\"/>\n",
              "    </g>\n",
              "</svg>\n",
              "  </button>\n",
              "\n",
              "<style>\n",
              "  .colab-df-quickchart {\n",
              "      --bg-color: #E8F0FE;\n",
              "      --fill-color: #1967D2;\n",
              "      --hover-bg-color: #E2EBFA;\n",
              "      --hover-fill-color: #174EA6;\n",
              "      --disabled-fill-color: #AAA;\n",
              "      --disabled-bg-color: #DDD;\n",
              "  }\n",
              "\n",
              "  [theme=dark] .colab-df-quickchart {\n",
              "      --bg-color: #3B4455;\n",
              "      --fill-color: #D2E3FC;\n",
              "      --hover-bg-color: #434B5C;\n",
              "      --hover-fill-color: #FFFFFF;\n",
              "      --disabled-bg-color: #3B4455;\n",
              "      --disabled-fill-color: #666;\n",
              "  }\n",
              "\n",
              "  .colab-df-quickchart {\n",
              "    background-color: var(--bg-color);\n",
              "    border: none;\n",
              "    border-radius: 50%;\n",
              "    cursor: pointer;\n",
              "    display: none;\n",
              "    fill: var(--fill-color);\n",
              "    height: 32px;\n",
              "    padding: 0;\n",
              "    width: 32px;\n",
              "  }\n",
              "\n",
              "  .colab-df-quickchart:hover {\n",
              "    background-color: var(--hover-bg-color);\n",
              "    box-shadow: 0 1px 2px rgba(60, 64, 67, 0.3), 0 1px 3px 1px rgba(60, 64, 67, 0.15);\n",
              "    fill: var(--button-hover-fill-color);\n",
              "  }\n",
              "\n",
              "  .colab-df-quickchart-complete:disabled,\n",
              "  .colab-df-quickchart-complete:disabled:hover {\n",
              "    background-color: var(--disabled-bg-color);\n",
              "    fill: var(--disabled-fill-color);\n",
              "    box-shadow: none;\n",
              "  }\n",
              "\n",
              "  .colab-df-spinner {\n",
              "    border: 2px solid var(--fill-color);\n",
              "    border-color: transparent;\n",
              "    border-bottom-color: var(--fill-color);\n",
              "    animation:\n",
              "      spin 1s steps(1) infinite;\n",
              "  }\n",
              "\n",
              "  @keyframes spin {\n",
              "    0% {\n",
              "      border-color: transparent;\n",
              "      border-bottom-color: var(--fill-color);\n",
              "      border-left-color: var(--fill-color);\n",
              "    }\n",
              "    20% {\n",
              "      border-color: transparent;\n",
              "      border-left-color: var(--fill-color);\n",
              "      border-top-color: var(--fill-color);\n",
              "    }\n",
              "    30% {\n",
              "      border-color: transparent;\n",
              "      border-left-color: var(--fill-color);\n",
              "      border-top-color: var(--fill-color);\n",
              "      border-right-color: var(--fill-color);\n",
              "    }\n",
              "    40% {\n",
              "      border-color: transparent;\n",
              "      border-right-color: var(--fill-color);\n",
              "      border-top-color: var(--fill-color);\n",
              "    }\n",
              "    60% {\n",
              "      border-color: transparent;\n",
              "      border-right-color: var(--fill-color);\n",
              "    }\n",
              "    80% {\n",
              "      border-color: transparent;\n",
              "      border-right-color: var(--fill-color);\n",
              "      border-bottom-color: var(--fill-color);\n",
              "    }\n",
              "    90% {\n",
              "      border-color: transparent;\n",
              "      border-bottom-color: var(--fill-color);\n",
              "    }\n",
              "  }\n",
              "</style>\n",
              "\n",
              "  <script>\n",
              "    async function quickchart(key) {\n",
              "      const quickchartButtonEl =\n",
              "        document.querySelector('#' + key + ' button');\n",
              "      quickchartButtonEl.disabled = true;  // To prevent multiple clicks.\n",
              "      quickchartButtonEl.classList.add('colab-df-spinner');\n",
              "      try {\n",
              "        const charts = await google.colab.kernel.invokeFunction(\n",
              "            'suggestCharts', [key], {});\n",
              "      } catch (error) {\n",
              "        console.error('Error during call to suggestCharts:', error);\n",
              "      }\n",
              "      quickchartButtonEl.classList.remove('colab-df-spinner');\n",
              "      quickchartButtonEl.classList.add('colab-df-quickchart-complete');\n",
              "    }\n",
              "    (() => {\n",
              "      let quickchartButtonEl =\n",
              "        document.querySelector('#df-8b6c63c5-4de9-4957-ba90-e9d277b19152 button');\n",
              "      quickchartButtonEl.style.display =\n",
              "        google.colab.kernel.accessAllowed ? 'block' : 'none';\n",
              "    })();\n",
              "  </script>\n",
              "</div>\n",
              "    </div>\n",
              "  </div>\n"
            ]
          },
          "metadata": {},
          "execution_count": 2
        }
      ]
    },
    {
      "cell_type": "markdown",
      "source": [
        "### Esplicitazione del dominio delle features"
      ],
      "metadata": {
        "id": "1CIO1hmsofrV"
      }
    },
    {
      "cell_type": "code",
      "source": [
        "# estremi dei domini di alcune feature\n",
        "PAGE_TEMPLATE_MIN_VAL = 1\n",
        "PAGE_TEMPLATE_MAX_VAL = 9\n",
        "\n",
        "PAGE_MENU_OR_MIN_VAL = 0\n",
        "PAGE_MENU_OR_MAX_VAL = 3\n",
        "\n",
        "METRIC_MIN_VAL = 1\n",
        "METRIC_MAX_VAL = 5\n",
        "\n",
        "# domini feature. un dominio può essere un tipo, una lista\n",
        "# o una funzione lambda (per domini infiniti, cioè per features continue)\n",
        "ds3_gt_feature_domains = {\n",
        "    \"school_id\": str,\n",
        "    \"page_url\": str,\n",
        "    \"page_template\": [x for x in range(PAGE_TEMPLATE_MIN_VAL, PAGE_TEMPLATE_MAX_VAL + 1)],\n",
        "    \"page_menu_or\": [x for x in range(PAGE_MENU_OR_MIN_VAL, PAGE_MENU_OR_MAX_VAL + 1)],\n",
        "    \"page_ungrouped_multim\": lambda v: v >= 0 and v % 1 == 0, # numero naturale\n",
        "    \"metric\": lambda v: v >= METRIC_MIN_VAL and v <= METRIC_MAX_VAL,\n",
        "    \"page_load_time_ms\": lambda v: v >= 0,\n",
        "    \"page_width\": lambda v: v >= 0,\n",
        "    \"page_height\": lambda v: v >= 0,\n",
        "    \"NDOM_nodes\": lambda v: v >= 0 and v % 1 == 0,\n",
        "    \"NDOM_height\": lambda v: v >= 0 and v % 1 == 0,\n",
        "    \"task1\": lambda v: v >= 0,\n",
        "    \"task2\": lambda v: v >= 0,\n",
        "    \"task3\": lambda v: v >= 0,\n",
        "    \"task4\": lambda v: v >= 0,\n",
        "    \"task5\": lambda v: v >= 0,\n",
        "    \"task6\": lambda v: v >= 0,\n",
        "    \"task7\": lambda v: v >= 0,\n",
        "    \"task8\": lambda v: v >= 0,\n",
        "}\n",
        "# altra rappresentazione possibile del dominio di metric\n",
        "'''\n",
        "\"metric\": [\n",
        "    x / 10\n",
        "    for x in range((1 * 10), (5 * 10 + int(0.1 * 10)))\n",
        "],\n",
        "'''\n",
        "\n",
        "def get_features_d_c(feature_domains: dict):\n",
        "    \"\"\"Restituisce le features discrete e continue.\n",
        "\n",
        "    Args:\n",
        "        - features_domains: Dizionario feature:dominio che rispetta la sintassi espressa sopra.\n",
        "\n",
        "    Returns:\n",
        "        - features_d: Lista di features discrete.\n",
        "        - features_c: Lista di features continue.\n",
        "    \"\"\"\n",
        "\n",
        "    features_d = []\n",
        "    features_c = []\n",
        "\n",
        "    for feature, domain in feature_domains.items():\n",
        "        if (isinstance(domain, list)): # or (domain is str)\n",
        "            features_d.append(feature)\n",
        "        elif callable(domain) and isinstance(domain, type(lambda x: x)):\n",
        "            features_c.append(feature)\n",
        "        else:\n",
        "            pass\n",
        "\n",
        "    return features_d, features_c\n",
        "\n",
        "# >>>\n",
        "features_discrete, features_continuous = get_features_d_c(ds3_gt_feature_domains)\n",
        "print(f\"Discrete: {features_discrete}\")\n",
        "print(f\"Continuous: {features_continuous}\")\n"
      ],
      "metadata": {
        "colab": {
          "base_uri": "https://localhost:8080/"
        },
        "id": "pS3v0g4lok8a",
        "outputId": "6f9b83e9-37a7-477f-d96f-f341ab596436"
      },
      "execution_count": 3,
      "outputs": [
        {
          "output_type": "stream",
          "name": "stdout",
          "text": [
            "Discrete: ['page_template', 'page_menu_or']\n",
            "Continuous: ['page_ungrouped_multim', 'metric', 'page_load_time_ms', 'page_width', 'page_height', 'NDOM_nodes', 'NDOM_height', 'task1', 'task2', 'task3', 'task4', 'task5', 'task6', 'task7', 'task8']\n"
          ]
        }
      ]
    },
    {
      "cell_type": "markdown",
      "source": [
        "### Encoding delle feature discrete\n",
        "\n",
        "Controlliamo il modo in cui le feature sono rappresentate all'interno DS."
      ],
      "metadata": {
        "id": "9C1ki0a2nevL"
      }
    },
    {
      "cell_type": "code",
      "source": [
        "df.dtypes"
      ],
      "metadata": {
        "colab": {
          "base_uri": "https://localhost:8080/"
        },
        "id": "q_lUwJg-o7Ei",
        "outputId": "52e0b1ba-6c2e-4525-cb72-ee53766af3fc"
      },
      "execution_count": 4,
      "outputs": [
        {
          "output_type": "execute_result",
          "data": {
            "text/plain": [
              "school_id                 object\n",
              "page_url                  object\n",
              "page_load_time_ms          int64\n",
              "page_width                 int64\n",
              "page_height                int64\n",
              "NDOM_nodes                 int64\n",
              "NDOM_height                int64\n",
              "page_template            float64\n",
              "page_menu_or             float64\n",
              "page_ungrouped_multim    float64\n",
              "metric                   float64\n",
              "task1                    float64\n",
              "task2                    float64\n",
              "task3                    float64\n",
              "task4                    float64\n",
              "task5                    float64\n",
              "task6                    float64\n",
              "task7                    float64\n",
              "task8                    float64\n",
              "dtype: object"
            ]
          },
          "metadata": {},
          "execution_count": 4
        }
      ]
    },
    {
      "cell_type": "markdown",
      "source": [
        "Come possiamo vedere, tutte le feature che abbiamo  discrete (`page_template`, `page_menu_or`, `page_ungrouped_multim`) sono già rappresentate in forma numerica, per cui non c'è bisogno di usare nessuno degli [Encoder](https://scikit-learn.org/stable/modules/generated/sklearn.preprocessing.LabelEncoder.html) previsti dalla libreria scikit-learn. Piuttosto, facciamo in modo che le feature discrete vengano rappresentate  da numeri `int64` e non da `float64`."
      ],
      "metadata": {
        "id": "rHvWP6lio-wY"
      }
    },
    {
      "cell_type": "code",
      "source": [
        "import numpy as np\n",
        "\n",
        "float64 = np.dtype('float64')\n",
        "\n",
        "for feature_d in features_discrete:\n",
        "    if df[feature_d].dtype is float64:\n",
        "        df[feature_d] = df[feature_d].astype(np.int64)\n",
        "\n",
        "# >>>\n",
        "df.dtypes"
      ],
      "metadata": {
        "colab": {
          "base_uri": "https://localhost:8080/"
        },
        "id": "75rK3V5zwjjG",
        "outputId": "08046619-b923-4863-c6f0-dbcd09d08eb4"
      },
      "execution_count": 5,
      "outputs": [
        {
          "output_type": "execute_result",
          "data": {
            "text/plain": [
              "school_id                 object\n",
              "page_url                  object\n",
              "page_load_time_ms          int64\n",
              "page_width                 int64\n",
              "page_height                int64\n",
              "NDOM_nodes                 int64\n",
              "NDOM_height                int64\n",
              "page_template              int64\n",
              "page_menu_or               int64\n",
              "page_ungrouped_multim    float64\n",
              "metric                   float64\n",
              "task1                    float64\n",
              "task2                    float64\n",
              "task3                    float64\n",
              "task4                    float64\n",
              "task5                    float64\n",
              "task6                    float64\n",
              "task7                    float64\n",
              "task8                    float64\n",
              "dtype: object"
            ]
          },
          "metadata": {},
          "execution_count": 5
        }
      ]
    },
    {
      "cell_type": "markdown",
      "source": [
        "### Rilevazione righe con rumore\n",
        "Controlliamo se esistono valori del DS che non rietrano nei rispettivi domini."
      ],
      "metadata": {
        "id": "IH636c4XbAzC"
      }
    },
    {
      "cell_type": "code",
      "source": [
        "from pandas import DataFrame\n",
        "\n",
        "def is_in_feature_domain(domain, value) -> bool:\n",
        "    \"\"\"Dato il dominio di una feature, restituisce True se value compare nel dominio,\n",
        "    False altrimenti.\n",
        "\n",
        "    Args:\n",
        "        - domain: Dominio di una feature. Può essere un tipo (es. str), una lista o una funzione lambda.\n",
        "        - value: Valore da controllare.\n",
        "    \"\"\"\n",
        "\n",
        "    if domain is str:\n",
        "        return isinstance(value, str)\n",
        "\n",
        "    elif isinstance(domain, list):\n",
        "        return value in domain\n",
        "\n",
        "    elif callable(domain) and isinstance(domain, type(lambda x: x)):\n",
        "        return domain(value)\n",
        "\n",
        "    else:\n",
        "        return False\n",
        "\n",
        "\n",
        "def detect_noisy_rows_values(df: DataFrame, domains: dict):\n",
        "    \"\"\"Rileva quali sono le righe del DS df in cui almeno una feature non è corretta,\n",
        "    cioè non rientra nel suo dominio.\n",
        "\n",
        "    Args:\n",
        "        - df: Istanza Dataframe.\n",
        "        - ds_feature_domains: Dizionario feature:funzione di validazione.\n",
        "\n",
        "    Returns:\n",
        "        - noisy_rows: Righe in cui esiste almeno una colonna con valori errati.\n",
        "        - noisy_cols: Colonne i cui valori in corrispondenza sono errati.\n",
        "    \"\"\"\n",
        "\n",
        "    print(\"Detecting noisy rows...\")\n",
        "    noisy_rows = set()\n",
        "    noisy_cols = set()\n",
        "\n",
        "    for column in list(domains.keys()):\n",
        "        serie = df[column]\n",
        "\n",
        "        for i, el in serie.items():\n",
        "            if not is_in_feature_domain(domains[column], el):\n",
        "                noisy_rows.add(i)\n",
        "                noisy_cols.add(df.columns.get_loc(column))\n",
        "\n",
        "    if noisy_rows:\n",
        "        print(f\"{len(noisy_rows)} noisy rows exist! Please check them.\")\n",
        "    else:\n",
        "        print(\"No noisy rows exist.\")\n",
        "\n",
        "    return list(noisy_rows), list(noisy_cols)\n",
        "\n",
        "\n",
        "# >>>\n",
        "noisy_rows, noisy_cols = detect_noisy_rows_values(df, ds3_gt_feature_domains)\n",
        "\n",
        "if noisy_rows:\n",
        "  print(df.iloc[noisy_rows, noisy_cols])"
      ],
      "metadata": {
        "colab": {
          "base_uri": "https://localhost:8080/"
        },
        "id": "0vW4-g3lbrv5",
        "outputId": "30c09fd1-0790-4256-f8d4-b04e8abb5ad3"
      },
      "execution_count": 6,
      "outputs": [
        {
          "output_type": "stream",
          "name": "stdout",
          "text": [
            "Detecting noisy rows...\n",
            "3 noisy rows exist! Please check them.\n",
            "     page_menu_or  page_ungrouped_multim\n",
            "805             2                    4.2\n",
            "924            11                   24.0\n",
            "701             6                    6.0\n"
          ]
        }
      ]
    },
    {
      "cell_type": "markdown",
      "source": [
        "Ri-effetuiamo la valutazione per i siti che compaiono in questa lista e inseriamole in un nuovo DS."
      ],
      "metadata": {
        "id": "AUnPYfMD5u2A"
      }
    },
    {
      "cell_type": "code",
      "source": [
        "df1 = pd.read_csv(\"/content/drive/MyDrive/icon-745751/SCUANAGRAFE202324_3_gt_no_noise.csv\")\n",
        "\n",
        "# >>>\n",
        "noisy_rows, noisy_cols = detect_noisy_rows_values(df1, ds3_gt_feature_domains)\n",
        "\n",
        "if noisy_rows:\n",
        "  print(df1.iloc[noisy_rows, noisy_cols])"
      ],
      "metadata": {
        "colab": {
          "base_uri": "https://localhost:8080/"
        },
        "id": "zTGRpXdA6OYG",
        "outputId": "b53a5614-f71f-4c5e-c6f2-ddd465a56dbf"
      },
      "execution_count": 7,
      "outputs": [
        {
          "output_type": "stream",
          "name": "stdout",
          "text": [
            "Detecting noisy rows...\n",
            "No noisy rows exist.\n"
          ]
        }
      ]
    },
    {
      "cell_type": "markdown",
      "source": [
        "### Panoramica distribuzione valori di ciascuna feature e feature correlation\n",
        "\n",
        "Fino ad ora siamo giunti alla creazione del DS finale da usare per i modelli, ma non abbiamo ancora dato uno sguardo alla popolarità dei valori dei domini delle variabili. Per cui generiamo gli istogrammi correlati alle feature.\n",
        "\n",
        "Facciamo alcune osservazioni:\n",
        "- I template più popolari sono senza dubbio il #5 e #8, anche se c'è una buona quantità di siti che non seguono un modello vero e proprio (#9).\n",
        "- Riguardo all'orientamento dei menu, ~94% di siti presentano un menu orizzontale. ~20% di questi hanno anche un menu verticale.\n",
        "- Riguardo il numero di elementi multimediali non raggruppati, le pagine confermano il trend (se vogliamo negativo) di banner e/o video sparsi senza criterio sulla pagina: solo il ~19% ne presenta 0, tutti i restanti ne hanno almeno uno.\n",
        "- Per l'istogramma relativo alla metrica notiamo che la scala verticale si ferma a poco meno di 200, per cui non c'è un valore del dominio di metric che \"monopolizza\" il DS."
      ],
      "metadata": {
        "id": "wb0iGqw1Ak-5"
      }
    },
    {
      "cell_type": "code",
      "source": [
        "import matplotlib.pyplot as plt\n",
        "\n",
        "hist_columns = ds3_features_part1+ds3_features_part2 # + ds3_features_part3\n",
        "hist_columns.append(ds3_target)\n",
        "\n",
        "# >>>\n",
        "df1.hist(bins=25, column=hist_columns, figsize=(10,7))\n",
        "plt.suptitle(\"Distribution for each feature domain value (Tasks excluded)\")"
      ],
      "metadata": {
        "colab": {
          "base_uri": "https://localhost:8080/",
          "height": 687
        },
        "id": "w-VTqE1MB6D8",
        "outputId": "821aac44-55f8-47b4-82be-4c0cd31e830a"
      },
      "execution_count": 8,
      "outputs": [
        {
          "output_type": "execute_result",
          "data": {
            "text/plain": [
              "Text(0.5, 0.98, 'Distribution for each feature domain value (Tasks excluded)')"
            ]
          },
          "metadata": {},
          "execution_count": 8
        },
        {
          "output_type": "display_data",
          "data": {
            "text/plain": [
              "<Figure size 1000x700 with 9 Axes>"
            ],
            "image/png": "[encoded data removed]"
          },
          "metadata": {}
        }
      ]
    },
    {
      "cell_type": "markdown",
      "source": [
        "E' anche possibile visualizzare la correlazione che c'è tra ciascuna feature, e più in particolare, è di nostro interesse la misura con cui ciascuna input feature incide sulla feature target `metric`."
      ],
      "metadata": {
        "id": "RmkGQR10CAT8"
      }
    },
    {
      "cell_type": "code",
      "source": [
        "import seaborn as sns\n",
        "\n",
        "df1_correlation = df1.drop(ds3_features_pk+features_discrete, axis=1).corr(method=\"pearson\")\n",
        "sns.heatmap(df1_correlation, linewidths=0.5, linecolor='darkgray', cmap=\"coolwarm\")"
      ],
      "metadata": {
        "colab": {
          "base_uri": "https://localhost:8080/",
          "height": 613
        },
        "id": "Cl3UpXmwB053",
        "outputId": "c564aa35-3a28-47f0-a1f0-a1116716c9a7"
      },
      "execution_count": 9,
      "outputs": [
        {
          "output_type": "execute_result",
          "data": {
            "text/plain": [
              "<Axes: >"
            ]
          },
          "metadata": {},
          "execution_count": 9
        },
        {
          "output_type": "display_data",
          "data": {
            "text/plain": [
              "<Figure size 640x480 with 2 Axes>"
            ],
            "image/png": "[encoded data removed]"
          },
          "metadata": {}
        }
      ]
    },
    {
      "cell_type": "markdown",
      "source": [
        "### Creazione Training-Set (TS) e Test-Set (TE)\n",
        "\n",
        "Poichè il DS ha un numero basso di righe, è stato utilizzato il rapporto di splitting 70% (per il TS) e 30% (TE)."
      ],
      "metadata": {
        "id": "YD75S3ui81Wg"
      }
    },
    {
      "cell_type": "code",
      "source": [
        "from sklearn.model_selection import train_test_split\n",
        "\n",
        "ds3_features_excluded = ds3_features_pk + ds3_features_part1\n",
        "ds3_features_excluded.append(ds3_target)\n",
        "\n",
        "# X (tabella con colonne input feature) e y (tabella target)\n",
        "X = df1.drop(ds3_features_excluded, axis=1)\n",
        "y = df1[ds3_target]\n",
        "\n",
        "X_TS, X_TE, gt_y_TS, gt_y_TE = train_test_split(X, y, test_size=0.3, random_state=42)\n",
        "\n",
        "# creazione dizionario performances\n",
        "performances = dict()"
      ],
      "metadata": {
        "id": "bN3-772_5DOE"
      },
      "execution_count": 10,
      "outputs": []
    },
    {
      "cell_type": "markdown",
      "source": [
        "## Modelli di regressione\n",
        "\n",
        "In questa sezione cerchiamo il/i modello/i che si avvicina di più al Ground Truth, mettendoli tutti su una stessa scala di giudizio, ovvero le metriche di misurazione degli errori. In questo progetto, assumiamo che le metriche di un qualsiasi modello di apprendimento devono essere calcolate facendo in modo che il modello possa sfruttare tutti i dati dell'intero DS. Per questo motivo, possiamo dire che la tecnica di [k-fold Cross Validation](https://scikit-learn.org/stable/modules/cross_validation.html) verrà impiegata in due casistiche:\n",
        "- quando vogliamo ottenere delle metriche di errore affidabili per un determinato modello, a prescindere dal numero di iperparametri da configurare.\n",
        "- quando vogliamo trovare una configurazione ottimale di iperparametri per un determinato modello."
      ],
      "metadata": {
        "id": "EFNLdl1Am_q-"
      }
    },
    {
      "cell_type": "markdown",
      "source": [
        "### Regressore Lineare (0 iperp. considerati)\n",
        "\n",
        "Costruiamo un regressore lineare, tenendo conto che non ci sono iperparametri da ottimizzare."
      ],
      "metadata": {
        "id": "rxnlPBJb8JzO"
      }
    },
    {
      "cell_type": "code",
      "source": [
        "from sklearn.linear_model import LinearRegression\n",
        "\n",
        "# modello\n",
        "model_name = \"Regressore Lineare\"\n",
        "reglin = LinearRegression()\n",
        "reglin.fit(X_TS, gt_y_TS)\n",
        "\n",
        "# predizione\n",
        "reglin_y_TS = reglin.predict(X_TS)\n",
        "# i valori predetti < 1 (o > 5) vengono fixati a 1 e 5\n",
        "#reglin_y_TS = np.clip(reglin_y_TS, METRIC_MIN_VAL, METRIC_MAX_VAL)\n",
        "\n",
        "reglin_y_TE = reglin.predict(X_TE)\n",
        "#reglin_y_TE = np.clip(reglin_y_TE, METRIC_MIN_VAL, METRIC_MAX_VAL)"
      ],
      "metadata": {
        "id": "qS9IvXWMBVAn"
      },
      "execution_count": 11,
      "outputs": []
    },
    {
      "cell_type": "markdown",
      "source": [
        "#### Cambio categoria e penalità applicata all'errore\n",
        "\n",
        "Dopo aver costruito il modello, diamo un'occhiata ai valori effettivi della feature target (nel TS) e le relative previsioni."
      ],
      "metadata": {
        "id": "19JIzEOEOlXV"
      }
    },
    {
      "cell_type": "code",
      "source": [
        "gt_y_TS # fisso"
      ],
      "metadata": {
        "colab": {
          "base_uri": "https://localhost:8080/"
        },
        "id": "gEN8xxQepooE",
        "outputId": "cadb4625-f442-423e-f318-07ffaa6b40e5"
      },
      "execution_count": 12,
      "outputs": [
        {
          "output_type": "execute_result",
          "data": {
            "text/plain": [
              "1297    3.5\n",
              "620     3.6\n",
              "1193    4.4\n",
              "139     4.5\n",
              "1165    2.9\n",
              "       ... \n",
              "1095    4.4\n",
              "1130    3.0\n",
              "1294    3.5\n",
              "860     3.5\n",
              "1126    3.6\n",
              "Name: metric, Length: 930, dtype: float64"
            ]
          },
          "metadata": {},
          "execution_count": 12
        }
      ]
    },
    {
      "cell_type": "code",
      "source": [
        "from pandas import Series\n",
        "\n",
        "# >>>\n",
        "Series(reglin_y_TS) # fisso"
      ],
      "metadata": {
        "colab": {
          "base_uri": "https://localhost:8080/"
        },
        "id": "Ed9_oPLqpO1H",
        "outputId": "1459fab9-c1f2-49d9-eb2b-15f3e7ae636e"
      },
      "execution_count": 13,
      "outputs": [
        {
          "output_type": "execute_result",
          "data": {
            "text/plain": [
              "0      3.798217\n",
              "1      3.782822\n",
              "2      3.829767\n",
              "3      3.861078\n",
              "4      3.826994\n",
              "         ...   \n",
              "925    3.822869\n",
              "926    3.735890\n",
              "927    3.833909\n",
              "928    3.802649\n",
              "929    3.817001\n",
              "Length: 930, dtype: float64"
            ]
          },
          "metadata": {},
          "execution_count": 13
        }
      ]
    },
    {
      "cell_type": "markdown",
      "source": [
        "Calcoliamo manualmente l'errore che otteniamo. Questa operazione sarà poi ottimizzata, ma per il momento lo facciamo per avere una panoramica sulle percentuali di errore fatte dal modello."
      ],
      "metadata": {
        "id": "3iYjaKHUPXKj"
      }
    },
    {
      "cell_type": "code",
      "source": [
        "err = np.subtract(reglin_y_TS, gt_y_TS) # fisso\n",
        "\n",
        "# >>>\n",
        "err"
      ],
      "metadata": {
        "colab": {
          "base_uri": "https://localhost:8080/"
        },
        "id": "qAfwa2-3pzN0",
        "outputId": "72b034e5-ff03-4307-9064-d90727988c15"
      },
      "execution_count": 14,
      "outputs": [
        {
          "output_type": "execute_result",
          "data": {
            "text/plain": [
              "1297    0.298217\n",
              "620     0.182822\n",
              "1193   -0.570233\n",
              "139    -0.638922\n",
              "1165    0.926994\n",
              "          ...   \n",
              "1095   -0.577131\n",
              "1130    0.735890\n",
              "1294    0.333909\n",
              "860     0.302649\n",
              "1126    0.217001\n",
              "Name: metric, Length: 930, dtype: float64"
            ]
          },
          "metadata": {},
          "execution_count": 14
        }
      ]
    },
    {
      "cell_type": "markdown",
      "source": [
        "Il calcolo \"manuale\" dell'errore che il modello fa sul target **di questo specifico TS** è stato fatto per poter vedere quante volte il modello fa una previsione che si discosta dal valore attuale di una certa percentuale. L'istogramma generato di seguito ha solo funzione informativa e solo in questa evenienza si è calcolato l'errore con segno. In seguito, quando si andrà a calcolare le metriche dei modelli, si useranno le metriche convenzionali di misurazione dell'errore.\n",
        "\n",
        "Sull'asse X dell'istogramma ci sono le possibili percentuali di errore (da -100% a 100%) ad indicare il fatto che il modello può fare una previsione con un errore percentuale negativo (il modello predice una valutazione minore della valutazione reale), uguale a 0, o positivo.\n",
        "Ad es. un errore -100% si verifica quando il valore attuale di `metric` è 5 e il modello predice 1. In corrispondenza di una percentuale, sull'asse Y il grafico dice per quanti esempi del TS il modello fa una predizione con questo errore percentuale."
      ],
      "metadata": {
        "id": "Z8LptErU8fHD"
      }
    },
    {
      "cell_type": "code",
      "source": [
        "# siccome abbiamo applicato la funzione clip sull'array delle previsioni,\n",
        "# conosciamo il valore di un ipotetico errore massimo\n",
        "max_error = METRIC_MAX_VAL - METRIC_MIN_VAL\n",
        "\n",
        "def calc_err_percentage(x):\n",
        "    perc = float((x*100)/max_error)\n",
        "    return int(perc)\n",
        "\n",
        "# creo una nuova serie che associa ad ogni elemento la sua percentuale di errore\n",
        "err_percentage = err.apply(calc_err_percentage)\n",
        "\n",
        "err_percentage_count = err_percentage.value_counts()\n",
        "err_percentage_count = err_percentage_count.reindex(range(-100, 101), fill_value=0)\n",
        "err_percentage_count = err_percentage_count.sort_index()\n",
        "\n",
        "# >>>\n",
        "err_percentage_count.plot(kind='bar', figsize=(15,5))"
      ],
      "metadata": {
        "colab": {
          "base_uri": "https://localhost:8080/",
          "height": 465
        },
        "id": "eXdqLGMc39Ro",
        "outputId": "82502cbe-096d-4485-9f0b-0d8b9dd81945"
      },
      "execution_count": 17,
      "outputs": [
        {
          "output_type": "execute_result",
          "data": {
            "text/plain": [
              "<Axes: >"
            ]
          },
          "metadata": {},
          "execution_count": 17
        },
        {
          "output_type": "display_data",
          "data": {
            "text/plain": [
              "<Figure size 1500x500 with 1 Axes>"
            ],
            "image/png": "[encoded data removed]"
          },
          "metadata": {}
        }
      ]
    },
    {
      "cell_type": "markdown",
      "source": [
        "Il modello (sugli esempi di questo specifico TS) non fa errori molto gravi (vale a dire errori minori del -50% o maggiori del 40%) ma possiamo fare una osservazione.\n",
        "\n",
        "Consideriamo una pagina web per il quale la valutazione è 3.2. Se il modello fa un errore (anche piccolo) di -0.4 punti, si verifica un vero e proprio cambio categoria: il sito teoricamente è *Accettabile*, ma il modello lo classifica come *Confuso*. Situazione diversa si ha se il modello fa un errore (ancora piccolo) di 0.4 punti, e quindi il modello predice il valore 3.6, senza che si verifica un cambio categoria.\n",
        "\n",
        "**Sarebbe corretto in questa casistica parlare di errori equivalenti?** Si ipotizza di no, per cui si introduce un errore aggiuntivo che il modello compie qualora vada a cambiare una categoria. In altre parole, stiamo \"forzando\" i modelli che addestreremo a compiere un errore quanto più basso possibile soprattutto per le pagine la cui valutazione è a un'estremità (inferiore o superiore) della categoria corrente.\n",
        "\n",
        "La penalità che calcoliamo viene definita con la funzione `calc_err_penalty` che si comporta nel seguente modo:\n",
        "- se non c'è un cambio categoria, l'errore del modello non subisce una ulteriore penalità.\n",
        "- se c'è un cambio categoria allora viene applicata la penalità, che dipende dal numero di categorie tra quella attuale e quella prevista. Eventualmente, possiamo anche prevedere delle penalità più severe se il modello predice una categoria peggiore rispetto a quella attuale (`page_category_shift` < 0)\n",
        "\n",
        "Il comportamento di questa funzione è visibile da questo [grafico](https://www.desmos.com/calculator/bizzgpum9h?lang=it). Avremmo potuto implementare questa funzione con un semplice if-else, però il grafico (poichè non è simmetrico all'asse Y) evidenzia il fatto delle penalità più severe quando `page_category_shift` < 0. Infine, dobbiamo precisare che le penalità relative a quando `page_category_shift` < 0 devono avere segno negativo, altrimenti andrebbero contro il nostro intento. Per comodità, nel grafico, tutte le penalità hanno segno positivo."
      ],
      "metadata": {
        "id": "848LfpiIY8R2"
      }
    },
    {
      "cell_type": "code",
      "source": [
        "def calc_err_penalty(y_gt, y_pred):\n",
        "    \"\"\" Calcola la penalità da sommare all'errore qualora c'è un cambio categoria.\n",
        "\n",
        "    Args:\n",
        "        - y_gt: Target attuale.\n",
        "        - y_pred: Target previsto dal modello (include un errore).\n",
        "    \"\"\"\n",
        "\n",
        "    pred_category = int(y_pred) # positivo\n",
        "    gt_category = int(y_gt) # positivo\n",
        "\n",
        "    page_category_shift = pred_category - gt_category\n",
        "    #page_category_shift può essere < 0 (modello predice categoria più bassa)\n",
        "    # = 0 (stessa categoria)\n",
        "    # > 0 (modello predice categoria più alta)\n",
        "\n",
        "    if page_category_shift == 0:\n",
        "        return y_pred\n",
        "\n",
        "    elif (page_category_shift < 0 and gt_category <= METRIC_MIN_VAL) or \\\n",
        "        (page_category_shift > 0 and gt_category >= METRIC_MAX_VAL - 1):\n",
        "        # c'è un cambio categoria ma non lo consideriamo tale\n",
        "        return y_pred\n",
        "\n",
        "    else:\n",
        "        # calcolo penalty\n",
        "        a = 0.01\n",
        "        b = -0.004\n",
        "        c = 0.165\n",
        "        penalty = (((a)*(page_category_shift**2))+\n",
        "                ((b)*page_category_shift)+\n",
        "                (c)\n",
        "        )\n",
        "        if page_category_shift < 0:\n",
        "            penalty = penalty*(-1)\n",
        "        # ---\n",
        "\n",
        "        err_category = int(y_pred + penalty) # positivo\n",
        "\n",
        "        if pred_category == err_category:\n",
        "            return y_pred + penalty\n",
        "\n",
        "        # evito che la penalità sia eccessiva\n",
        "        elif page_category_shift < 0:\n",
        "            return y_pred + (pred_category - y_pred) #y_pred + (<0)\n",
        "        else:\n",
        "            #return y_pred + (penalty - (y_pred + penalty - err_category + 0.1))\n",
        "            return y_pred + (err_category - y_pred - 0.1)\n",
        "\n",
        "# vettorizza funzione\n",
        "vcalc_err_penalty = np.vectorize(calc_err_penalty, otypes=[float])"
      ],
      "metadata": {
        "id": "JyLSsTjzp1Ff"
      },
      "execution_count": 18,
      "outputs": []
    },
    {
      "cell_type": "code",
      "source": [
        "reglin_y_TS = vcalc_err_penalty(gt_y_TS, reglin_y_TS)\n",
        "reglin_y_TS = np.clip(reglin_y_TS, METRIC_MIN_VAL, METRIC_MAX_VAL)\n",
        "\n",
        "# >>>\n",
        "Series(reglin_y_TS)"
      ],
      "metadata": {
        "colab": {
          "base_uri": "https://localhost:8080/"
        },
        "id": "n5I2ub2cilh9",
        "outputId": "baa6f815-46e3-4a87-bb89-cf6e1a2fc49b"
      },
      "execution_count": 19,
      "outputs": [
        {
          "output_type": "execute_result",
          "data": {
            "text/plain": [
              "0      3.798217\n",
              "1      3.782822\n",
              "2      3.650767\n",
              "3      3.682078\n",
              "4      3.997994\n",
              "         ...   \n",
              "925    3.643869\n",
              "926    3.735890\n",
              "927    3.833909\n",
              "928    3.802649\n",
              "929    3.817001\n",
              "Length: 930, dtype: float64"
            ]
          },
          "metadata": {},
          "execution_count": 19
        }
      ]
    },
    {
      "cell_type": "markdown",
      "source": [
        "Aggiorniamo le predizioni che il Regressore Lineare fa sul TS (già fatto) e TE."
      ],
      "metadata": {
        "id": "eUoGtlZWpaDH"
      }
    },
    {
      "cell_type": "code",
      "source": [
        "#reglin_y_TS = vcalc_err_penalty(gt_y_TS, reglin_y_TS)\n",
        "#reglin_y_TS = np.clip(reglin_y_TS, METRIC_MIN_VAL, METRIC_MAX_VAL)\n",
        "\n",
        "reglin_y_TE = vcalc_err_penalty(gt_y_TE, reglin_y_TE)\n",
        "reglin_y_TE = np.clip(reglin_y_TE, METRIC_MIN_VAL, METRIC_MAX_VAL)"
      ],
      "metadata": {
        "id": "_OsiWIoTo-ee"
      },
      "execution_count": null,
      "outputs": []
    },
    {
      "cell_type": "markdown",
      "source": [
        "Calcoliamo le metriche delle performance di questo modello sui dati del TE."
      ],
      "metadata": {
        "id": "dSxGItGgqtUw"
      }
    },
    {
      "cell_type": "code",
      "source": [
        "from sklearn.metrics import mean_absolute_error, mean_squared_error, r2_score\n",
        "\n",
        "# performance\n",
        "reglin_perf = dict()\n",
        "reglin_perf[\"MAE (TS)\"] = mean_absolute_error(gt_y_TS, reglin_y_TS)\n",
        "reglin_perf[\"MSE (TS)\"] = mean_squared_error(gt_y_TS, reglin_y_TS)\n",
        "reglin_perf[\"RMSE (TS)\"] = mean_squared_error(gt_y_TS, reglin_y_TS, squared=False)\n",
        "reglin_perf[\"R^2 (TS)\"] = r2_score(gt_y_TS, reglin_y_TS)\n",
        "\n",
        "reglin_perf[\"MAE (TE)\"] = mean_absolute_error(gt_y_TE, reglin_y_TE)\n",
        "reglin_perf[\"MSE (TE)\"] = mean_squared_error(gt_y_TE, reglin_y_TE)\n",
        "reglin_perf[\"RMSE (TE)\"] = mean_squared_error(gt_y_TE, reglin_y_TE, squared=False)\n",
        "reglin_perf[\"R^2 (TE)\"] = r2_score(gt_y_TE, reglin_y_TE)\n",
        "\n",
        "reglin_perf_table = pd.DataFrame(reglin_perf, index=[model_name])\n",
        "\n",
        "# aggiungi alla raccolta delle performances\n",
        "performances[model_name] = reglin_perf\n",
        "\n",
        "# >>>\n",
        "reglin_perf_table"
      ],
      "metadata": {
        "colab": {
          "base_uri": "https://localhost:8080/",
          "height": 81
        },
        "id": "8Nz54hg4rH2t",
        "outputId": "14f32bb7-e5f0-4c86-d9ae-208efd0a6dc9"
      },
      "execution_count": null,
      "outputs": [
        {
          "output_type": "execute_result",
          "data": {
            "text/plain": [
              "                    MAE (TS)  MSE (TS)  RMSE (TS)  R^2 (TS)  MAE (TE)  \\\n",
              "Regressore Lineare  0.508605  0.344285   0.586758 -0.340711  0.513798   \n",
              "\n",
              "                    MSE (TE)  RMSE (TE)  R^2 (TE)  \n",
              "Regressore Lineare  0.360866   0.600722 -0.370697  "
            ],
            "text/html": [
              "\n",
              "  <div id=\"df-edd38a8a-ccda-45f6-bd5e-b8df153c6f6e\" class=\"colab-df-container\">\n",
              "    <div>\n",
              "<style scoped>\n",
              "    .dataframe tbody tr th:only-of-type {\n",
              "        vertical-align: middle;\n",
              "    }\n",
              "\n",
              "    .dataframe tbody tr th {\n",
              "        vertical-align: top;\n",
              "    }\n",
              "\n",
              "    .dataframe thead th {\n",
              "        text-align: right;\n",
              "    }\n",
              "</style>\n",
              "<table border=\"1\" class=\"dataframe\">\n",
              "  <thead>\n",
              "    <tr style=\"text-align: right;\">\n",
              "      <th></th>\n",
              "      <th>MAE (TS)</th>\n",
              "      <th>MSE (TS)</th>\n",
              "      <th>RMSE (TS)</th>\n",
              "      <th>R^2 (TS)</th>\n",
              "      <th>MAE (TE)</th>\n",
              "      <th>MSE (TE)</th>\n",
              "      <th>RMSE (TE)</th>\n",
              "      <th>R^2 (TE)</th>\n",
              "    </tr>\n",
              "  </thead>\n",
              "  <tbody>\n",
              "    <tr>\n",
              "      <th>Regressore Lineare</th>\n",
              "      <td>0.508605</td>\n",
              "      <td>0.344285</td>\n",
              "      <td>0.586758</td>\n",
              "      <td>-0.340711</td>\n",
              "      <td>0.513798</td>\n",
              "      <td>0.360866</td>\n",
              "      <td>0.600722</td>\n",
              "      <td>-0.370697</td>\n",
              "    </tr>\n",
              "  </tbody>\n",
              "</table>\n",
              "</div>\n",
              "    <div class=\"colab-df-buttons\">\n",
              "\n",
              "  <div class=\"colab-df-container\">\n",
              "    <button class=\"colab-df-convert\" onclick=\"convertToInteractive('df-edd38a8a-ccda-45f6-bd5e-b8df153c6f6e')\"\n",
              "            title=\"Convert this dataframe to an interactive table.\"\n",
              "            style=\"display:none;\">\n",
              "\n",
              "  <svg xmlns=\"http://www.w3.org/2000/svg\" height=\"24px\" viewBox=\"0 -960 960 960\">\n",
              "    <path d=\"M120-120v-720h720v720H120Zm60-500h600v-160H180v160Zm220 220h160v-160H400v160Zm0 220h160v-160H400v160ZM180-400h160v-160H180v160Zm440 0h160v-160H620v160ZM180-180h160v-160H180v160Zm440 0h160v-160H620v160Z\"/>\n",
              "  </svg>\n",
              "    </button>\n",
              "\n",
              "  <style>\n",
              "    .colab-df-container {\n",
              "      display:flex;\n",
              "      gap: 12px;\n",
              "    }\n",
              "\n",
              "    .colab-df-convert {\n",
              "      background-color: #E8F0FE;\n",
              "      border: none;\n",
              "      border-radius: 50%;\n",
              "      cursor: pointer;\n",
              "      display: none;\n",
              "      fill: #1967D2;\n",
              "      height: 32px;\n",
              "      padding: 0 0 0 0;\n",
              "      width: 32px;\n",
              "    }\n",
              "\n",
              "    .colab-df-convert:hover {\n",
              "      background-color: #E2EBFA;\n",
              "      box-shadow: 0px 1px 2px rgba(60, 64, 67, 0.3), 0px 1px 3px 1px rgba(60, 64, 67, 0.15);\n",
              "      fill: #174EA6;\n",
              "    }\n",
              "\n",
              "    .colab-df-buttons div {\n",
              "      margin-bottom: 4px;\n",
              "    }\n",
              "\n",
              "    [theme=dark] .colab-df-convert {\n",
              "      background-color: #3B4455;\n",
              "      fill: #D2E3FC;\n",
              "    }\n",
              "\n",
              "    [theme=dark] .colab-df-convert:hover {\n",
              "      background-color: #434B5C;\n",
              "      box-shadow: 0px 1px 3px 1px rgba(0, 0, 0, 0.15);\n",
              "      filter: drop-shadow(0px 1px 2px rgba(0, 0, 0, 0.3));\n",
              "      fill: #FFFFFF;\n",
              "    }\n",
              "  </style>\n",
              "\n",
              "    <script>\n",
              "      const buttonEl =\n",
              "        document.querySelector('#df-edd38a8a-ccda-45f6-bd5e-b8df153c6f6e button.colab-df-convert');\n",
              "      buttonEl.style.display =\n",
              "        google.colab.kernel.accessAllowed ? 'block' : 'none';\n",
              "\n",
              "      async function convertToInteractive(key) {\n",
              "        const element = document.querySelector('#df-edd38a8a-ccda-45f6-bd5e-b8df153c6f6e');\n",
              "        const dataTable =\n",
              "          await google.colab.kernel.invokeFunction('convertToInteractive',\n",
              "                                                    [key], {});\n",
              "        if (!dataTable) return;\n",
              "\n",
              "        const docLinkHtml = 'Like what you see? Visit the ' +\n",
              "          '<a target=\"_blank\" href=https://colab.research.google.com/notebooks/data_table.ipynb>data table notebook</a>'\n",
              "          + ' to learn more about interactive tables.';\n",
              "        element.innerHTML = '';\n",
              "        dataTable['output_type'] = 'display_data';\n",
              "        await google.colab.output.renderOutput(dataTable, element);\n",
              "        const docLink = document.createElement('div');\n",
              "        docLink.innerHTML = docLinkHtml;\n",
              "        element.appendChild(docLink);\n",
              "      }\n",
              "    </script>\n",
              "  </div>\n",
              "\n",
              "    </div>\n",
              "  </div>\n"
            ]
          },
          "metadata": {},
          "execution_count": 18
        }
      ]
    },
    {
      "cell_type": "markdown",
      "source": [
        "### Regressore SVM (2 iperp. considerati)\n",
        "\n"
      ],
      "metadata": {
        "id": "K00AFXye7uqW"
      }
    },
    {
      "cell_type": "code",
      "source": [
        "from sklearn.svm import SVR\n",
        "from itertools import product\n",
        "\n",
        "regSVR_params = {\n",
        "    'kernel': ['linear', 'rbf'],\n",
        "    'epsilon': [0.1, 0.2, 0.3]\n",
        "}\n",
        "\n",
        "# prodotto cartesiano di tutti i domini degli iperparametri\n",
        "regSVR_param_combos = list(product(*list(regSVR_params.values())))\n",
        "\n",
        "# creazione del modello con una specifica combinazione di iperparametri\n",
        "for combo in regSVR_param_combos:\n",
        "    kernel = combo[0]\n",
        "    epsilon = combo[1]\n",
        "\n",
        "    # modello\n",
        "    regSVR = SVR(kernel=kernel, epsilon=epsilon)\n",
        "    model_name = f\"SVR {combo}\"\n",
        "\n",
        "    # predizione\n",
        "    regSVR_y_TS = regSVR.predict(X_TS)\n",
        "    regSVR_y_TS = vcalc_err_penalty(gt_y_TS, regSVR_y_TS)\n",
        "    regSVR_y_TS = np.clip(regSVR_y_TS, METRIC_MIN_VAL, METRIC_MAX_VAL)\n",
        "\n",
        "    regSVR_y_TE = regSVR.predict(X_TE)\n",
        "    regSVR_y_TE = vcalc_err_penalty(gt_y_TE, regSVR_y_TE)\n",
        "    regSVR_y_TE = np.clip(regSVR_y_TE, METRIC_MIN_VAL, METRIC_MAX_VAL)\n",
        "\n",
        "    # performance\n",
        "    reglin_perf = dict()\n",
        "    reglin_perf[\"MAE (TS)\"] = mean_absolute_error(gt_y_TS, reglin_y_TS)\n",
        "    reglin_perf[\"MSE (TS)\"] = mean_squared_error(gt_y_TS, reglin_y_TS)\n",
        "    reglin_perf[\"RMSE (TS)\"] = mean_squared_error(gt_y_TS, reglin_y_TS, squared=False)\n",
        "    reglin_perf[\"R^2 (TS)\"] = r2_score(gt_y_TS, reglin_y_TS)\n",
        "\n",
        "    reglin_perf[\"MAE (TE)\"] = mean_absolute_error(gt_y_TE, reglin_y_TE)\n",
        "    reglin_perf[\"MSE (TE)\"] = mean_squared_error(gt_y_TE, reglin_y_TE)\n",
        "    reglin_perf[\"RMSE (TE)\"] = mean_squared_error(gt_y_TE, reglin_y_TE, squared=False)\n",
        "    reglin_perf[\"R^2 (TE)\"] = r2_score(gt_y_TE, reglin_y_TE)\n",
        "\n",
        "    reglin_perf_table = pd.DataFrame(reglin_perf, index=[model_name])\n",
        "\n",
        "\n",
        "reglin_y_TE = reglin.predict(X_TE)\n",
        "reglin_y_TE = np.clip(reglin_y_TE, METRIC_MIN_VAL, METRIC_MAX_VAL)\n",
        "\n",
        "reglin_y_TE = vcalc_err_penalty(gt_y_TE, reglin_y_TE)\n",
        "reglin_y_TE = np.clip(reglin_y_TE, METRIC_MIN_VAL, METRIC_MAX_VAL)\n",
        "\n",
        "\n",
        "# modello\n",
        "\n",
        "dom_kernel = ['linear', 'rbf']\n",
        "dom_epsilon = [0.1, 0.2, 0.3]\n",
        "\n",
        "'''\n",
        "for ip_kernel in dom_kernel:\n",
        "\n",
        "\n",
        "\n",
        "\n",
        "\n",
        "regrSVR_cv = GridSearchCV(regrSVR, regrSVR_params)\n",
        "regrSVR_cv.fit(X_TS, gt_y_TS)\n",
        "\n",
        "sorted(regrSVR_cv.cv_results_.keys())\n",
        "regSVR = SVR()\n",
        "reglin.fit(X_TS, gt_y_TS)\n",
        "\n",
        "# predizione\n",
        "reglin_y_TS = reglin.predict(X_TS)\n",
        "# i valori predetti < 1 (o > 5) vengono fixati a 1 e 5\n",
        "reglin_y_TS = np.clip(reglin_y_TS, METRIC_MIN_VAL, METRIC_MAX_VAL)\n",
        "\n",
        "reglin_y_TE = reglin.predict(X_TE)\n",
        "reglin_y_TE = np.clip(reglin_y_TE, METRIC_MIN_VAL, METRIC_MAX_VAL)\n",
        "'''"
      ],
      "metadata": {
        "id": "g8LrgneqWi0N"
      },
      "execution_count": null,
      "outputs": []
    }
  ]
}